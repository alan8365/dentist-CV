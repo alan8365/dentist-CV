{
 "cells": [
  {
   "cell_type": "code",
   "execution_count": 1,
   "metadata": {
    "collapsed": true,
    "pycharm": {
     "name": "#%%\n"
    }
   },
   "outputs": [
    {
     "data": {
      "text/plain": "True"
     },
     "execution_count": 1,
     "metadata": {},
     "output_type": "execute_result"
    }
   ],
   "source": [
    "import os\n",
    "\n",
    "import torch\n",
    "from scipy import ndimage\n",
    "import math\n",
    "import json\n",
    "import numpy as np\n",
    "\n",
    "import cv2\n",
    "import matplotlib\n",
    "\n",
    "from matplotlib import pyplot as plt\n",
    "\n",
    "from tqdm import tqdm\n",
    "from pathlib import Path\n",
    "from dotenv import load_dotenv\n",
    "\n",
    "from utils.yolo import get_teeth_ROI\n",
    "from utils.edge import tooth_isolation, gum_jaw_separation, vertical_separation, bounding_teeth_on_origin\n",
    "from utils.preprocess import recovery_rotated_bounding, xyxy2xywh, get_image_by_labels, get_labels_by_image\n",
    "from utils.preprocess import xyxy_reformat, rotate_bounding_boxes, rect_include_another\n",
    "\n",
    "matplotlib.use('module://matplotlib_inline.backend_inline')\n",
    "load_dotenv()\n"
   ]
  },
  {
   "cell_type": "code",
   "execution_count": 2,
   "outputs": [
    {
     "data": {
      "text/plain": "                                caries  filling   endo   post  crown    R.R\nfilename                                                                   \n00006145                          True     True  False  False  False  False\n00008026                          True     True   True   True   True  False\n00008075                         False     True  False  False  False  False\n00008113                          True     True   True   True   True  False\n00008117                          True     True  False  False  False  False\n...                                ...      ...    ...    ...    ...    ...\n202012050412229432017_0781002A   False     True   True  False  False  False\n202012050912319351996_0970409A   False     True  False  False  False  False\n202012051012069362000_0760503A   False    False   True  False   True  False\n202012051012169372006_0690223A   False    False   True   True   True  False\n202012051012279382005_0621018A   False     True   True   True   True  False\n\n[504 rows x 6 columns]",
      "text/html": "<div>\n<style scoped>\n    .dataframe tbody tr th:only-of-type {\n        vertical-align: middle;\n    }\n\n    .dataframe tbody tr th {\n        vertical-align: top;\n    }\n\n    .dataframe thead th {\n        text-align: right;\n    }\n</style>\n<table border=\"1\" class=\"dataframe\">\n  <thead>\n    <tr style=\"text-align: right;\">\n      <th></th>\n      <th>caries</th>\n      <th>filling</th>\n      <th>endo</th>\n      <th>post</th>\n      <th>crown</th>\n      <th>R.R</th>\n    </tr>\n    <tr>\n      <th>filename</th>\n      <th></th>\n      <th></th>\n      <th></th>\n      <th></th>\n      <th></th>\n      <th></th>\n    </tr>\n  </thead>\n  <tbody>\n    <tr>\n      <th>00006145</th>\n      <td>True</td>\n      <td>True</td>\n      <td>False</td>\n      <td>False</td>\n      <td>False</td>\n      <td>False</td>\n    </tr>\n    <tr>\n      <th>00008026</th>\n      <td>True</td>\n      <td>True</td>\n      <td>True</td>\n      <td>True</td>\n      <td>True</td>\n      <td>False</td>\n    </tr>\n    <tr>\n      <th>00008075</th>\n      <td>False</td>\n      <td>True</td>\n      <td>False</td>\n      <td>False</td>\n      <td>False</td>\n      <td>False</td>\n    </tr>\n    <tr>\n      <th>00008113</th>\n      <td>True</td>\n      <td>True</td>\n      <td>True</td>\n      <td>True</td>\n      <td>True</td>\n      <td>False</td>\n    </tr>\n    <tr>\n      <th>00008117</th>\n      <td>True</td>\n      <td>True</td>\n      <td>False</td>\n      <td>False</td>\n      <td>False</td>\n      <td>False</td>\n    </tr>\n    <tr>\n      <th>...</th>\n      <td>...</td>\n      <td>...</td>\n      <td>...</td>\n      <td>...</td>\n      <td>...</td>\n      <td>...</td>\n    </tr>\n    <tr>\n      <th>202012050412229432017_0781002A</th>\n      <td>False</td>\n      <td>True</td>\n      <td>True</td>\n      <td>False</td>\n      <td>False</td>\n      <td>False</td>\n    </tr>\n    <tr>\n      <th>202012050912319351996_0970409A</th>\n      <td>False</td>\n      <td>True</td>\n      <td>False</td>\n      <td>False</td>\n      <td>False</td>\n      <td>False</td>\n    </tr>\n    <tr>\n      <th>202012051012069362000_0760503A</th>\n      <td>False</td>\n      <td>False</td>\n      <td>True</td>\n      <td>False</td>\n      <td>True</td>\n      <td>False</td>\n    </tr>\n    <tr>\n      <th>202012051012169372006_0690223A</th>\n      <td>False</td>\n      <td>False</td>\n      <td>True</td>\n      <td>True</td>\n      <td>True</td>\n      <td>False</td>\n    </tr>\n    <tr>\n      <th>202012051012279382005_0621018A</th>\n      <td>False</td>\n      <td>True</td>\n      <td>True</td>\n      <td>True</td>\n      <td>True</td>\n      <td>False</td>\n    </tr>\n  </tbody>\n</table>\n<p>504 rows × 6 columns</p>\n</div>"
     },
     "execution_count": 2,
     "metadata": {},
     "output_type": "execute_result"
    }
   ],
   "source": [
    "target_labels = ['caries', 'filling', 'endo', 'post', 'crown', 'R.R']\n",
    "image_labels_df = get_image_by_labels(target_labels)[target_labels]\n",
    "\n",
    "image_labels_df\n"
   ],
   "metadata": {
    "collapsed": false,
    "pycharm": {
     "name": "#%%\n"
    }
   }
  },
  {
   "cell_type": "code",
   "execution_count": null,
   "outputs": [],
   "source": [
    "data_dir = Path('..') / '..' / 'Datasets' / 'phase-2'\n",
    "tooth_position_dict = {\n",
    "    0: 'left',\n",
    "    1: 'middle',\n",
    "    2: 'right'\n",
    "}\n",
    "model = torch.hub.load(r'..\\YOLO', 'custom', path=r'..\\YOLO\\weights\\8-bound.pt', source='local')\n"
   ],
   "metadata": {
    "collapsed": false,
    "pycharm": {
     "name": "#%%\n"
    }
   }
  },
  {
   "cell_type": "code",
   "execution_count": 4,
   "outputs": [
    {
     "name": "stderr",
     "output_type": "stream",
     "text": [
      "  3%|▎         | 15/504 [00:30<16:49,  2.06s/it]\n"
     ]
    },
    {
     "ename": "KeyboardInterrupt",
     "evalue": "",
     "output_type": "error",
     "traceback": [
      "\u001B[1;31m---------------------------------------------------------------------------\u001B[0m",
      "\u001B[1;31mKeyboardInterrupt\u001B[0m                         Traceback (most recent call last)",
      "\u001B[1;32m<ipython-input-4-81ca9e2c151a>\u001B[0m in \u001B[0;36m<module>\u001B[1;34m\u001B[0m\n\u001B[0;32m     15\u001B[0m         \u001B[0mim_g_shape\u001B[0m \u001B[1;33m=\u001B[0m \u001B[0mnp\u001B[0m\u001B[1;33m.\u001B[0m\u001B[0marray\u001B[0m\u001B[1;33m(\u001B[0m\u001B[0mnp\u001B[0m\u001B[1;33m.\u001B[0m\u001B[0marray\u001B[0m\u001B[1;33m(\u001B[0m\u001B[0mim_g\u001B[0m\u001B[1;33m.\u001B[0m\u001B[0mshape\u001B[0m\u001B[1;33m)\u001B[0m\u001B[1;33m[\u001B[0m\u001B[1;33m[\u001B[0m\u001B[1;36m1\u001B[0m\u001B[1;33m,\u001B[0m \u001B[1;36m0\u001B[0m\u001B[1;33m]\u001B[0m\u001B[1;33m]\u001B[0m\u001B[1;33m)\u001B[0m\u001B[1;33m\u001B[0m\u001B[1;33m\u001B[0m\u001B[0m\n\u001B[0;32m     16\u001B[0m \u001B[1;33m\u001B[0m\u001B[0m\n\u001B[1;32m---> 17\u001B[1;33m         isolation_data = tooth_isolation(im_g, flag=flag, tooth_position=tooth_position, rotation_fix=False, save=True,\n\u001B[0m\u001B[0;32m     18\u001B[0m                                          filename=filename)\n\u001B[0;32m     19\u001B[0m         \u001B[1;31m# print(isolation_data)\u001B[0m\u001B[1;33m\u001B[0m\u001B[1;33m\u001B[0m\u001B[1;33m\u001B[0m\u001B[0m\n",
      "\u001B[1;32mE:\\Codes\\PycharmProjects\\dentist-CV-main\\utils\\edge.py\u001B[0m in \u001B[0;36mtooth_isolation\u001B[1;34m(source, flag, tooth_position, filename, save, rotation_fix)\u001B[0m\n\u001B[0;32m    400\u001B[0m     \u001B[0mresult\u001B[0m \u001B[1;33m=\u001B[0m \u001B[1;33m{\u001B[0m\u001B[1;34m'crop_regions'\u001B[0m\u001B[1;33m:\u001B[0m \u001B[1;33m{\u001B[0m\u001B[1;33m}\u001B[0m\u001B[1;33m,\u001B[0m \u001B[1;34m'angle'\u001B[0m\u001B[1;33m:\u001B[0m \u001B[1;36m0\u001B[0m\u001B[1;33m}\u001B[0m\u001B[1;33m\u001B[0m\u001B[1;33m\u001B[0m\u001B[0m\n\u001B[0;32m    401\u001B[0m \u001B[1;33m\u001B[0m\u001B[0m\n\u001B[1;32m--> 402\u001B[1;33m     \u001B[0mtheta\u001B[0m \u001B[1;33m=\u001B[0m \u001B[0mget_rotation_angle\u001B[0m\u001B[1;33m(\u001B[0m\u001B[0msource\u001B[0m\u001B[1;33m,\u001B[0m \u001B[0mflag\u001B[0m\u001B[1;33m=\u001B[0m\u001B[0mflag\u001B[0m\u001B[1;33m,\u001B[0m \u001B[0mtooth_position\u001B[0m\u001B[1;33m=\u001B[0m\u001B[0mtooth_position\u001B[0m\u001B[1;33m)\u001B[0m\u001B[1;33m\u001B[0m\u001B[1;33m\u001B[0m\u001B[0m\n\u001B[0m\u001B[0;32m    403\u001B[0m     \u001B[0msource_rotated\u001B[0m \u001B[1;33m=\u001B[0m \u001B[0mndimage\u001B[0m\u001B[1;33m.\u001B[0m\u001B[0mrotate\u001B[0m\u001B[1;33m(\u001B[0m\u001B[0msource\u001B[0m\u001B[1;33m,\u001B[0m \u001B[0mtheta\u001B[0m\u001B[1;33m,\u001B[0m \u001B[0mreshape\u001B[0m\u001B[1;33m=\u001B[0m\u001B[1;32mTrue\u001B[0m\u001B[1;33m,\u001B[0m \u001B[0mcval\u001B[0m\u001B[1;33m=\u001B[0m\u001B[1;36m255\u001B[0m\u001B[1;33m)\u001B[0m\u001B[1;33m\u001B[0m\u001B[1;33m\u001B[0m\u001B[0m\n\u001B[0;32m    404\u001B[0m     \u001B[0mresult\u001B[0m\u001B[1;33m[\u001B[0m\u001B[1;34m'angle'\u001B[0m\u001B[1;33m]\u001B[0m \u001B[1;33m=\u001B[0m \u001B[0mtheta\u001B[0m\u001B[1;33m\u001B[0m\u001B[1;33m\u001B[0m\u001B[0m\n",
      "\u001B[1;32mE:\\Codes\\PycharmProjects\\dentist-CV-main\\utils\\edge.py\u001B[0m in \u001B[0;36mget_rotation_angle\u001B[1;34m(source, flag, tooth_position)\u001B[0m\n\u001B[0;32m    328\u001B[0m \u001B[1;33m\u001B[0m\u001B[0m\n\u001B[0;32m    329\u001B[0m     \u001B[1;32mfor\u001B[0m \u001B[0mi\u001B[0m \u001B[1;32min\u001B[0m \u001B[0mangle_range\u001B[0m\u001B[1;33m:\u001B[0m\u001B[1;33m\u001B[0m\u001B[1;33m\u001B[0m\u001B[0m\n\u001B[1;32m--> 330\u001B[1;33m         \u001B[0msource_r\u001B[0m \u001B[1;33m=\u001B[0m \u001B[0mndimage\u001B[0m\u001B[1;33m.\u001B[0m\u001B[0mrotate\u001B[0m\u001B[1;33m(\u001B[0m\u001B[0msource\u001B[0m\u001B[1;33m,\u001B[0m \u001B[0mi\u001B[0m\u001B[1;33m,\u001B[0m \u001B[0mreshape\u001B[0m\u001B[1;33m=\u001B[0m\u001B[1;32mFalse\u001B[0m\u001B[1;33m,\u001B[0m \u001B[0mcval\u001B[0m\u001B[1;33m=\u001B[0m\u001B[1;36m255\u001B[0m\u001B[1;33m)\u001B[0m\u001B[1;33m\u001B[0m\u001B[1;33m\u001B[0m\u001B[0m\n\u001B[0m\u001B[0;32m    331\u001B[0m         \u001B[0mhor\u001B[0m\u001B[1;33m,\u001B[0m \u001B[0m_\u001B[0m \u001B[1;33m=\u001B[0m \u001B[0mintegral_intensity_projection\u001B[0m\u001B[1;33m(\u001B[0m\u001B[0msource_r\u001B[0m\u001B[1;33m)\u001B[0m\u001B[1;33m\u001B[0m\u001B[1;33m\u001B[0m\u001B[0m\n\u001B[0;32m    332\u001B[0m \u001B[1;33m\u001B[0m\u001B[0m\n",
      "\u001B[1;32mD:\\Users\\douli\\anaconda3\\envs\\dentist-CV-main\\lib\\site-packages\\scipy\\ndimage\\_interpolation.py\u001B[0m in \u001B[0;36mrotate\u001B[1;34m(input, angle, axes, reshape, output, order, mode, cval, prefilter)\u001B[0m\n\u001B[0;32m    938\u001B[0m \u001B[1;33m\u001B[0m\u001B[0m\n\u001B[0;32m    939\u001B[0m     \u001B[1;32mif\u001B[0m \u001B[0mndim\u001B[0m \u001B[1;33m<=\u001B[0m \u001B[1;36m2\u001B[0m\u001B[1;33m:\u001B[0m\u001B[1;33m\u001B[0m\u001B[1;33m\u001B[0m\u001B[0m\n\u001B[1;32m--> 940\u001B[1;33m         affine_transform(input_arr, rot_matrix, offset, output_shape, output,\n\u001B[0m\u001B[0;32m    941\u001B[0m                          order, mode, cval, prefilter)\n\u001B[0;32m    942\u001B[0m     \u001B[1;32melse\u001B[0m\u001B[1;33m:\u001B[0m\u001B[1;33m\u001B[0m\u001B[1;33m\u001B[0m\u001B[0m\n",
      "\u001B[1;32mD:\\Users\\douli\\anaconda3\\envs\\dentist-CV-main\\lib\\site-packages\\scipy\\ndimage\\_interpolation.py\u001B[0m in \u001B[0;36maffine_transform\u001B[1;34m(input, matrix, offset, output_shape, output, order, mode, cval, prefilter)\u001B[0m\n\u001B[0;32m    609\u001B[0m                              mode, cval, npad, False)\n\u001B[0;32m    610\u001B[0m     \u001B[1;32melse\u001B[0m\u001B[1;33m:\u001B[0m\u001B[1;33m\u001B[0m\u001B[1;33m\u001B[0m\u001B[0m\n\u001B[1;32m--> 611\u001B[1;33m         _nd_image.geometric_transform(filtered, None, None, matrix, offset,\n\u001B[0m\u001B[0;32m    612\u001B[0m                                       \u001B[0moutput\u001B[0m\u001B[1;33m,\u001B[0m \u001B[0morder\u001B[0m\u001B[1;33m,\u001B[0m \u001B[0mmode\u001B[0m\u001B[1;33m,\u001B[0m \u001B[0mcval\u001B[0m\u001B[1;33m,\u001B[0m \u001B[0mnpad\u001B[0m\u001B[1;33m,\u001B[0m \u001B[1;32mNone\u001B[0m\u001B[1;33m,\u001B[0m\u001B[1;33m\u001B[0m\u001B[1;33m\u001B[0m\u001B[0m\n\u001B[0;32m    613\u001B[0m                                       None)\n",
      "\u001B[1;31mKeyboardInterrupt\u001B[0m: "
     ]
    }
   ],
   "source": [
    "for filename in tqdm(image_labels_df.index):\n",
    "    filepath_image = data_dir / f'{filename}.jpg'\n",
    "    filepath_json = data_dir / f'{filename}.json'\n",
    "\n",
    "    results = model(filepath_image)\n",
    "\n",
    "    teeth_roi = get_teeth_ROI(results)\n",
    "    teeth_roi_images = teeth_roi['images'][filename]\n",
    "    teeth_roi_split_teeth = teeth_roi['split_teeth']\n",
    "    for target_roi in teeth_roi_images:\n",
    "        target_roi_image = target_roi['image']\n",
    "        flag = target_roi['flag']\n",
    "        tooth_position = tooth_position_dict[target_roi['number']]\n",
    "        im_g = cv2.cvtColor(target_roi_image, cv2.COLOR_RGBA2GRAY)\n",
    "        im_g_shape = np.array(np.array(im_g.shape)[[1, 0]])\n",
    "\n",
    "        isolation_data = tooth_isolation(im_g, flag=flag, tooth_position=tooth_position, rotation_fix=False, save=True,\n",
    "                                         filename=filename)\n",
    "        # print(isolation_data)\n"
   ],
   "metadata": {
    "collapsed": false,
    "pycharm": {
     "name": "#%%\n"
    }
   }
  },
  {
   "cell_type": "code",
   "execution_count": null,
   "outputs": [],
   "source": [],
   "metadata": {
    "collapsed": false,
    "pycharm": {
     "name": "#%%\n"
    }
   }
  },
  {
   "cell_type": "code",
   "execution_count": null,
   "outputs": [],
   "source": [],
   "metadata": {
    "collapsed": false,
    "pycharm": {
     "name": "#%%\n"
    }
   }
  }
 ],
 "metadata": {
  "kernelspec": {
   "display_name": "Python 3",
   "language": "python",
   "name": "python3"
  },
  "language_info": {
   "codemirror_mode": {
    "name": "ipython",
    "version": 2
   },
   "file_extension": ".py",
   "mimetype": "text/x-python",
   "name": "python",
   "nbconvert_exporter": "python",
   "pygments_lexer": "ipython2",
   "version": "2.7.6"
  }
 },
 "nbformat": 4,
 "nbformat_minor": 0
}