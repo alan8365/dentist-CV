{
 "cells": [
  {
   "cell_type": "code",
   "execution_count": 1,
   "metadata": {
    "collapsed": true,
    "pycharm": {
     "name": "#%%\n"
    }
   },
   "outputs": [
    {
     "data": {
      "text/plain": "True"
     },
     "execution_count": 1,
     "metadata": {},
     "output_type": "execute_result"
    }
   ],
   "source": [
    "import os\n",
    "\n",
    "import torch\n",
    "from scipy import ndimage\n",
    "import math\n",
    "import json\n",
    "import numpy as np\n",
    "\n",
    "import cv2\n",
    "import matplotlib\n",
    "\n",
    "from matplotlib import pyplot as plt\n",
    "\n",
    "from tqdm import tqdm\n",
    "from pathlib import Path\n",
    "from dotenv import load_dotenv\n",
    "\n",
    "from utils.yolo import get_teeth_ROI\n",
    "from utils.edge import tooth_isolation, gum_jaw_separation, vertical_separation, bounding_teeth_on_origin\n",
    "from utils.preprocess import recovery_rotated_bounding, xyxy2xywh, get_image_by_labels, get_labels_by_image\n",
    "from utils.preprocess import xyxy_reformat, rotate_bounding_boxes, rect_include_another\n",
    "\n",
    "matplotlib.use('module://matplotlib_inline.backend_inline')\n",
    "load_dotenv()\n",
    "\n"
   ]
  },
  {
   "cell_type": "code",
   "execution_count": 2,
   "outputs": [
    {
     "data": {
      "text/plain": "                                caries   endo   post  crown\nfilename                                                   \n00006145                          True  False  False  False\n00008026                          True   True   True   True\n00008113                          True   True   True   True\n00008117                          True  False  False  False\n00008131                          True   True  False  False\n...                                ...    ...    ...    ...\n202012050412159442018_0690727A   False   True   True   True\n202012050412229432017_0781002A   False   True  False  False\n202012051012069362000_0760503A   False   True  False   True\n202012051012169372006_0690223A   False   True   True   True\n202012051012279382005_0621018A   False   True   True   True\n\n[365 rows x 4 columns]",
      "text/html": "<div>\n<style scoped>\n    .dataframe tbody tr th:only-of-type {\n        vertical-align: middle;\n    }\n\n    .dataframe tbody tr th {\n        vertical-align: top;\n    }\n\n    .dataframe thead th {\n        text-align: right;\n    }\n</style>\n<table border=\"1\" class=\"dataframe\">\n  <thead>\n    <tr style=\"text-align: right;\">\n      <th></th>\n      <th>caries</th>\n      <th>endo</th>\n      <th>post</th>\n      <th>crown</th>\n    </tr>\n    <tr>\n      <th>filename</th>\n      <th></th>\n      <th></th>\n      <th></th>\n      <th></th>\n    </tr>\n  </thead>\n  <tbody>\n    <tr>\n      <th>00006145</th>\n      <td>True</td>\n      <td>False</td>\n      <td>False</td>\n      <td>False</td>\n    </tr>\n    <tr>\n      <th>00008026</th>\n      <td>True</td>\n      <td>True</td>\n      <td>True</td>\n      <td>True</td>\n    </tr>\n    <tr>\n      <th>00008113</th>\n      <td>True</td>\n      <td>True</td>\n      <td>True</td>\n      <td>True</td>\n    </tr>\n    <tr>\n      <th>00008117</th>\n      <td>True</td>\n      <td>False</td>\n      <td>False</td>\n      <td>False</td>\n    </tr>\n    <tr>\n      <th>00008131</th>\n      <td>True</td>\n      <td>True</td>\n      <td>False</td>\n      <td>False</td>\n    </tr>\n    <tr>\n      <th>...</th>\n      <td>...</td>\n      <td>...</td>\n      <td>...</td>\n      <td>...</td>\n    </tr>\n    <tr>\n      <th>202012050412159442018_0690727A</th>\n      <td>False</td>\n      <td>True</td>\n      <td>True</td>\n      <td>True</td>\n    </tr>\n    <tr>\n      <th>202012050412229432017_0781002A</th>\n      <td>False</td>\n      <td>True</td>\n      <td>False</td>\n      <td>False</td>\n    </tr>\n    <tr>\n      <th>202012051012069362000_0760503A</th>\n      <td>False</td>\n      <td>True</td>\n      <td>False</td>\n      <td>True</td>\n    </tr>\n    <tr>\n      <th>202012051012169372006_0690223A</th>\n      <td>False</td>\n      <td>True</td>\n      <td>True</td>\n      <td>True</td>\n    </tr>\n    <tr>\n      <th>202012051012279382005_0621018A</th>\n      <td>False</td>\n      <td>True</td>\n      <td>True</td>\n      <td>True</td>\n    </tr>\n  </tbody>\n</table>\n<p>365 rows × 4 columns</p>\n</div>"
     },
     "execution_count": 2,
     "metadata": {},
     "output_type": "execute_result"
    }
   ],
   "source": [
    "target_labels = ['caries', 'endo', 'post', 'crown']\n",
    "image_labels_df = get_image_by_labels(target_labels)[target_labels]\n",
    "\n",
    "image_labels_df\n"
   ],
   "metadata": {
    "collapsed": false,
    "pycharm": {
     "name": "#%%\n"
    }
   }
  },
  {
   "cell_type": "code",
   "execution_count": 3,
   "outputs": [
    {
     "name": "stderr",
     "output_type": "stream",
     "text": [
      "YOLOv5  torch 1.12.0 CUDA:0 (NVIDIA GeForce RTX 2070, 8192MiB)\n",
      "\n"
     ]
    },
    {
     "name": "stdout",
     "output_type": "stream",
     "text": [
      "\u001B[31m\u001B[1mrequirements:\u001B[0m D:\\Users\\douli\\anaconda3\\envs\\dentist-CV-main\\Lib\\site-packages\\yolov5\\requirements.txt not found, check failed.\n"
     ]
    },
    {
     "name": "stderr",
     "output_type": "stream",
     "text": [
      "Fusing layers... \n",
      "Model summary: 270 layers, 7041205 parameters, 0 gradients\n",
      "Adding AutoShape... \n",
      "100%|██████████| 365/365 [37:20<00:00,  6.14s/it]\n"
     ]
    }
   ],
   "source": [
    "data_dir = Path('..') / '..' / 'Datasets' / 'phase-2'\n",
    "tooth_position_dict = {\n",
    "    0: 'left',\n",
    "    1: 'middle',\n",
    "    2: 'right'\n",
    "}\n",
    "model = torch.hub.load(r'..\\YOLO', 'custom', path=r'..\\YOLO\\weights\\8-bound.pt', source='local')\n",
    "\n",
    "for filename in tqdm(image_labels_df.index):\n",
    "    filepath_image = data_dir / f'{filename}.jpg'\n",
    "    filepath_json = data_dir / f'{filename}.json'\n",
    "\n",
    "    results = model(filepath_image)\n",
    "\n",
    "    teeth_roi = get_teeth_ROI(results)\n",
    "    teeth_roi_images = teeth_roi['images'][filename]\n",
    "    teeth_roi_split_teeth = teeth_roi['split_teeth']\n",
    "    for target_roi in teeth_roi_images:\n",
    "        target_roi_image = target_roi['image']\n",
    "        flag = target_roi['flag']\n",
    "        tooth_position = tooth_position_dict[target_roi['number']]\n",
    "        im_g = cv2.cvtColor(target_roi_image, cv2.COLOR_RGBA2GRAY)\n",
    "        im_g_shape = np.array(np.array(im_g.shape)[[1, 0]])\n",
    "\n",
    "        isolation_data = tooth_isolation(im_g, flag=flag, tooth_position=tooth_position, rotation_fix=False, save=True, filename=filename)\n"
   ],
   "metadata": {
    "collapsed": false,
    "pycharm": {
     "name": "#%%\n"
    }
   }
  },
  {
   "cell_type": "code",
   "execution_count": 3,
   "outputs": [],
   "source": [],
   "metadata": {
    "collapsed": false,
    "pycharm": {
     "name": "#%%\n"
    }
   }
  },
  {
   "cell_type": "code",
   "execution_count": 3,
   "outputs": [],
   "source": [],
   "metadata": {
    "collapsed": false,
    "pycharm": {
     "name": "#%%\n"
    }
   }
  }
 ],
 "metadata": {
  "kernelspec": {
   "display_name": "Python 3",
   "language": "python",
   "name": "python3"
  },
  "language_info": {
   "codemirror_mode": {
    "name": "ipython",
    "version": 2
   },
   "file_extension": ".py",
   "mimetype": "text/x-python",
   "name": "python",
   "nbconvert_exporter": "python",
   "pygments_lexer": "ipython2",
   "version": "2.7.6"
  }
 },
 "nbformat": 4,
 "nbformat_minor": 0
}