{
 "cells": [
  {
   "cell_type": "code",
   "execution_count": 2,
   "metadata": {
    "collapsed": true,
    "pycharm": {
     "name": "#%%\n"
    }
   },
   "outputs": [
    {
     "data": {
      "text/plain": "True"
     },
     "execution_count": 2,
     "metadata": {},
     "output_type": "execute_result"
    }
   ],
   "source": [
    "import os\n",
    "\n",
    "from scipy import ndimage\n",
    "import math\n",
    "import json\n",
    "import torch\n",
    "import numpy as np\n",
    "import pandas as pd\n",
    "\n",
    "import cv2\n",
    "import matplotlib\n",
    "\n",
    "from matplotlib import pyplot as plt\n",
    "\n",
    "from tqdm import tqdm\n",
    "from pathlib import Path\n",
    "from dotenv import load_dotenv\n",
    "\n",
    "from utils.yolo import get_teeth_ROI\n",
    "from utils.edge import tooth_isolation\n",
    "from utils.preprocess import get_labels_by_image, get_image_by_labels\n",
    "from utils.preprocess import xyxy_reformat, rotate_bounding_boxes, rect_include_another\n",
    "\n",
    "matplotlib.use('module://matplotlib_inline.backend_inline')\n",
    "load_dotenv()\n"
   ]
  },
  {
   "cell_type": "code",
   "execution_count": 3,
   "outputs": [],
   "source": [
    "model = torch.hub.load(r'..\\YOLO', 'custom', path=r'..\\YOLO\\weights\\8-bound.pt', source='local')\n",
    "data_dir = '..' / Path(os.getenv('DATASET_DIR'))\n"
   ],
   "metadata": {
    "collapsed": false,
    "pycharm": {
     "name": "#%%\n"
    }
   }
  },
  {
   "cell_type": "code",
   "execution_count": 7,
   "outputs": [
    {
     "data": {
      "text/plain": "635"
     },
     "execution_count": 7,
     "metadata": {},
     "output_type": "execute_result"
    }
   ],
   "source": [
    "target_labels = ['caries', 'filling', 'endo', 'post', 'crown', 'R.R']\n",
    "# df = pd.read_csv('label_TF.csv', index_col='filename')\n",
    "image_labels_df = get_image_by_labels()\n",
    "# image_labels_df = df[target_labels]\n",
    "# image_labels_df = get_image_by_labels(target_labels)[target_labels]\n",
    "\n",
    "image_labels_df['crown'].sum()\n"
   ],
   "metadata": {
    "collapsed": false,
    "pycharm": {
     "name": "#%%\n"
    }
   }
  },
  {
   "cell_type": "code",
   "execution_count": 4,
   "outputs": [],
   "source": [
    "filename = image_labels_df.index[1]\n",
    "filepath_image = data_dir / f'{filename}.jpg'\n",
    "filepath_json = data_dir / f'{filename}.json'\n"
   ],
   "metadata": {
    "collapsed": false,
    "pycharm": {
     "name": "#%%\n"
    }
   }
  },
  {
   "cell_type": "code",
   "execution_count": 5,
   "outputs": [
    {
     "name": "stderr",
     "output_type": "stream",
     "text": [
      "D:\\Users\\douli\\anaconda3\\envs\\dentist-CV-main\\lib\\site-packages\\yolov5\\utils\\plots.py:475: UserWarning: To copy construct from a tensor, it is recommended to use sourceTensor.clone().detach() or sourceTensor.clone().detach().requires_grad_(True), rather than torch.tensor(sourceTensor).\n",
      "  xyxy = torch.tensor(xyxy).view(-1, 4)\n"
     ]
    },
    {
     "data": {
      "text/plain": "[{'flag': 'upper',\n  'number': 0,\n  'tooth_position': 'left',\n  'org_file_name': '00008026',\n  'offset': array([698, 281]),\n  'image': array([[[129, 129, 129],\n          [130, 130, 130],\n          [133, 133, 133],\n          ...,\n          [135, 135, 135],\n          [133, 133, 133],\n          [131, 131, 131]],\n  \n         [[127, 127, 127],\n          [129, 129, 129],\n          [133, 133, 133],\n          ...,\n          [138, 138, 138],\n          [139, 139, 139],\n          [139, 139, 139]],\n  \n         [[127, 127, 127],\n          [132, 132, 132],\n          [136, 136, 136],\n          ...,\n          [145, 145, 145],\n          [145, 145, 145],\n          [146, 146, 146]],\n  \n         ...,\n  \n         [[142, 142, 142],\n          [143, 143, 143],\n          [137, 137, 137],\n          ...,\n          [117, 117, 117],\n          [120, 120, 120],\n          [122, 122, 122]],\n  \n         [[142, 142, 142],\n          [139, 139, 139],\n          [130, 130, 130],\n          ...,\n          [115, 115, 115],\n          [116, 116, 116],\n          [119, 119, 119]],\n  \n         [[141, 141, 141],\n          [139, 139, 139],\n          [130, 130, 130],\n          ...,\n          [116, 116, 116],\n          [118, 118, 118],\n          [122, 122, 122]]], dtype=uint8),\n  'xyxy': tensor([ 698,  281, 1025,  690], dtype=torch.int32)},\n {'flag': 'upper',\n  'number': 1,\n  'tooth_position': 'middle',\n  'org_file_name': '00008026',\n  'offset': array([1017,  337]),\n  'image': array([[[ 57,  57,  57],\n          [ 58,  58,  58],\n          [ 57,  57,  57],\n          ...,\n          [ 61,  61,  61],\n          [ 61,  61,  61],\n          [ 60,  60,  60]],\n  \n         [[ 58,  58,  58],\n          [ 58,  58,  58],\n          [ 58,  58,  58],\n          ...,\n          [ 60,  60,  60],\n          [ 61,  61,  61],\n          [ 60,  60,  60]],\n  \n         [[ 60,  60,  60],\n          [ 60,  60,  60],\n          [ 60,  60,  60],\n          ...,\n          [ 60,  60,  60],\n          [ 60,  60,  60],\n          [ 61,  61,  61]],\n  \n         ...,\n  \n         [[102, 102, 102],\n          [105, 105, 105],\n          [108, 108, 108],\n          ...,\n          [ 37,  37,  37],\n          [ 38,  38,  38],\n          [ 38,  38,  38]],\n  \n         [[104, 104, 104],\n          [106, 106, 106],\n          [108, 108, 108],\n          ...,\n          [ 38,  38,  38],\n          [ 38,  38,  38],\n          [ 37,  37,  37]],\n  \n         [[105, 105, 105],\n          [108, 108, 108],\n          [109, 109, 109],\n          ...,\n          [ 40,  40,  40],\n          [ 39,  39,  39],\n          [ 36,  36,  36]]], dtype=uint8),\n  'xyxy': tensor([1017,  337, 1364,  693], dtype=torch.int32)},\n {'flag': 'upper',\n  'number': 2,\n  'tooth_position': 'right',\n  'org_file_name': '00008026',\n  'offset': array([1348,  294]),\n  'image': array([[[155, 155, 155],\n          [157, 157, 157],\n          [159, 159, 159],\n          ...,\n          [144, 144, 144],\n          [145, 145, 145],\n          [151, 151, 151]],\n  \n         [[151, 151, 151],\n          [154, 154, 154],\n          [156, 156, 156],\n          ...,\n          [142, 142, 142],\n          [139, 139, 139],\n          [142, 142, 142]],\n  \n         [[154, 154, 154],\n          [156, 156, 156],\n          [159, 159, 159],\n          ...,\n          [142, 142, 142],\n          [132, 132, 132],\n          [134, 134, 134]],\n  \n         ...,\n  \n         [[ 66,  66,  66],\n          [ 67,  67,  67],\n          [ 70,  70,  70],\n          ...,\n          [124, 124, 124],\n          [124, 124, 124],\n          [128, 128, 128]],\n  \n         [[ 68,  68,  68],\n          [ 69,  69,  69],\n          [ 72,  72,  72],\n          ...,\n          [123, 123, 123],\n          [121, 121, 121],\n          [126, 126, 126]],\n  \n         [[ 70,  70,  70],\n          [ 71,  71,  71],\n          [ 73,  73,  73],\n          ...,\n          [123, 123, 123],\n          [120, 120, 120],\n          [124, 124, 124]]], dtype=uint8),\n  'xyxy': tensor([1348,  294, 1691,  693], dtype=torch.int32)},\n {'flag': 'lower',\n  'number': 0,\n  'tooth_position': 'left',\n  'org_file_name': '00008026',\n  'offset': array([781, 562]),\n  'image': array([[[49, 49, 49],\n          [50, 50, 50],\n          [51, 51, 51],\n          ...,\n          [47, 47, 47],\n          [55, 55, 55],\n          [60, 60, 60]],\n  \n         [[50, 50, 50],\n          [49, 49, 49],\n          [49, 49, 49],\n          ...,\n          [46, 46, 46],\n          [54, 54, 54],\n          [60, 60, 60]],\n  \n         [[50, 50, 50],\n          [49, 49, 49],\n          [49, 49, 49],\n          ...,\n          [46, 46, 46],\n          [54, 54, 54],\n          [60, 60, 60]],\n  \n         ...,\n  \n         [[95, 95, 95],\n          [92, 92, 92],\n          [89, 89, 89],\n          ...,\n          [74, 74, 74],\n          [75, 75, 75],\n          [75, 75, 75]],\n  \n         [[99, 99, 99],\n          [96, 96, 96],\n          [92, 92, 92],\n          ...,\n          [73, 73, 73],\n          [74, 74, 74],\n          [74, 74, 74]],\n  \n         [[91, 91, 91],\n          [93, 93, 93],\n          [94, 94, 94],\n          ...,\n          [69, 69, 69],\n          [69, 69, 69],\n          [71, 71, 71]]], dtype=uint8),\n  'xyxy': tensor([ 781,  562, 1073,  976], dtype=torch.int32)},\n {'flag': 'lower',\n  'number': 1,\n  'tooth_position': 'middle',\n  'org_file_name': '00008026',\n  'offset': array([1083,  683]),\n  'image': array([[[ 21,  21,  21],\n          [ 19,  19,  19],\n          [ 19,  19,  19],\n          ...,\n          [ 32,  32,  32],\n          [ 34,  34,  34],\n          [ 35,  35,  35]],\n  \n         [[ 20,  20,  20],\n          [ 19,  19,  19],\n          [ 18,  18,  18],\n          ...,\n          [ 33,  33,  33],\n          [ 34,  34,  34],\n          [ 36,  36,  36]],\n  \n         [[ 20,  20,  20],\n          [ 19,  19,  19],\n          [ 18,  18,  18],\n          ...,\n          [ 33,  33,  33],\n          [ 35,  35,  35],\n          [ 36,  36,  36]],\n  \n         ...,\n  \n         [[ 74,  74,  74],\n          [ 74,  74,  74],\n          [ 74,  74,  74],\n          ...,\n          [100, 100, 100],\n          [100, 100, 100],\n          [100, 100, 100]],\n  \n         [[ 73,  73,  73],\n          [ 73,  73,  73],\n          [ 73,  73,  73],\n          ...,\n          [100, 100, 100],\n          [100, 100, 100],\n          [100, 100, 100]],\n  \n         [[ 74,  74,  74],\n          [ 72,  72,  72],\n          [ 69,  69,  69],\n          ...,\n          [101, 101, 101],\n          [100, 100, 100],\n          [ 99,  99,  99]]], dtype=uint8),\n  'xyxy': tensor([1083,  683, 1356,  978], dtype=torch.int32)},\n {'flag': 'lower',\n  'number': 2,\n  'tooth_position': 'right',\n  'org_file_name': '00008026',\n  'offset': array([1339,  553]),\n  'image': array([[[ 76,  76,  76],\n          [ 77,  77,  77],\n          [ 78,  78,  78],\n          ...,\n          [  2,   2,   2],\n          [  4,   4,   4],\n          [ 12,  12,  12]],\n  \n         [[ 75,  75,  75],\n          [ 78,  78,  78],\n          [ 79,  79,  79],\n          ...,\n          [  3,   3,   3],\n          [  4,   4,   4],\n          [ 18,  18,  18]],\n  \n         [[ 76,  76,  76],\n          [ 80,  80,  80],\n          [ 81,  81,  81],\n          ...,\n          [ 13,  13,  13],\n          [ 16,  16,  16],\n          [ 18,  18,  18]],\n  \n         ...,\n  \n         [[107, 107, 107],\n          [108, 108, 108],\n          [109, 109, 109],\n          ...,\n          [114, 114, 114],\n          [117, 117, 117],\n          [113, 113, 113]],\n  \n         [[106, 106, 106],\n          [106, 106, 106],\n          [107, 107, 107],\n          ...,\n          [115, 115, 115],\n          [114, 114, 114],\n          [115, 115, 115]],\n  \n         [[106, 106, 106],\n          [106, 106, 106],\n          [106, 106, 106],\n          ...,\n          [114, 114, 114],\n          [113, 113, 113],\n          [115, 115, 115]]], dtype=uint8),\n  'xyxy': tensor([1339,  553, 1649,  978], dtype=torch.int32)}]"
     },
     "execution_count": 5,
     "metadata": {},
     "output_type": "execute_result"
    }
   ],
   "source": [
    "# Image\n",
    "# Inference\n",
    "results = model(filepath_image)\n",
    "\n",
    "teeth_roi = get_teeth_ROI(results)\n",
    "teeth_roi_images = teeth_roi['images'][filename]\n",
    "teeth_roi_split_teeth = teeth_roi['split_teeth']\n",
    "teeth_roi_images\n"
   ],
   "metadata": {
    "collapsed": false,
    "pycharm": {
     "name": "#%%\n"
    }
   }
  },
  {
   "cell_type": "code",
   "execution_count": 6,
   "outputs": [
    {
     "data": {
      "text/plain": "[{'flag': 'upper',\n  'number': 0,\n  'tooth_position': 'left',\n  'org_file_name': '00008026',\n  'offset': array([698, 281]),\n  'image': array([[[129, 129, 129],\n          [130, 130, 130],\n          [133, 133, 133],\n          ...,\n          [135, 135, 135],\n          [133, 133, 133],\n          [131, 131, 131]],\n  \n         [[127, 127, 127],\n          [129, 129, 129],\n          [133, 133, 133],\n          ...,\n          [138, 138, 138],\n          [139, 139, 139],\n          [139, 139, 139]],\n  \n         [[127, 127, 127],\n          [132, 132, 132],\n          [136, 136, 136],\n          ...,\n          [145, 145, 145],\n          [145, 145, 145],\n          [146, 146, 146]],\n  \n         ...,\n  \n         [[142, 142, 142],\n          [143, 143, 143],\n          [137, 137, 137],\n          ...,\n          [117, 117, 117],\n          [120, 120, 120],\n          [122, 122, 122]],\n  \n         [[142, 142, 142],\n          [139, 139, 139],\n          [130, 130, 130],\n          ...,\n          [115, 115, 115],\n          [116, 116, 116],\n          [119, 119, 119]],\n  \n         [[141, 141, 141],\n          [139, 139, 139],\n          [130, 130, 130],\n          ...,\n          [116, 116, 116],\n          [118, 118, 118],\n          [122, 122, 122]]], dtype=uint8),\n  'xyxy': tensor([ 698,  281, 1025,  690], dtype=torch.int32)},\n {'flag': 'upper',\n  'number': 1,\n  'tooth_position': 'middle',\n  'org_file_name': '00008026',\n  'offset': array([1017,  337]),\n  'image': array([[[ 57,  57,  57],\n          [ 58,  58,  58],\n          [ 57,  57,  57],\n          ...,\n          [ 61,  61,  61],\n          [ 61,  61,  61],\n          [ 60,  60,  60]],\n  \n         [[ 58,  58,  58],\n          [ 58,  58,  58],\n          [ 58,  58,  58],\n          ...,\n          [ 60,  60,  60],\n          [ 61,  61,  61],\n          [ 60,  60,  60]],\n  \n         [[ 60,  60,  60],\n          [ 60,  60,  60],\n          [ 60,  60,  60],\n          ...,\n          [ 60,  60,  60],\n          [ 60,  60,  60],\n          [ 61,  61,  61]],\n  \n         ...,\n  \n         [[102, 102, 102],\n          [105, 105, 105],\n          [108, 108, 108],\n          ...,\n          [ 37,  37,  37],\n          [ 38,  38,  38],\n          [ 38,  38,  38]],\n  \n         [[104, 104, 104],\n          [106, 106, 106],\n          [108, 108, 108],\n          ...,\n          [ 38,  38,  38],\n          [ 38,  38,  38],\n          [ 37,  37,  37]],\n  \n         [[105, 105, 105],\n          [108, 108, 108],\n          [109, 109, 109],\n          ...,\n          [ 40,  40,  40],\n          [ 39,  39,  39],\n          [ 36,  36,  36]]], dtype=uint8),\n  'xyxy': tensor([1017,  337, 1364,  693], dtype=torch.int32)},\n {'flag': 'upper',\n  'number': 2,\n  'tooth_position': 'right',\n  'org_file_name': '00008026',\n  'offset': array([1348,  294]),\n  'image': array([[[155, 155, 155],\n          [157, 157, 157],\n          [159, 159, 159],\n          ...,\n          [144, 144, 144],\n          [145, 145, 145],\n          [151, 151, 151]],\n  \n         [[151, 151, 151],\n          [154, 154, 154],\n          [156, 156, 156],\n          ...,\n          [142, 142, 142],\n          [139, 139, 139],\n          [142, 142, 142]],\n  \n         [[154, 154, 154],\n          [156, 156, 156],\n          [159, 159, 159],\n          ...,\n          [142, 142, 142],\n          [132, 132, 132],\n          [134, 134, 134]],\n  \n         ...,\n  \n         [[ 66,  66,  66],\n          [ 67,  67,  67],\n          [ 70,  70,  70],\n          ...,\n          [124, 124, 124],\n          [124, 124, 124],\n          [128, 128, 128]],\n  \n         [[ 68,  68,  68],\n          [ 69,  69,  69],\n          [ 72,  72,  72],\n          ...,\n          [123, 123, 123],\n          [121, 121, 121],\n          [126, 126, 126]],\n  \n         [[ 70,  70,  70],\n          [ 71,  71,  71],\n          [ 73,  73,  73],\n          ...,\n          [123, 123, 123],\n          [120, 120, 120],\n          [124, 124, 124]]], dtype=uint8),\n  'xyxy': tensor([1348,  294, 1691,  693], dtype=torch.int32)},\n {'flag': 'lower',\n  'number': 0,\n  'tooth_position': 'left',\n  'org_file_name': '00008026',\n  'offset': array([781, 562]),\n  'image': array([[[49, 49, 49],\n          [50, 50, 50],\n          [51, 51, 51],\n          ...,\n          [47, 47, 47],\n          [55, 55, 55],\n          [60, 60, 60]],\n  \n         [[50, 50, 50],\n          [49, 49, 49],\n          [49, 49, 49],\n          ...,\n          [46, 46, 46],\n          [54, 54, 54],\n          [60, 60, 60]],\n  \n         [[50, 50, 50],\n          [49, 49, 49],\n          [49, 49, 49],\n          ...,\n          [46, 46, 46],\n          [54, 54, 54],\n          [60, 60, 60]],\n  \n         ...,\n  \n         [[95, 95, 95],\n          [92, 92, 92],\n          [89, 89, 89],\n          ...,\n          [74, 74, 74],\n          [75, 75, 75],\n          [75, 75, 75]],\n  \n         [[99, 99, 99],\n          [96, 96, 96],\n          [92, 92, 92],\n          ...,\n          [73, 73, 73],\n          [74, 74, 74],\n          [74, 74, 74]],\n  \n         [[91, 91, 91],\n          [93, 93, 93],\n          [94, 94, 94],\n          ...,\n          [69, 69, 69],\n          [69, 69, 69],\n          [71, 71, 71]]], dtype=uint8),\n  'xyxy': tensor([ 781,  562, 1073,  976], dtype=torch.int32)},\n {'flag': 'lower',\n  'number': 1,\n  'tooth_position': 'middle',\n  'org_file_name': '00008026',\n  'offset': array([1083,  683]),\n  'image': array([[[ 21,  21,  21],\n          [ 19,  19,  19],\n          [ 19,  19,  19],\n          ...,\n          [ 32,  32,  32],\n          [ 34,  34,  34],\n          [ 35,  35,  35]],\n  \n         [[ 20,  20,  20],\n          [ 19,  19,  19],\n          [ 18,  18,  18],\n          ...,\n          [ 33,  33,  33],\n          [ 34,  34,  34],\n          [ 36,  36,  36]],\n  \n         [[ 20,  20,  20],\n          [ 19,  19,  19],\n          [ 18,  18,  18],\n          ...,\n          [ 33,  33,  33],\n          [ 35,  35,  35],\n          [ 36,  36,  36]],\n  \n         ...,\n  \n         [[ 74,  74,  74],\n          [ 74,  74,  74],\n          [ 74,  74,  74],\n          ...,\n          [100, 100, 100],\n          [100, 100, 100],\n          [100, 100, 100]],\n  \n         [[ 73,  73,  73],\n          [ 73,  73,  73],\n          [ 73,  73,  73],\n          ...,\n          [100, 100, 100],\n          [100, 100, 100],\n          [100, 100, 100]],\n  \n         [[ 74,  74,  74],\n          [ 72,  72,  72],\n          [ 69,  69,  69],\n          ...,\n          [101, 101, 101],\n          [100, 100, 100],\n          [ 99,  99,  99]]], dtype=uint8),\n  'xyxy': tensor([1083,  683, 1356,  978], dtype=torch.int32)},\n {'flag': 'lower',\n  'number': 2,\n  'tooth_position': 'right',\n  'org_file_name': '00008026',\n  'offset': array([1339,  553]),\n  'image': array([[[ 76,  76,  76],\n          [ 77,  77,  77],\n          [ 78,  78,  78],\n          ...,\n          [  2,   2,   2],\n          [  4,   4,   4],\n          [ 12,  12,  12]],\n  \n         [[ 75,  75,  75],\n          [ 78,  78,  78],\n          [ 79,  79,  79],\n          ...,\n          [  3,   3,   3],\n          [  4,   4,   4],\n          [ 18,  18,  18]],\n  \n         [[ 76,  76,  76],\n          [ 80,  80,  80],\n          [ 81,  81,  81],\n          ...,\n          [ 13,  13,  13],\n          [ 16,  16,  16],\n          [ 18,  18,  18]],\n  \n         ...,\n  \n         [[107, 107, 107],\n          [108, 108, 108],\n          [109, 109, 109],\n          ...,\n          [114, 114, 114],\n          [117, 117, 117],\n          [113, 113, 113]],\n  \n         [[106, 106, 106],\n          [106, 106, 106],\n          [107, 107, 107],\n          ...,\n          [115, 115, 115],\n          [114, 114, 114],\n          [115, 115, 115]],\n  \n         [[106, 106, 106],\n          [106, 106, 106],\n          [106, 106, 106],\n          ...,\n          [114, 114, 114],\n          [113, 113, 113],\n          [115, 115, 115]]], dtype=uint8),\n  'xyxy': tensor([1339,  553, 1649,  978], dtype=torch.int32)}]"
     },
     "execution_count": 6,
     "metadata": {},
     "output_type": "execute_result"
    }
   ],
   "source": [
    "teeth_roi = get_teeth_ROI(results)\n",
    "teeth_roi_images = teeth_roi['images'][filename]\n",
    "teeth_roi_split_teeth = teeth_roi['split_teeth']\n",
    "teeth_roi_images\n"
   ],
   "metadata": {
    "collapsed": false,
    "pycharm": {
     "name": "#%%\n"
    }
   }
  },
  {
   "cell_type": "markdown",
   "source": [],
   "metadata": {
    "collapsed": false,
    "pycharm": {
     "name": "#%% md\n"
    }
   }
  },
  {
   "cell_type": "markdown",
   "source": [
    "# One file check"
   ],
   "metadata": {
    "collapsed": false,
    "pycharm": {
     "name": "#%% md\n"
    }
   }
  },
  {
   "cell_type": "code",
   "execution_count": 7,
   "outputs": [
    {
     "data": {
      "text/plain": "{'00008026 16': [],\n '00008026 15': [],\n '00008026 14': [],\n '00008026 12': [],\n '00008026 11': ['crown'],\n '00008026 21': ['endo'],\n '00008026 22': ['post', 'crown'],\n '00008026 50': ['post', 'endo', 'crown'],\n '00008026 51': ['crown'],\n '00008026 24': [],\n '00008026 25': [],\n '00008026 26': ['crown'],\n '00008026 46': [],\n '00008026 45': ['caries'],\n '00008026 44': [],\n '00008026 42': [],\n '00008026 41': [],\n '00008026 31': [],\n '00008026 32': [],\n '00008026 34': [],\n '00008026 35': [],\n '00008026 36': []}"
     },
     "execution_count": 7,
     "metadata": {},
     "output_type": "execute_result"
    }
   ],
   "source": [
    "image_labels = {}\n",
    "labels = get_labels_by_image(filepath_json, target_labels)\n",
    "for target_roi in teeth_roi_images:\n",
    "    flag = target_roi['flag']\n",
    "    target_roi_image = target_roi['image']\n",
    "    tooth_position = target_roi['tooth_position']\n",
    "    im_g = cv2.cvtColor(target_roi_image, cv2.COLOR_RGBA2GRAY)\n",
    "    im_g_shape = np.array(np.array(im_g.shape)[[1, 0]])\n",
    "\n",
    "    isolation_data = tooth_isolation(im_g, flag=flag, tooth_position=tooth_position, rotation_fix=False)\n",
    "    if not isolation_data:\n",
    "        continue\n",
    "    regions = isolation_data['crop_regions']\n",
    "    theta = isolation_data['angle']\n",
    "    offset = target_roi['offset']\n",
    "\n",
    "    phi = math.radians(theta)\n",
    "    for label in labels:\n",
    "        xyxy = np.hstack(label['points'])  # [x, y, x, y]\n",
    "        xyxy = xyxy_reformat(np.array([xyxy]))\n",
    "\n",
    "        xyxy = xyxy - np.tile(offset, 2)\n",
    "        if xyxy.min() < 0:\n",
    "            continue\n",
    "\n",
    "        xyxy = rotate_bounding_boxes(phi, im_g_shape, xyxy)\n",
    "        xyxy = xyxy[0].astype(int)\n",
    "\n",
    "        for tooth_number, region in regions.items():\n",
    "            tooth_xyxy = region['xyxy']\n",
    "            key = f'{filename} {tooth_number}'\n",
    "            if not key in image_labels.keys():\n",
    "                image_labels[key] = []\n",
    "            if rect_include_another(tooth_xyxy, xyxy) > 0.5:\n",
    "                image_labels[key].append(label['label'])\n",
    "\n",
    "image_labels\n"
   ],
   "metadata": {
    "collapsed": false,
    "pycharm": {
     "name": "#%%\n"
    }
   }
  },
  {
   "cell_type": "code",
   "execution_count": 8,
   "outputs": [
    {
     "name": "stderr",
     "output_type": "stream",
     "text": [
      "100%|██████████| 600/600 [16:05<00:00,  1.61s/it]\n"
     ]
    }
   ],
   "source": [
    "import warnings\n",
    "\n",
    "warnings.filterwarnings(\"ignore\")\n",
    "\n",
    "image_labels = {}\n",
    "for filename in tqdm(image_labels_df.index):\n",
    "    filepath_image = data_dir / f'{filename}.jpg'\n",
    "    filepath_json = data_dir / f'{filename}.json'\n",
    "\n",
    "    results = model(filepath_image)\n",
    "\n",
    "    teeth_roi = get_teeth_ROI(results)\n",
    "    teeth_roi_images = teeth_roi['images'][filename]\n",
    "    teeth_roi_split_teeth = teeth_roi['split_teeth']\n",
    "\n",
    "    labels = get_labels_by_image(filepath_json, target_labels)\n",
    "    for target_roi in teeth_roi_images:\n",
    "        target_roi_image = target_roi['image']\n",
    "        flag = target_roi['flag']\n",
    "        tooth_position = target_roi['tooth_position']\n",
    "\n",
    "        im_g = cv2.cvtColor(target_roi_image, cv2.COLOR_RGBA2GRAY)\n",
    "        im_g_shape = np.array(np.array(im_g.shape)[[1, 0]])\n",
    "\n",
    "        isolation_data = tooth_isolation(im_g, flag=flag, tooth_position=tooth_position, rotation_fix=False, save=True,\n",
    "                                         filename=filename)\n",
    "        if not isolation_data:\n",
    "            continue\n",
    "        regions = isolation_data['crop_regions']\n",
    "        theta = isolation_data['angle']\n",
    "        offset = target_roi['offset']\n",
    "\n",
    "        phi = math.radians(theta)\n",
    "        for label in labels:\n",
    "            xyxy = np.hstack(label['points'])  # [x, y, x, y]\n",
    "            xyxy = xyxy_reformat(np.array([xyxy]))\n",
    "\n",
    "            xyxy = xyxy - np.tile(offset, 2)\n",
    "            if xyxy.min() < 0:\n",
    "                continue\n",
    "\n",
    "            xyxy = rotate_bounding_boxes(phi, im_g_shape, xyxy)\n",
    "            xyxy = xyxy[0].astype(int)\n",
    "\n",
    "            for tooth_number, region in regions.items():\n",
    "                tooth_xyxy = region['xyxy']\n",
    "                key = f'{filename} {tooth_number}'\n",
    "                if not key in image_labels.keys():\n",
    "                    image_labels[key] = []\n",
    "                if rect_include_another(tooth_xyxy, xyxy) > 0.5:\n",
    "                    image_labels[key].append(label['label'])\n"
   ],
   "metadata": {
    "collapsed": false,
    "pycharm": {
     "name": "#%%\n"
    }
   }
  },
  {
   "cell_type": "code",
   "execution_count": 9,
   "outputs": [
    {
     "data": {
      "text/plain": "{'flag': 'lower',\n 'number': 2,\n 'tooth_position': 'right',\n 'org_file_name': '202012051012169372006_0690223A',\n 'offset': array([1429,  622]),\n 'image': array([[[ 51,  51,  51],\n         [ 51,  51,  51],\n         [ 50,  50,  50],\n         ...,\n         [ 44,  44,  44],\n         [ 45,  45,  45],\n         [ 46,  46,  46]],\n \n        [[ 50,  50,  50],\n         [ 50,  50,  50],\n         [ 49,  49,  49],\n         ...,\n         [ 43,  43,  43],\n         [ 44,  44,  44],\n         [ 45,  45,  45]],\n \n        [[ 49,  49,  49],\n         [ 49,  49,  49],\n         [ 49,  49,  49],\n         ...,\n         [ 42,  42,  42],\n         [ 44,  44,  44],\n         [ 44,  44,  44]],\n \n        ...,\n \n        [[124, 124, 124],\n         [125, 125, 125],\n         [127, 127, 127],\n         ...,\n         [ 83,  83,  83],\n         [ 83,  83,  83],\n         [ 83,  83,  83]],\n \n        [[121, 121, 121],\n         [123, 123, 123],\n         [124, 124, 124],\n         ...,\n         [ 85,  85,  85],\n         [ 86,  86,  86],\n         [ 87,  87,  87]],\n \n        [[122, 122, 122],\n         [123, 123, 123],\n         [124, 124, 124],\n         ...,\n         [ 86,  86,  86],\n         [ 87,  87,  87],\n         [ 88,  88,  88]]], dtype=uint8),\n 'xyxy': tensor([1429,  622, 1807,  954], dtype=torch.int32)}"
     },
     "execution_count": 9,
     "metadata": {},
     "output_type": "execute_result"
    }
   ],
   "source": [
    "target_roi\n"
   ],
   "metadata": {
    "collapsed": false,
    "pycharm": {
     "name": "#%%\n"
    }
   }
  },
  {
   "cell_type": "code",
   "execution_count": 10,
   "outputs": [],
   "source": [
    "# for tooth_number, r in region.items():\n",
    "#     print(r)\n",
    "# target_roi\n",
    "# label\n",
    "# !jupyter nbconvert --to script prepare_classify_format.ipynb\n",
    "\n",
    "j = json.dumps(image_labels)\n",
    "\n",
    "with open('image_labels_for_classify.json', 'w') as f:\n",
    "    f.write(j)\n"
   ],
   "metadata": {
    "collapsed": false,
    "pycharm": {
     "name": "#%%\n"
    }
   }
  },
  {
   "cell_type": "markdown",
   "source": [
    "## Check crop and origin image annotation count."
   ],
   "metadata": {
    "collapsed": false,
    "pycharm": {
     "name": "#%% md\n"
    }
   }
  },
  {
   "cell_type": "code",
   "execution_count": 22,
   "outputs": [
    {
     "data": {
      "text/plain": "                                caries  filling  endo  post  crown  R.R\n00008113                             2        7     2     1      1    0\n00008140                             3        2     1     0      0    0\n00008152                             0        0     3     4      1    0\n00008154                             0        2     8     4      7    1\n00008157                             0        1     0     0      3    0\n...                                ...      ...   ...   ...    ...  ...\n202012031112019181962_0270118A       0        3     5     1      1    1\n202012040312239241975_0820101A       0        0     4     1      0    0\n202012050312249422012_0660508A       0        1     6     1      1    0\n202012050312469402009_0681119A       0        3     1     0      1    0\n202012050412229432017_0781002A       0        3     1     0      0    0\n\n[178 rows x 6 columns]",
      "text/html": "<div>\n<style scoped>\n    .dataframe tbody tr th:only-of-type {\n        vertical-align: middle;\n    }\n\n    .dataframe tbody tr th {\n        vertical-align: top;\n    }\n\n    .dataframe thead th {\n        text-align: right;\n    }\n</style>\n<table border=\"1\" class=\"dataframe\">\n  <thead>\n    <tr style=\"text-align: right;\">\n      <th></th>\n      <th>caries</th>\n      <th>filling</th>\n      <th>endo</th>\n      <th>post</th>\n      <th>crown</th>\n      <th>R.R</th>\n    </tr>\n  </thead>\n  <tbody>\n    <tr>\n      <th>00008113</th>\n      <td>2</td>\n      <td>7</td>\n      <td>2</td>\n      <td>1</td>\n      <td>1</td>\n      <td>0</td>\n    </tr>\n    <tr>\n      <th>00008140</th>\n      <td>3</td>\n      <td>2</td>\n      <td>1</td>\n      <td>0</td>\n      <td>0</td>\n      <td>0</td>\n    </tr>\n    <tr>\n      <th>00008152</th>\n      <td>0</td>\n      <td>0</td>\n      <td>3</td>\n      <td>4</td>\n      <td>1</td>\n      <td>0</td>\n    </tr>\n    <tr>\n      <th>00008154</th>\n      <td>0</td>\n      <td>2</td>\n      <td>8</td>\n      <td>4</td>\n      <td>7</td>\n      <td>1</td>\n    </tr>\n    <tr>\n      <th>00008157</th>\n      <td>0</td>\n      <td>1</td>\n      <td>0</td>\n      <td>0</td>\n      <td>3</td>\n      <td>0</td>\n    </tr>\n    <tr>\n      <th>...</th>\n      <td>...</td>\n      <td>...</td>\n      <td>...</td>\n      <td>...</td>\n      <td>...</td>\n      <td>...</td>\n    </tr>\n    <tr>\n      <th>202012031112019181962_0270118A</th>\n      <td>0</td>\n      <td>3</td>\n      <td>5</td>\n      <td>1</td>\n      <td>1</td>\n      <td>1</td>\n    </tr>\n    <tr>\n      <th>202012040312239241975_0820101A</th>\n      <td>0</td>\n      <td>0</td>\n      <td>4</td>\n      <td>1</td>\n      <td>0</td>\n      <td>0</td>\n    </tr>\n    <tr>\n      <th>202012050312249422012_0660508A</th>\n      <td>0</td>\n      <td>1</td>\n      <td>6</td>\n      <td>1</td>\n      <td>1</td>\n      <td>0</td>\n    </tr>\n    <tr>\n      <th>202012050312469402009_0681119A</th>\n      <td>0</td>\n      <td>3</td>\n      <td>1</td>\n      <td>0</td>\n      <td>1</td>\n      <td>0</td>\n    </tr>\n    <tr>\n      <th>202012050412229432017_0781002A</th>\n      <td>0</td>\n      <td>3</td>\n      <td>1</td>\n      <td>0</td>\n      <td>0</td>\n      <td>0</td>\n    </tr>\n  </tbody>\n</table>\n<p>178 rows × 6 columns</p>\n</div>"
     },
     "execution_count": 22,
     "metadata": {},
     "output_type": "execute_result"
    }
   ],
   "source": [
    "crop_annotation_number = {}\n",
    "for k, v in image_labels.items():\n",
    "    filename, tooth_number = k.split(' ')\n",
    "\n",
    "    if filename not in crop_annotation_number.keys():\n",
    "        crop_annotation_number[filename] = {i: 0 for i in target_labels}\n",
    "\n",
    "    for i in v:\n",
    "        crop_annotation_number[filename][i] += 1\n",
    "\n",
    "counter_diff = {}\n",
    "for filename, counter in crop_annotation_number.items():\n",
    "    counter_diff[filename] = {}\n",
    "\n",
    "    org_number_row = image_labels_df.loc[filename]\n",
    "    for k in target_labels:\n",
    "        counter_diff[filename][k] = org_number_row.loc[k] - counter[k]\n",
    "\n",
    "counter_diff_df = pd.DataFrame.from_dict(counter_diff, orient='index')\n",
    "counter_diff_df.loc[(counter_diff_df > 2).any(axis=1)]\n",
    "\n"
   ],
   "metadata": {
    "collapsed": false,
    "pycharm": {
     "name": "#%%\n"
    }
   }
  }
 ],
 "metadata": {
  "kernelspec": {
   "display_name": "Python 3",
   "language": "python",
   "name": "python3"
  },
  "language_info": {
   "codemirror_mode": {
    "name": "ipython",
    "version": 2
   },
   "file_extension": ".py",
   "mimetype": "text/x-python",
   "name": "python",
   "nbconvert_exporter": "python",
   "pygments_lexer": "ipython2",
   "version": "2.7.6"
  }
 },
 "nbformat": 4,
 "nbformat_minor": 0
}