{
 "cells": [
  {
   "cell_type": "code",
   "execution_count": 2,
   "metadata": {
    "collapsed": true,
    "pycharm": {
     "name": "#%%\n"
    }
   },
   "outputs": [
    {
     "data": {
      "text/plain": "True"
     },
     "execution_count": 2,
     "metadata": {},
     "output_type": "execute_result"
    }
   ],
   "source": [
    "import os\n",
    "\n",
    "from scipy import ndimage\n",
    "import math\n",
    "import json\n",
    "import torch\n",
    "import numpy as np\n",
    "import pandas as pd\n",
    "\n",
    "import cv2\n",
    "import matplotlib\n",
    "\n",
    "from matplotlib import pyplot as plt\n",
    "\n",
    "from tqdm import tqdm\n",
    "from pathlib import Path\n",
    "from dotenv import load_dotenv\n",
    "\n",
    "from utils.yolo import get_teeth_ROI\n",
    "from utils.edge import tooth_isolation, gum_jaw_separation, vertical_separation, bounding_teeth_on_origin\n",
    "from utils.preprocess import recovery_rotated_bounding, xyxy2xywh, get_image_by_labels, get_labels_by_image\n",
    "from utils.preprocess import xyxy_reformat, rotate_bounding_boxes, rect_include_another\n",
    "\n",
    "matplotlib.use('module://matplotlib_inline.backend_inline')\n",
    "load_dotenv()\n"
   ]
  },
  {
   "cell_type": "code",
   "execution_count": 3,
   "outputs": [
    {
     "data": {
      "text/plain": "                                caries   endo   post  crown\nfilename                                                   \n00006145                          True  False  False  False\n00008026                          True   True   True   True\n00008075                         False  False  False  False\n00008113                          True   True   True   True\n00008117                          True  False  False  False\n...                                ...    ...    ...    ...\n202012050912279341994_0571026A   False  False  False  False\n202012050912319351996_0970409A   False  False  False  False\n202012051012069362000_0760503A   False   True  False   True\n202012051012169372006_0690223A   False   True   True   True\n202012051012279382005_0621018A   False   True   True   True\n\n[600 rows x 4 columns]",
      "text/html": "<div>\n<style scoped>\n    .dataframe tbody tr th:only-of-type {\n        vertical-align: middle;\n    }\n\n    .dataframe tbody tr th {\n        vertical-align: top;\n    }\n\n    .dataframe thead th {\n        text-align: right;\n    }\n</style>\n<table border=\"1\" class=\"dataframe\">\n  <thead>\n    <tr style=\"text-align: right;\">\n      <th></th>\n      <th>caries</th>\n      <th>endo</th>\n      <th>post</th>\n      <th>crown</th>\n    </tr>\n    <tr>\n      <th>filename</th>\n      <th></th>\n      <th></th>\n      <th></th>\n      <th></th>\n    </tr>\n  </thead>\n  <tbody>\n    <tr>\n      <th>00006145</th>\n      <td>True</td>\n      <td>False</td>\n      <td>False</td>\n      <td>False</td>\n    </tr>\n    <tr>\n      <th>00008026</th>\n      <td>True</td>\n      <td>True</td>\n      <td>True</td>\n      <td>True</td>\n    </tr>\n    <tr>\n      <th>00008075</th>\n      <td>False</td>\n      <td>False</td>\n      <td>False</td>\n      <td>False</td>\n    </tr>\n    <tr>\n      <th>00008113</th>\n      <td>True</td>\n      <td>True</td>\n      <td>True</td>\n      <td>True</td>\n    </tr>\n    <tr>\n      <th>00008117</th>\n      <td>True</td>\n      <td>False</td>\n      <td>False</td>\n      <td>False</td>\n    </tr>\n    <tr>\n      <th>...</th>\n      <td>...</td>\n      <td>...</td>\n      <td>...</td>\n      <td>...</td>\n    </tr>\n    <tr>\n      <th>202012050912279341994_0571026A</th>\n      <td>False</td>\n      <td>False</td>\n      <td>False</td>\n      <td>False</td>\n    </tr>\n    <tr>\n      <th>202012050912319351996_0970409A</th>\n      <td>False</td>\n      <td>False</td>\n      <td>False</td>\n      <td>False</td>\n    </tr>\n    <tr>\n      <th>202012051012069362000_0760503A</th>\n      <td>False</td>\n      <td>True</td>\n      <td>False</td>\n      <td>True</td>\n    </tr>\n    <tr>\n      <th>202012051012169372006_0690223A</th>\n      <td>False</td>\n      <td>True</td>\n      <td>True</td>\n      <td>True</td>\n    </tr>\n    <tr>\n      <th>202012051012279382005_0621018A</th>\n      <td>False</td>\n      <td>True</td>\n      <td>True</td>\n      <td>True</td>\n    </tr>\n  </tbody>\n</table>\n<p>600 rows × 4 columns</p>\n</div>"
     },
     "execution_count": 3,
     "metadata": {},
     "output_type": "execute_result"
    }
   ],
   "source": [
    "target_labels = ['caries', 'endo', 'post', 'crown']\n",
    "df = pd.read_csv('label_TF.csv', index_col='filename')\n",
    "image_labels_df = df[target_labels]\n",
    "# image_labels_df = get_image_by_labels(target_labels)[target_labels]\n",
    "\n",
    "image_labels_df\n"
   ],
   "metadata": {
    "collapsed": false,
    "pycharm": {
     "name": "#%%\n"
    }
   }
  },
  {
   "cell_type": "code",
   "execution_count": 4,
   "outputs": [
    {
     "data": {
      "text/plain": "                                caries   endo   post  crown\nfilename                                                   \n00006145                          True  False  False  False\n00008026                          True   True   True   True\n00008075                         False  False  False  False\n00008113                          True   True   True   True\n00008117                          True  False  False  False\n...                                ...    ...    ...    ...\n202012050912279341994_0571026A   False  False  False  False\n202012050912319351996_0970409A   False  False  False  False\n202012051012069362000_0760503A   False   True  False   True\n202012051012169372006_0690223A   False   True   True   True\n202012051012279382005_0621018A   False   True   True   True\n\n[600 rows x 4 columns]",
      "text/html": "<div>\n<style scoped>\n    .dataframe tbody tr th:only-of-type {\n        vertical-align: middle;\n    }\n\n    .dataframe tbody tr th {\n        vertical-align: top;\n    }\n\n    .dataframe thead th {\n        text-align: right;\n    }\n</style>\n<table border=\"1\" class=\"dataframe\">\n  <thead>\n    <tr style=\"text-align: right;\">\n      <th></th>\n      <th>caries</th>\n      <th>endo</th>\n      <th>post</th>\n      <th>crown</th>\n    </tr>\n    <tr>\n      <th>filename</th>\n      <th></th>\n      <th></th>\n      <th></th>\n      <th></th>\n    </tr>\n  </thead>\n  <tbody>\n    <tr>\n      <th>00006145</th>\n      <td>True</td>\n      <td>False</td>\n      <td>False</td>\n      <td>False</td>\n    </tr>\n    <tr>\n      <th>00008026</th>\n      <td>True</td>\n      <td>True</td>\n      <td>True</td>\n      <td>True</td>\n    </tr>\n    <tr>\n      <th>00008075</th>\n      <td>False</td>\n      <td>False</td>\n      <td>False</td>\n      <td>False</td>\n    </tr>\n    <tr>\n      <th>00008113</th>\n      <td>True</td>\n      <td>True</td>\n      <td>True</td>\n      <td>True</td>\n    </tr>\n    <tr>\n      <th>00008117</th>\n      <td>True</td>\n      <td>False</td>\n      <td>False</td>\n      <td>False</td>\n    </tr>\n    <tr>\n      <th>...</th>\n      <td>...</td>\n      <td>...</td>\n      <td>...</td>\n      <td>...</td>\n    </tr>\n    <tr>\n      <th>202012050912279341994_0571026A</th>\n      <td>False</td>\n      <td>False</td>\n      <td>False</td>\n      <td>False</td>\n    </tr>\n    <tr>\n      <th>202012050912319351996_0970409A</th>\n      <td>False</td>\n      <td>False</td>\n      <td>False</td>\n      <td>False</td>\n    </tr>\n    <tr>\n      <th>202012051012069362000_0760503A</th>\n      <td>False</td>\n      <td>True</td>\n      <td>False</td>\n      <td>True</td>\n    </tr>\n    <tr>\n      <th>202012051012169372006_0690223A</th>\n      <td>False</td>\n      <td>True</td>\n      <td>True</td>\n      <td>True</td>\n    </tr>\n    <tr>\n      <th>202012051012279382005_0621018A</th>\n      <td>False</td>\n      <td>True</td>\n      <td>True</td>\n      <td>True</td>\n    </tr>\n  </tbody>\n</table>\n<p>600 rows × 4 columns</p>\n</div>"
     },
     "execution_count": 4,
     "metadata": {},
     "output_type": "execute_result"
    }
   ],
   "source": [
    "import pandas as pd\n",
    "\n",
    "result_mask = df[target_labels]\n",
    "\n",
    "result_mask"
   ],
   "metadata": {
    "collapsed": false,
    "pycharm": {
     "name": "#%%\n"
    }
   }
  },
  {
   "cell_type": "code",
   "execution_count": 5,
   "outputs": [],
   "source": [
    "data_dir = Path('..') / '..' / 'Datasets' / 'phase-2'\n",
    "\n",
    "filename = image_labels_df.index[1]\n",
    "filepath_image = data_dir / f'{filename}.jpg'\n",
    "filepath_json = data_dir / f'{filename}.json'\n"
   ],
   "metadata": {
    "collapsed": false,
    "pycharm": {
     "name": "#%%\n"
    }
   }
  },
  {
   "cell_type": "code",
   "execution_count": 6,
   "outputs": [
    {
     "name": "stderr",
     "output_type": "stream",
     "text": [
      "YOLOv5  torch 1.12.0 CUDA:0 (NVIDIA GeForce RTX 2070, 8192MiB)\n",
      "\n"
     ]
    },
    {
     "name": "stdout",
     "output_type": "stream",
     "text": [
      "\u001B[31m\u001B[1mrequirements:\u001B[0m D:\\Users\\douli\\anaconda3\\envs\\dentist-CV-main\\Lib\\site-packages\\yolov5\\requirements.txt not found, check failed.\n"
     ]
    },
    {
     "name": "stderr",
     "output_type": "stream",
     "text": [
      "Fusing layers... \n",
      "Model summary: 270 layers, 7041205 parameters, 0 gradients\n",
      "Adding AutoShape... \n"
     ]
    },
    {
     "data": {
      "text/plain": "[{'flag': 'upper',\n  'number': 0,\n  'org_file_name': '00008026',\n  'offset': array([698, 281]),\n  'image': array([[[129, 129, 129],\n          [130, 130, 130],\n          [133, 133, 133],\n          ...,\n          [135, 135, 135],\n          [133, 133, 133],\n          [131, 131, 131]],\n  \n         [[127, 127, 127],\n          [129, 129, 129],\n          [133, 133, 133],\n          ...,\n          [138, 138, 138],\n          [139, 139, 139],\n          [139, 139, 139]],\n  \n         [[127, 127, 127],\n          [132, 132, 132],\n          [136, 136, 136],\n          ...,\n          [145, 145, 145],\n          [145, 145, 145],\n          [146, 146, 146]],\n  \n         ...,\n  \n         [[142, 142, 142],\n          [143, 143, 143],\n          [137, 137, 137],\n          ...,\n          [117, 117, 117],\n          [120, 120, 120],\n          [122, 122, 122]],\n  \n         [[142, 142, 142],\n          [139, 139, 139],\n          [130, 130, 130],\n          ...,\n          [115, 115, 115],\n          [116, 116, 116],\n          [119, 119, 119]],\n  \n         [[141, 141, 141],\n          [139, 139, 139],\n          [130, 130, 130],\n          ...,\n          [116, 116, 116],\n          [118, 118, 118],\n          [122, 122, 122]]], dtype=uint8)},\n {'flag': 'upper',\n  'number': 1,\n  'org_file_name': '00008026',\n  'offset': array([1017,  337]),\n  'image': array([[[ 57,  57,  57],\n          [ 58,  58,  58],\n          [ 57,  57,  57],\n          ...,\n          [ 61,  61,  61],\n          [ 61,  61,  61],\n          [ 60,  60,  60]],\n  \n         [[ 58,  58,  58],\n          [ 58,  58,  58],\n          [ 58,  58,  58],\n          ...,\n          [ 60,  60,  60],\n          [ 61,  61,  61],\n          [ 60,  60,  60]],\n  \n         [[ 60,  60,  60],\n          [ 60,  60,  60],\n          [ 60,  60,  60],\n          ...,\n          [ 60,  60,  60],\n          [ 60,  60,  60],\n          [ 61,  61,  61]],\n  \n         ...,\n  \n         [[102, 102, 102],\n          [105, 105, 105],\n          [108, 108, 108],\n          ...,\n          [ 37,  37,  37],\n          [ 38,  38,  38],\n          [ 38,  38,  38]],\n  \n         [[104, 104, 104],\n          [106, 106, 106],\n          [108, 108, 108],\n          ...,\n          [ 38,  38,  38],\n          [ 38,  38,  38],\n          [ 37,  37,  37]],\n  \n         [[105, 105, 105],\n          [108, 108, 108],\n          [109, 109, 109],\n          ...,\n          [ 40,  40,  40],\n          [ 39,  39,  39],\n          [ 36,  36,  36]]], dtype=uint8)},\n {'flag': 'upper',\n  'number': 2,\n  'org_file_name': '00008026',\n  'offset': array([1348,  294]),\n  'image': array([[[155, 155, 155],\n          [157, 157, 157],\n          [159, 159, 159],\n          ...,\n          [144, 144, 144],\n          [145, 145, 145],\n          [151, 151, 151]],\n  \n         [[151, 151, 151],\n          [154, 154, 154],\n          [156, 156, 156],\n          ...,\n          [142, 142, 142],\n          [139, 139, 139],\n          [142, 142, 142]],\n  \n         [[154, 154, 154],\n          [156, 156, 156],\n          [159, 159, 159],\n          ...,\n          [142, 142, 142],\n          [132, 132, 132],\n          [134, 134, 134]],\n  \n         ...,\n  \n         [[ 66,  66,  66],\n          [ 67,  67,  67],\n          [ 70,  70,  70],\n          ...,\n          [124, 124, 124],\n          [124, 124, 124],\n          [128, 128, 128]],\n  \n         [[ 68,  68,  68],\n          [ 69,  69,  69],\n          [ 72,  72,  72],\n          ...,\n          [123, 123, 123],\n          [121, 121, 121],\n          [126, 126, 126]],\n  \n         [[ 70,  70,  70],\n          [ 71,  71,  71],\n          [ 73,  73,  73],\n          ...,\n          [123, 123, 123],\n          [120, 120, 120],\n          [124, 124, 124]]], dtype=uint8)},\n {'flag': 'lower',\n  'number': 0,\n  'org_file_name': '00008026',\n  'offset': array([781, 562]),\n  'image': array([[[49, 49, 49],\n          [50, 50, 50],\n          [51, 51, 51],\n          ...,\n          [47, 47, 47],\n          [55, 55, 55],\n          [60, 60, 60]],\n  \n         [[50, 50, 50],\n          [49, 49, 49],\n          [49, 49, 49],\n          ...,\n          [46, 46, 46],\n          [54, 54, 54],\n          [60, 60, 60]],\n  \n         [[50, 50, 50],\n          [49, 49, 49],\n          [49, 49, 49],\n          ...,\n          [46, 46, 46],\n          [54, 54, 54],\n          [60, 60, 60]],\n  \n         ...,\n  \n         [[95, 95, 95],\n          [92, 92, 92],\n          [89, 89, 89],\n          ...,\n          [74, 74, 74],\n          [75, 75, 75],\n          [75, 75, 75]],\n  \n         [[99, 99, 99],\n          [96, 96, 96],\n          [92, 92, 92],\n          ...,\n          [73, 73, 73],\n          [74, 74, 74],\n          [74, 74, 74]],\n  \n         [[91, 91, 91],\n          [93, 93, 93],\n          [94, 94, 94],\n          ...,\n          [69, 69, 69],\n          [69, 69, 69],\n          [71, 71, 71]]], dtype=uint8)},\n {'flag': 'lower',\n  'number': 1,\n  'org_file_name': '00008026',\n  'offset': array([1083,  683]),\n  'image': array([[[ 21,  21,  21],\n          [ 19,  19,  19],\n          [ 19,  19,  19],\n          ...,\n          [ 32,  32,  32],\n          [ 34,  34,  34],\n          [ 35,  35,  35]],\n  \n         [[ 20,  20,  20],\n          [ 19,  19,  19],\n          [ 18,  18,  18],\n          ...,\n          [ 33,  33,  33],\n          [ 34,  34,  34],\n          [ 36,  36,  36]],\n  \n         [[ 20,  20,  20],\n          [ 19,  19,  19],\n          [ 18,  18,  18],\n          ...,\n          [ 33,  33,  33],\n          [ 35,  35,  35],\n          [ 36,  36,  36]],\n  \n         ...,\n  \n         [[ 74,  74,  74],\n          [ 74,  74,  74],\n          [ 74,  74,  74],\n          ...,\n          [100, 100, 100],\n          [100, 100, 100],\n          [100, 100, 100]],\n  \n         [[ 73,  73,  73],\n          [ 73,  73,  73],\n          [ 73,  73,  73],\n          ...,\n          [100, 100, 100],\n          [100, 100, 100],\n          [100, 100, 100]],\n  \n         [[ 74,  74,  74],\n          [ 72,  72,  72],\n          [ 69,  69,  69],\n          ...,\n          [101, 101, 101],\n          [100, 100, 100],\n          [ 99,  99,  99]]], dtype=uint8)},\n {'flag': 'lower',\n  'number': 2,\n  'org_file_name': '00008026',\n  'offset': array([1339,  553]),\n  'image': array([[[ 76,  76,  76],\n          [ 77,  77,  77],\n          [ 78,  78,  78],\n          ...,\n          [  2,   2,   2],\n          [  4,   4,   4],\n          [ 12,  12,  12]],\n  \n         [[ 75,  75,  75],\n          [ 78,  78,  78],\n          [ 79,  79,  79],\n          ...,\n          [  3,   3,   3],\n          [  4,   4,   4],\n          [ 18,  18,  18]],\n  \n         [[ 76,  76,  76],\n          [ 80,  80,  80],\n          [ 81,  81,  81],\n          ...,\n          [ 13,  13,  13],\n          [ 16,  16,  16],\n          [ 18,  18,  18]],\n  \n         ...,\n  \n         [[107, 107, 107],\n          [108, 108, 108],\n          [109, 109, 109],\n          ...,\n          [114, 114, 114],\n          [117, 117, 117],\n          [113, 113, 113]],\n  \n         [[106, 106, 106],\n          [106, 106, 106],\n          [107, 107, 107],\n          ...,\n          [115, 115, 115],\n          [114, 114, 114],\n          [115, 115, 115]],\n  \n         [[106, 106, 106],\n          [106, 106, 106],\n          [106, 106, 106],\n          ...,\n          [114, 114, 114],\n          [113, 113, 113],\n          [115, 115, 115]]], dtype=uint8)}]"
     },
     "execution_count": 6,
     "metadata": {},
     "output_type": "execute_result"
    }
   ],
   "source": [
    "tooth_position_dict = {\n",
    "    0: 'left',\n",
    "    1: 'middle',\n",
    "    2: 'right'\n",
    "}\n",
    "\n",
    "model = torch.hub.load(r'..\\YOLO', 'custom', path=r'..\\YOLO\\weights\\8-bound.pt', source='local')\n",
    "# Image\n",
    "# Inference\n",
    "results = model(filepath_image)\n",
    "\n",
    "teeth_roi = get_teeth_ROI(results)\n",
    "teeth_roi_images = teeth_roi['images'][filename]\n",
    "teeth_roi_split_teeth = teeth_roi['split_teeth']\n",
    "teeth_roi_images\n"
   ],
   "metadata": {
    "collapsed": false,
    "pycharm": {
     "name": "#%%\n"
    }
   }
  },
  {
   "cell_type": "code",
   "execution_count": 7,
   "outputs": [
    {
     "data": {
      "text/plain": "[{'flag': 'upper',\n  'number': 0,\n  'org_file_name': '00008026',\n  'offset': array([698, 281]),\n  'image': array([[[129, 129, 129],\n          [130, 130, 130],\n          [133, 133, 133],\n          ...,\n          [135, 135, 135],\n          [133, 133, 133],\n          [131, 131, 131]],\n  \n         [[127, 127, 127],\n          [129, 129, 129],\n          [133, 133, 133],\n          ...,\n          [138, 138, 138],\n          [139, 139, 139],\n          [139, 139, 139]],\n  \n         [[127, 127, 127],\n          [132, 132, 132],\n          [136, 136, 136],\n          ...,\n          [145, 145, 145],\n          [145, 145, 145],\n          [146, 146, 146]],\n  \n         ...,\n  \n         [[142, 142, 142],\n          [143, 143, 143],\n          [137, 137, 137],\n          ...,\n          [117, 117, 117],\n          [120, 120, 120],\n          [122, 122, 122]],\n  \n         [[142, 142, 142],\n          [139, 139, 139],\n          [130, 130, 130],\n          ...,\n          [115, 115, 115],\n          [116, 116, 116],\n          [119, 119, 119]],\n  \n         [[141, 141, 141],\n          [139, 139, 139],\n          [130, 130, 130],\n          ...,\n          [116, 116, 116],\n          [118, 118, 118],\n          [122, 122, 122]]], dtype=uint8)},\n {'flag': 'upper',\n  'number': 1,\n  'org_file_name': '00008026',\n  'offset': array([1017,  337]),\n  'image': array([[[ 57,  57,  57],\n          [ 58,  58,  58],\n          [ 57,  57,  57],\n          ...,\n          [ 61,  61,  61],\n          [ 61,  61,  61],\n          [ 60,  60,  60]],\n  \n         [[ 58,  58,  58],\n          [ 58,  58,  58],\n          [ 58,  58,  58],\n          ...,\n          [ 60,  60,  60],\n          [ 61,  61,  61],\n          [ 60,  60,  60]],\n  \n         [[ 60,  60,  60],\n          [ 60,  60,  60],\n          [ 60,  60,  60],\n          ...,\n          [ 60,  60,  60],\n          [ 60,  60,  60],\n          [ 61,  61,  61]],\n  \n         ...,\n  \n         [[102, 102, 102],\n          [105, 105, 105],\n          [108, 108, 108],\n          ...,\n          [ 37,  37,  37],\n          [ 38,  38,  38],\n          [ 38,  38,  38]],\n  \n         [[104, 104, 104],\n          [106, 106, 106],\n          [108, 108, 108],\n          ...,\n          [ 38,  38,  38],\n          [ 38,  38,  38],\n          [ 37,  37,  37]],\n  \n         [[105, 105, 105],\n          [108, 108, 108],\n          [109, 109, 109],\n          ...,\n          [ 40,  40,  40],\n          [ 39,  39,  39],\n          [ 36,  36,  36]]], dtype=uint8)},\n {'flag': 'upper',\n  'number': 2,\n  'org_file_name': '00008026',\n  'offset': array([1348,  294]),\n  'image': array([[[155, 155, 155],\n          [157, 157, 157],\n          [159, 159, 159],\n          ...,\n          [144, 144, 144],\n          [145, 145, 145],\n          [151, 151, 151]],\n  \n         [[151, 151, 151],\n          [154, 154, 154],\n          [156, 156, 156],\n          ...,\n          [142, 142, 142],\n          [139, 139, 139],\n          [142, 142, 142]],\n  \n         [[154, 154, 154],\n          [156, 156, 156],\n          [159, 159, 159],\n          ...,\n          [142, 142, 142],\n          [132, 132, 132],\n          [134, 134, 134]],\n  \n         ...,\n  \n         [[ 66,  66,  66],\n          [ 67,  67,  67],\n          [ 70,  70,  70],\n          ...,\n          [124, 124, 124],\n          [124, 124, 124],\n          [128, 128, 128]],\n  \n         [[ 68,  68,  68],\n          [ 69,  69,  69],\n          [ 72,  72,  72],\n          ...,\n          [123, 123, 123],\n          [121, 121, 121],\n          [126, 126, 126]],\n  \n         [[ 70,  70,  70],\n          [ 71,  71,  71],\n          [ 73,  73,  73],\n          ...,\n          [123, 123, 123],\n          [120, 120, 120],\n          [124, 124, 124]]], dtype=uint8)},\n {'flag': 'lower',\n  'number': 0,\n  'org_file_name': '00008026',\n  'offset': array([781, 562]),\n  'image': array([[[49, 49, 49],\n          [50, 50, 50],\n          [51, 51, 51],\n          ...,\n          [47, 47, 47],\n          [55, 55, 55],\n          [60, 60, 60]],\n  \n         [[50, 50, 50],\n          [49, 49, 49],\n          [49, 49, 49],\n          ...,\n          [46, 46, 46],\n          [54, 54, 54],\n          [60, 60, 60]],\n  \n         [[50, 50, 50],\n          [49, 49, 49],\n          [49, 49, 49],\n          ...,\n          [46, 46, 46],\n          [54, 54, 54],\n          [60, 60, 60]],\n  \n         ...,\n  \n         [[95, 95, 95],\n          [92, 92, 92],\n          [89, 89, 89],\n          ...,\n          [74, 74, 74],\n          [75, 75, 75],\n          [75, 75, 75]],\n  \n         [[99, 99, 99],\n          [96, 96, 96],\n          [92, 92, 92],\n          ...,\n          [73, 73, 73],\n          [74, 74, 74],\n          [74, 74, 74]],\n  \n         [[91, 91, 91],\n          [93, 93, 93],\n          [94, 94, 94],\n          ...,\n          [69, 69, 69],\n          [69, 69, 69],\n          [71, 71, 71]]], dtype=uint8)},\n {'flag': 'lower',\n  'number': 1,\n  'org_file_name': '00008026',\n  'offset': array([1083,  683]),\n  'image': array([[[ 21,  21,  21],\n          [ 19,  19,  19],\n          [ 19,  19,  19],\n          ...,\n          [ 32,  32,  32],\n          [ 34,  34,  34],\n          [ 35,  35,  35]],\n  \n         [[ 20,  20,  20],\n          [ 19,  19,  19],\n          [ 18,  18,  18],\n          ...,\n          [ 33,  33,  33],\n          [ 34,  34,  34],\n          [ 36,  36,  36]],\n  \n         [[ 20,  20,  20],\n          [ 19,  19,  19],\n          [ 18,  18,  18],\n          ...,\n          [ 33,  33,  33],\n          [ 35,  35,  35],\n          [ 36,  36,  36]],\n  \n         ...,\n  \n         [[ 74,  74,  74],\n          [ 74,  74,  74],\n          [ 74,  74,  74],\n          ...,\n          [100, 100, 100],\n          [100, 100, 100],\n          [100, 100, 100]],\n  \n         [[ 73,  73,  73],\n          [ 73,  73,  73],\n          [ 73,  73,  73],\n          ...,\n          [100, 100, 100],\n          [100, 100, 100],\n          [100, 100, 100]],\n  \n         [[ 74,  74,  74],\n          [ 72,  72,  72],\n          [ 69,  69,  69],\n          ...,\n          [101, 101, 101],\n          [100, 100, 100],\n          [ 99,  99,  99]]], dtype=uint8)},\n {'flag': 'lower',\n  'number': 2,\n  'org_file_name': '00008026',\n  'offset': array([1339,  553]),\n  'image': array([[[ 76,  76,  76],\n          [ 77,  77,  77],\n          [ 78,  78,  78],\n          ...,\n          [  2,   2,   2],\n          [  4,   4,   4],\n          [ 12,  12,  12]],\n  \n         [[ 75,  75,  75],\n          [ 78,  78,  78],\n          [ 79,  79,  79],\n          ...,\n          [  3,   3,   3],\n          [  4,   4,   4],\n          [ 18,  18,  18]],\n  \n         [[ 76,  76,  76],\n          [ 80,  80,  80],\n          [ 81,  81,  81],\n          ...,\n          [ 13,  13,  13],\n          [ 16,  16,  16],\n          [ 18,  18,  18]],\n  \n         ...,\n  \n         [[107, 107, 107],\n          [108, 108, 108],\n          [109, 109, 109],\n          ...,\n          [114, 114, 114],\n          [117, 117, 117],\n          [113, 113, 113]],\n  \n         [[106, 106, 106],\n          [106, 106, 106],\n          [107, 107, 107],\n          ...,\n          [115, 115, 115],\n          [114, 114, 114],\n          [115, 115, 115]],\n  \n         [[106, 106, 106],\n          [106, 106, 106],\n          [106, 106, 106],\n          ...,\n          [114, 114, 114],\n          [113, 113, 113],\n          [115, 115, 115]]], dtype=uint8)}]"
     },
     "execution_count": 7,
     "metadata": {},
     "output_type": "execute_result"
    }
   ],
   "source": [
    "teeth_roi = get_teeth_ROI(results)\n",
    "teeth_roi_images = teeth_roi['images'][filename]\n",
    "teeth_roi_split_teeth = teeth_roi['split_teeth']\n",
    "teeth_roi_images\n"
   ],
   "metadata": {
    "collapsed": false,
    "pycharm": {
     "name": "#%%\n"
    }
   }
  },
  {
   "cell_type": "markdown",
   "source": [],
   "metadata": {
    "collapsed": false,
    "pycharm": {
     "name": "#%% md\n"
    }
   }
  },
  {
   "cell_type": "markdown",
   "source": [
    "# One file check"
   ],
   "metadata": {
    "collapsed": false,
    "pycharm": {
     "name": "#%% md\n"
    }
   }
  },
  {
   "cell_type": "code",
   "execution_count": 10,
   "outputs": [
    {
     "data": {
      "text/plain": "{'00008026-16': [],\n '00008026-15': [],\n '00008026-14': [],\n '00008026-12': ['crown'],\n '00008026-11': ['post', 'endo', 'crown'],\n '00008026-21': ['post', 'endo', 'crown'],\n '00008026-22': ['crown'],\n '00008026-24': [],\n '00008026-25': [],\n '00008026-26': ['crown'],\n '00008026-46': ['caries'],\n '00008026-45': [],\n '00008026-44': [],\n '00008026-42': [],\n '00008026-41': [],\n '00008026-31': [],\n '00008026-32': ['crown'],\n '00008026-34': [],\n '00008026-35': [],\n '00008026-36': ['crown', 'post', 'endo']}"
     },
     "execution_count": 10,
     "metadata": {},
     "output_type": "execute_result"
    }
   ],
   "source": [
    "image_labels = {}\n",
    "labels = get_labels_by_image(filepath_json, target_labels)\n",
    "for target_roi in teeth_roi_images:\n",
    "    flag = target_roi['flag']\n",
    "    target_roi_image = target_roi['image']\n",
    "    tooth_position = tooth_position_dict[target_roi['number']]\n",
    "    im_g = cv2.cvtColor(target_roi_image, cv2.COLOR_RGBA2GRAY)\n",
    "    im_g_shape = np.array(np.array(im_g.shape)[[1, 0]])\n",
    "\n",
    "    isolation_data = tooth_isolation(im_g, flag=flag, tooth_position=tooth_position, rotation_fix=False)\n",
    "    if not isolation_data:\n",
    "        continue\n",
    "    regions = isolation_data['crop_regions']\n",
    "    theta = isolation_data['angle']\n",
    "    offset = target_roi['offset']\n",
    "\n",
    "    phi = math.radians(theta)\n",
    "    for label in labels:\n",
    "        xyxy = np.hstack(label['points'])  # [x, y, x, y]\n",
    "        xyxy = xyxy_reformat(np.array([xyxy]))\n",
    "\n",
    "        xyxy = xyxy - np.tile(offset, 2)\n",
    "        if xyxy.min() < 0:\n",
    "            continue\n",
    "\n",
    "        xyxy = rotate_bounding_boxes(phi, im_g_shape, xyxy)\n",
    "        xyxy = xyxy[0].astype(int)\n",
    "\n",
    "        for tooth_number, region in regions.items():\n",
    "            tooth_xyxy = region['xyxy']\n",
    "            key = f'{filename}-{tooth_number}'\n",
    "            if not key in image_labels.keys():\n",
    "                image_labels[key] = []\n",
    "            if rect_include_another(tooth_xyxy, xyxy) > 0.5:\n",
    "                image_labels[key].append(label['label'])\n",
    "\n",
    "image_labels\n"
   ],
   "metadata": {
    "collapsed": false,
    "pycharm": {
     "name": "#%%\n"
    }
   }
  },
  {
   "cell_type": "code",
   "execution_count": 11,
   "outputs": [
    {
     "name": "stderr",
     "output_type": "stream",
     "text": [
      "100%|██████████| 600/600 [1:04:10<00:00,  6.42s/it]\n"
     ]
    }
   ],
   "source": [
    "image_labels = {}\n",
    "for filename in tqdm(image_labels_df.index):\n",
    "    filepath_image = data_dir / f'{filename}.jpg'\n",
    "    filepath_json = data_dir / f'{filename}.json'\n",
    "\n",
    "    results = model(filepath_image)\n",
    "\n",
    "    teeth_roi = get_teeth_ROI(results)\n",
    "    teeth_roi_images = teeth_roi['images'][filename]\n",
    "    teeth_roi_split_teeth = teeth_roi['split_teeth']\n",
    "\n",
    "    labels = get_labels_by_image(filepath_json, target_labels)\n",
    "    for target_roi in teeth_roi_images:\n",
    "        target_roi_image = target_roi['image']\n",
    "        flag = target_roi['flag']\n",
    "        tooth_position = tooth_position_dict[target_roi['number']]\n",
    "        im_g = cv2.cvtColor(target_roi_image, cv2.COLOR_RGBA2GRAY)\n",
    "        im_g_shape = np.array(np.array(im_g.shape)[[1, 0]])\n",
    "\n",
    "        isolation_data = tooth_isolation(im_g, flag=flag, tooth_position=tooth_position, rotation_fix=False)\n",
    "        if not isolation_data:\n",
    "            continue\n",
    "        regions = isolation_data['crop_regions']\n",
    "        theta = isolation_data['angle']\n",
    "        offset = target_roi['offset']\n",
    "\n",
    "        phi = math.radians(theta)\n",
    "        for label in labels:\n",
    "            xyxy = np.hstack(label['points'])  # [x, y, x, y]\n",
    "            xyxy = xyxy_reformat(np.array([xyxy]))\n",
    "\n",
    "            xyxy = xyxy - np.tile(offset, 2)\n",
    "            if xyxy.min() < 0:\n",
    "                continue\n",
    "\n",
    "            xyxy = rotate_bounding_boxes(phi, im_g_shape, xyxy)\n",
    "            xyxy = xyxy[0].astype(int)\n",
    "\n",
    "            for tooth_number, region in regions.items():\n",
    "                tooth_xyxy = region['xyxy']\n",
    "                key = f'{filename}-{tooth_number}'\n",
    "                if not key in image_labels.keys():\n",
    "                    image_labels[key] = []\n",
    "                if rect_include_another(tooth_xyxy, xyxy) > 0.5:\n",
    "                    image_labels[key].append(label['label'])\n"
   ],
   "metadata": {
    "collapsed": false,
    "pycharm": {
     "name": "#%%\n"
    }
   }
  },
  {
   "cell_type": "code",
   "execution_count": 12,
   "outputs": [
    {
     "data": {
      "text/plain": "{'00006145-16': [],\n '00006145-15': [],\n '00006145-14': [],\n '00006145-12': [],\n '00006145-11': [],\n '00006145-21': [],\n '00006145-22': [],\n '00008026-16': [],\n '00008026-15': [],\n '00008026-14': [],\n '00008026-12': ['crown'],\n '00008026-11': ['post', 'endo', 'crown'],\n '00008026-21': ['post', 'endo', 'crown'],\n '00008026-22': ['crown'],\n '00008026-24': [],\n '00008026-25': [],\n '00008026-26': ['crown'],\n '00008026-46': ['caries'],\n '00008026-45': [],\n '00008026-44': [],\n '00008026-42': [],\n '00008026-41': [],\n '00008026-31': [],\n '00008026-32': ['crown'],\n '00008026-34': [],\n '00008026-35': [],\n '00008026-36': ['crown', 'post', 'endo'],\n '00008113-16': [],\n '00008113-15': [],\n '00008113-14': [],\n '00008113-12': ['caries'],\n '00008113-11': ['caries'],\n '00008113-21': [],\n '00008113-22': [],\n '00008113-50': [],\n '00008113-24': [],\n '00008113-25': [],\n '00008113-26': [],\n '00008113-46': [],\n '00008113-45': [],\n '00008113-44': [],\n '00008113-42': [],\n '00008113-41': ['caries'],\n '00008113-31': [],\n '00008113-32': [],\n '00008113-34': [],\n '00008113-35': ['caries'],\n '00008113-36': ['crown', 'post', 'endo', 'endo'],\n '00008117-12': [],\n '00008117-11': [],\n '00008117-21': [],\n '00008117-22': [],\n '00008117-50': [],\n '00008131-16': [],\n '00008131-15': [],\n '00008131-14': ['caries'],\n '00008131-50': [],\n '00008131-12': [],\n '00008131-11': [],\n '00008131-21': [],\n '00008131-22': [],\n '00008131-42': [],\n '00008131-41': [],\n '00008131-31': [],\n '00008131-32': [],\n '00008136-16': [],\n '00008136-15': ['caries'],\n '00008136-14': [],\n '00008136-50': [],\n '00008136-12': [],\n '00008136-11': [],\n '00008136-21': [],\n '00008136-22': [],\n '00008137-12': [],\n '00008137-11': [],\n '00008137-21': [],\n '00008137-22': [],\n '00008137-50': [],\n '00008137-51': ['caries'],\n '00008137-24': [],\n '00008137-25': ['caries'],\n '00008137-26': [],\n '00008137-46': [],\n '00008137-45': [],\n '00008137-44': [],\n '00008137-42': [],\n '00008137-41': [],\n '00008137-31': [],\n '00008137-32': [],\n '00008137-34': [],\n '00008137-35': [],\n '00008137-36': ['crown'],\n '00008145-16': [],\n '00008145-15': [],\n '00008145-14': [],\n '00008145-50': [],\n '00008145-12': [],\n '00008145-11': [],\n '00008145-21': [],\n '00008145-22': [],\n '00008145-51': [],\n '00008145-24': [],\n '00008145-25': [],\n '00008145-26': [],\n '00008145-42': [],\n '00008145-41': [],\n '00008145-31': [],\n '00008145-32': [],\n '00008145-34': ['caries'],\n '00008145-35': [],\n '00008145-36': [],\n '00008152-12': [],\n '00008152-11': [],\n '00008152-21': ['post'],\n '00008152-22': [],\n '00008152-34': [],\n '00008152-35': [],\n '00008152-36': [],\n '00008152-50': [],\n '00008154-12': [],\n '00008154-11': [],\n '00008154-21': [],\n '00008154-22': [],\n '00008154-24': ['crown'],\n '00008154-25': ['crown'],\n '00008154-26': ['crown', 'endo'],\n '00008154-46': [],\n '00008154-45': ['endo'],\n '00008154-44': ['post', 'endo'],\n '00008156-12': [],\n '00008156-11': [],\n '00008156-21': ['post'],\n '00008156-22': [],\n '00008156-50': [],\n '00008156-51': ['caries'],\n '00008156-46': [],\n '00008156-45': ['endo'],\n '00008156-44': [],\n '00008156-42': ['caries'],\n '00008156-41': [],\n '00008156-31': [],\n '00008156-32': ['crown', 'post'],\n '00008157-16': ['crown', 'post'],\n '00008157-15': ['crown', 'endo'],\n '00008157-14': [],\n '00008157-12': ['caries'],\n '00008157-11': [],\n '00008157-21': [],\n '00008157-22': ['crown'],\n '00008157-50': ['crown'],\n '00008157-24': ['post'],\n '00008157-25': ['crown', 'post'],\n '00008157-26': [],\n '00008157-46': [],\n '00008157-45': [],\n '00008157-44': [],\n '00008157-42': [],\n '00008157-41': [],\n '00008157-31': [],\n '00008157-32': [],\n '00008157-34': [],\n '00008157-35': ['crown', 'post'],\n '00008157-36': ['crown'],\n '00008163-16': [],\n '00008163-15': [],\n '00008163-14': [],\n '00008163-12': [],\n '00008163-11': [],\n '00008163-21': [],\n '00008163-22': [],\n '00008163-50': [],\n '00008163-51': [],\n '00008163-46': [],\n '00008163-45': [],\n '00008163-44': [],\n '00008163-34': [],\n '00008163-35': [],\n '00008163-36': ['endo', 'endo'],\n '00008166-12': [],\n '00008166-11': ['caries', 'caries'],\n '00008166-21': [],\n '00008166-22': [],\n '00008166-46': ['caries'],\n '00008166-45': [],\n '00008166-44': ['caries'],\n '00008166-50': [],\n '00008169-16': [],\n '00008169-15': [],\n '00008169-14': [],\n '00008169-12': [],\n '00008169-11': [],\n '00008169-21': [],\n '00008169-22': [],\n '00008169-24': [],\n '00008169-25': [],\n '00008169-26': [],\n '00008169-42': [],\n '00008169-41': [],\n '00008169-31': [],\n '00008169-32': [],\n '00008177-16': [],\n '00008177-15': [],\n '00008177-14': [],\n '00008177-50': [],\n '00008177-12': [],\n '00008177-11': [],\n '00008177-21': [],\n '00008177-22': [],\n '00008177-24': [],\n '00008177-25': [],\n '00008177-26': [],\n '00008177-42': [],\n '00008177-41': [],\n '00008177-31': [],\n '00008177-32': [],\n '00008177-34': [],\n '00008177-35': [],\n '00008177-36': ['caries'],\n '00008180-46': [],\n '00008180-45': [],\n '00008180-44': [],\n '00008180-34': [],\n '00008180-35': [],\n '00008180-36': [],\n '00008180-50': [],\n '00008181-16': ['endo', 'endo', 'endo'],\n '00008181-15': [],\n '00008181-14': ['crown', 'post', 'endo'],\n '00008181-12': [],\n '00008181-11': [],\n '00008181-21': [],\n '00008181-22': ['crown', 'post'],\n '00008181-42': [],\n '00008181-41': [],\n '00008181-31': [],\n '00008181-32': [],\n '00008181-34': ['crown', 'post'],\n '00008181-35': [],\n '00008181-36': ['endo', 'endo'],\n '00008197-16': [],\n '00008197-15': ['caries'],\n '00008197-14': [],\n '00008197-50': [],\n '00008199-12': [],\n '00008199-11': ['crown', 'post'],\n '00008199-21': ['crown', 'post'],\n '00008199-22': ['crown', 'post', 'endo'],\n '00008199-50': ['crown', 'post'],\n '00008199-46': [],\n '00008199-45': ['caries'],\n '00008199-44': ['caries'],\n '00008200-16': [],\n '00008200-15': [],\n '00008200-14': [],\n '00008200-12': [],\n '00008200-11': [],\n '00008200-21': [],\n '00008200-22': [],\n '00008200-50': [],\n '00008200-46': ['caries'],\n '00008200-45': [],\n '00008200-44': [],\n '00008200-42': [],\n '00008200-41': [],\n '00008200-31': [],\n '00008200-32': [],\n '00008200-34': ['caries'],\n '00008200-35': [],\n '00008200-36': [],\n '00008210-16': [],\n '00008210-15': [],\n '00008210-14': [],\n '00008210-12': [],\n '00008210-11': [],\n '00008210-21': ['crown', 'endo'],\n '00008210-22': [],\n '00008217-12': [],\n '00008217-11': [],\n '00008217-21': [],\n '00008217-22': [],\n '00008217-34': [],\n '00008217-35': [],\n '00008217-36': [],\n '00008218-46': [],\n '00008218-45': [],\n '00008218-44': [],\n '00008218-50': [],\n '00008228-16': [],\n '00008228-15': [],\n '00008228-14': [],\n '00008228-12': [],\n '00008228-11': [],\n '00008228-21': [],\n '00008228-22': [],\n '00008228-24': [],\n '00008228-25': [],\n '00008228-26': [],\n '00008228-50': [],\n '00008228-46': [],\n '00008228-45': [],\n '00008228-44': [],\n '00008228-42': [],\n '00008228-41': [],\n '00008228-31': [],\n '00008228-32': [],\n '00008228-34': [],\n '00008228-35': [],\n '00008228-36': ['crown'],\n '00008231-16': [],\n '00008231-15': [],\n '00008231-14': [],\n '00008231-50': [],\n '00008231-34': [],\n '00008231-35': [],\n '00008231-36': [],\n '00008245-16': [],\n '00008245-15': ['post'],\n '00008245-14': [],\n '00008245-12': [],\n '00008245-11': [],\n '00008245-21': [],\n '00008245-22': [],\n '00008245-50': [],\n '00008245-42': [],\n '00008245-41': [],\n '00008245-31': [],\n '00008245-32': [],\n '00008246-16': [],\n '00008246-15': [],\n '00008246-14': [],\n '00008246-12': [],\n '00008246-11': ['endo', 'crown'],\n '00008246-21': ['endo', 'crown'],\n '00008246-22': [],\n '00008246-50': [],\n '00008250-12': [],\n '00008250-11': [],\n '00008250-21': [],\n '00008250-22': [],\n '00008250-50': [],\n '00008250-46': [],\n '00008250-45': ['endo'],\n '00008250-44': [],\n '00008250-42': [],\n '00008250-41': [],\n '00008250-31': ['endo'],\n '00008250-32': ['endo'],\n '00008257-12': [],\n '00008257-11': [],\n '00008257-21': [],\n '00008257-22': [],\n '00008257-50': [],\n '00008271-46': [],\n '00008271-45': [],\n '00008271-44': [],\n '00008271-42': [],\n '00008271-41': [],\n '00008271-31': [],\n '00008271-32': [],\n '00008271-50': [],\n '00008271-34': [],\n '00008271-35': [],\n '00008271-36': ['endo'],\n '00008272-16': [],\n '00008272-15': [],\n '00008272-14': [],\n '00008272-50': [],\n '00008272-12': [],\n '00008272-11': [],\n '00008272-21': [],\n '00008272-22': [],\n '00008272-46': [],\n '00008272-45': [],\n '00008272-44': [],\n '00008272-34': [],\n '00008272-35': [],\n '00008272-36': ['crown', 'endo'],\n '00008290-16': [],\n '00008290-15': ['endo', 'endo'],\n '00008290-14': [],\n '00008290-50': [],\n '00008306-16': [],\n '00008306-15': [],\n '00008306-14': [],\n '00008306-50': [],\n '00008306-12': ['post', 'crown'],\n '00008306-11': [],\n '00008306-21': [],\n '00008306-22': ['crown'],\n '00008306-24': [],\n '00008306-25': [],\n '00008306-26': [],\n '00008306-46': [],\n '00008306-45': [],\n '00008306-44': [],\n '00008306-34': [],\n '00008306-35': [],\n '00008306-36': ['crown'],\n '00008309-16': [],\n '00008309-15': [],\n '00008309-14': [],\n '00008309-12': [],\n '00008309-11': [],\n '00008309-21': [],\n '00008309-22': [],\n '00008309-50': [],\n '00008317-12': [],\n '00008317-11': [],\n '00008317-21': [],\n '00008317-22': [],\n '00008317-34': [],\n '00008317-35': [],\n '00008317-36': [],\n '00008318-12': [],\n '00008318-11': [],\n '00008318-21': [],\n '00008318-22': [],\n '00008318-24': [],\n '00008318-25': [],\n '00008318-26': [],\n '00008318-46': ['endo', 'endo', 'crown'],\n '00008318-45': [],\n '00008318-44': [],\n '00008318-42': [],\n '00008318-41': [],\n '00008318-31': [],\n '00008318-32': [],\n '00008318-34': [],\n '00008318-35': [],\n '00008318-36': ['endo', 'endo', 'crown', 'post'],\n '00008321-46': [],\n '00008321-45': [],\n '00008321-44': [],\n '00008321-42': [],\n '00008321-41': [],\n '00008321-31': [],\n '00008321-32': [],\n '00008321-34': [],\n '00008321-35': [],\n '00008321-36': [],\n '00008325-12': [],\n '00008325-11': [],\n '00008325-21': [],\n '00008325-22': [],\n '00008328-16': [],\n '00008328-15': [],\n '00008328-14': [],\n '00008328-12': [],\n '00008328-11': [],\n '00008328-21': [],\n '00008328-22': [],\n '00008328-50': [],\n '00008328-24': [],\n '00008328-25': [],\n '00008328-26': [],\n '00008336-16': [],\n '00008336-15': [],\n '00008336-14': [],\n '00008336-12': [],\n '00008336-11': [],\n '00008336-21': [],\n '00008336-22': ['crown'],\n '00008336-50': [],\n '00008336-24': [],\n '00008336-25': [],\n '00008336-26': [],\n '00008336-46': [],\n '00008336-45': ['endo'],\n '00008336-44': [],\n '00008336-42': [],\n '00008336-41': [],\n '00008336-31': [],\n '00008336-32': [],\n '00008336-34': [],\n '00008336-35': [],\n '00008336-36': ['crown', 'post', 'endo', 'endo', 'endo'],\n '00008338-16': [],\n '00008338-15': [],\n '00008338-14': [],\n '00008338-12': [],\n '00008338-11': [],\n '00008338-21': [],\n '00008338-22': [],\n '00008338-46': ['crown', 'endo'],\n '00008338-45': [],\n '00008338-44': [],\n '00008338-42': [],\n '00008338-41': [],\n '00008338-31': [],\n '00008338-32': [],\n '00008338-50': ['crown'],\n '00008338-34': [],\n '00008338-35': [],\n '00008338-36': [],\n '00008339-16': ['crown', 'endo', 'endo'],\n '00008339-15': [],\n '00008339-14': [],\n '00008339-12': [],\n '00008339-11': ['endo'],\n '00008339-21': ['endo'],\n '00008339-22': [],\n '00008339-50': ['endo'],\n '00008351-12': [],\n '00008351-11': [],\n '00008351-21': [],\n '00008351-22': [],\n '00008351-50': [],\n '00008351-24': [],\n '00008351-25': [],\n '00008351-26': [],\n '00008351-46': [],\n '00008351-45': [],\n '00008351-44': [],\n '00008351-34': [],\n '00008351-35': ['endo', 'post'],\n '00008351-36': [],\n '00008355-16': [],\n '00008355-15': [],\n '00008355-14': [],\n '00008355-12': [],\n '00008355-11': [],\n '00008355-21': [],\n '00008355-22': [],\n '00008355-50': [],\n '00008355-51': [],\n '00008355-24': [],\n '00008355-25': [],\n '00008355-26': [],\n '00008355-46': ['endo', 'post', 'crown'],\n '00008355-45': [],\n '00008355-44': [],\n '00008355-42': [],\n '00008355-41': [],\n '00008355-31': [],\n '00008355-32': [],\n '00008355-34': [],\n '00008355-35': [],\n '00008355-36': ['endo', 'endo', 'post', 'crown'],\n '00008370-16': [],\n '00008370-15': [],\n '00008370-14': [],\n '00008370-12': [],\n '00008370-11': [],\n '00008370-21': [],\n '00008370-22': [],\n '00008370-24': ['crown'],\n '00008370-25': ['crown'],\n '00008370-26': ['crown'],\n '00008370-42': [],\n '00008370-41': [],\n '00008370-31': [],\n '00008370-32': [],\n '00008370-34': [],\n '00008370-35': ['endo'],\n '00008370-36': [],\n '00008376-12': [],\n '00008376-11': [],\n '00008376-21': [],\n '00008376-22': [],\n '00008376-50': [],\n '00008376-51': [],\n '00008376-52': [],\n '00008376-53': [],\n '00008376-42': [],\n '00008376-41': [],\n '00008376-31': [],\n '00008376-32': [],\n '00008376-34': [],\n '00008376-35': ['crown'],\n '00008376-36': [],\n '00008377-12': [],\n '00008377-11': [],\n '00008377-21': [],\n '00008377-22': [],\n '00008377-24': ['crown', 'post'],\n '00008377-25': ['crown'],\n '00008377-26': ['crown', 'endo', 'endo'],\n '00008378-12': [],\n '00008378-11': [],\n '00008378-21': ['crown'],\n '00008378-22': [],\n '00008378-50': [],\n '00008384-12': [],\n '00008384-11': [],\n '00008384-21': [],\n '00008384-22': [],\n '00008391-16': [],\n '00008391-15': [],\n '00008391-14': [],\n '00008391-50': [],\n '00008391-12': [],\n '00008391-11': [],\n '00008391-21': [],\n '00008391-22': [],\n '00008391-51': [],\n '00008413-16': [],\n '00008413-15': ['endo'],\n '00008413-14': [],\n '00008413-12': [],\n '00008413-11': [],\n '00008413-21': [],\n '00008413-22': [],\n '00008419-16': [],\n '00008419-15': ['endo'],\n '00008419-14': [],\n '00008419-46': ['crown', 'endo', 'endo'],\n '00008419-45': [],\n '00008419-44': [],\n '00008427-46': [],\n '00008427-45': ['caries'],\n '00008427-44': [],\n '00008432-16': [],\n '00008432-15': ['endo'],\n '00008432-14': [],\n '00008432-12': [],\n '00008432-11': [],\n '00008432-21': ['crown', 'post'],\n '00008432-22': [],\n '00008432-24': ['post', 'endo'],\n '00008432-25': ['endo', 'crown'],\n '00008432-26': [],\n '00008432-34': [],\n '00008432-35': [],\n '00008432-36': ['crown'],\n '00008433-16': [],\n '00008433-15': [],\n '00008433-14': [],\n '00008433-12': [],\n '00008433-11': [],\n '00008433-21': [],\n '00008433-22': [],\n '00008433-50': [],\n '00008450-16': [],\n '00008450-15': [],\n '00008450-14': [],\n '00008450-12': [],\n '00008450-11': [],\n '00008450-21': [],\n '00008450-22': [],\n '00008450-50': [],\n '00008453-16': ['caries'],\n '00008453-15': [],\n '00008453-14': [],\n '00008453-12': [],\n '00008453-11': [],\n '00008453-21': [],\n '00008453-22': [],\n '00008453-50': [],\n '00008459-16': [],\n '00008459-15': [],\n '00008459-14': [],\n '00008461-12': [],\n '00008461-11': [],\n '00008461-21': [],\n '00008461-22': [],\n '00008461-50': [],\n '00008469-12': [],\n '00008469-11': ['crown'],\n '00008469-21': [],\n '00008469-22': [],\n '00008469-50': ['crown'],\n '00008482-12': [],\n '00008482-11': [],\n '00008482-21': ['crown', 'post'],\n '00008482-22': [],\n '00008482-24': [],\n '00008482-25': [],\n '00008482-26': [],\n '00008482-46': ['crown', 'endo', 'endo', 'post'],\n '00008482-45': [],\n '00008482-44': [],\n '00008488-42': [],\n '00008488-41': [],\n '00008488-31': [],\n '00008488-32': [],\n '00008488-34': [],\n '00008488-35': ['endo', 'crown'],\n '00008488-36': ['endo', 'endo', 'crown', 'post'],\n '00008494-12': [],\n '00008494-11': [],\n '00008494-21': [],\n '00008494-22': [],\n '00008494-42': [],\n '00008494-41': [],\n '00008494-31': [],\n '00008494-32': [],\n '00008494-34': ['endo'],\n '00008494-35': [],\n '00008494-36': ['caries'],\n '00008506-16': ['crown'],\n '00008506-15': [],\n '00008506-14': [],\n '00008506-50': [],\n '00008506-12': [],\n '00008506-11': [],\n '00008506-21': [],\n '00008506-22': [],\n '00008506-51': [],\n '00008506-52': [],\n '00008510-12': [],\n '00008510-11': [],\n '00008510-21': [],\n '00008510-22': ['endo'],\n '00008510-46': ['crown'],\n '00008510-45': [],\n '00008510-44': ['crown'],\n '00008511-12': ['post', 'crown'],\n '00008511-11': ['post', 'crown'],\n '00008511-21': ['endo', 'post', 'crown'],\n '00008511-22': ['endo'],\n '00008512-12': [],\n '00008512-11': [],\n '00008512-21': ['crown'],\n '00008512-22': [],\n '00008524-12': [],\n '00008524-11': [],\n '00008524-21': [],\n '00008524-22': [],\n '00008524-50': [],\n '00008524-24': [],\n '00008524-25': [],\n '00008524-26': [],\n '00008524-42': [],\n '00008524-41': [],\n '00008524-31': [],\n '00008524-32': [],\n '00008524-34': [],\n '00008524-35': [],\n '00008524-36': ['crown'],\n '00008526-12': [],\n '00008526-11': ['crown'],\n '00008526-21': ['crown'],\n '00008526-22': [],\n '00008526-50': [],\n '00008532-16': [],\n '00008532-15': [],\n '00008532-14': [],\n '00008532-12': [],\n '00008532-11': ['crown'],\n '00008532-21': ['crown'],\n '00008532-22': [],\n '00008532-50': [],\n '00008538-12': [],\n '00008538-11': [],\n '00008538-21': [],\n '00008538-22': [],\n '00008538-50': [],\n '00008538-51': [],\n '00008538-24': ['caries'],\n '00008538-25': [],\n '00008538-26': [],\n '00008555-16': [],\n '00008555-15': [],\n '00008555-14': [],\n '00008555-12': ['post', 'crown'],\n '00008555-11': ['post', 'crown'],\n '00008555-21': ['post', 'crown'],\n '00008555-22': ['endo', 'post', 'crown'],\n '00008555-46': [],\n '00008555-45': [],\n '00008555-44': [],\n '00008555-34': [],\n '00008555-35': [],\n '00008555-36': ['caries', 'endo', 'endo'],\n '00008557-24': [],\n '00008557-25': [],\n '00008557-26': ['endo', 'endo'],\n '00008559-46': [],\n '00008559-45': [],\n '00008559-44': [],\n '00008559-42': [],\n '00008559-41': [],\n '00008559-31': ['endo'],\n '00008559-32': ['endo'],\n '00008559-50': [],\n '00008563-12': [],\n '00008563-11': ['caries'],\n '00008563-21': [],\n '00008563-22': [],\n '00008563-50': [],\n '00008563-42': [],\n '00008563-41': [],\n '00008563-31': ['endo'],\n '00008563-32': [],\n '00008566-16': [],\n '00008566-15': [],\n '00008566-14': [],\n '00008566-12': ['endo', 'crown'],\n '00008566-11': [],\n '00008566-21': [],\n '00008566-22': [],\n '00008567-12': [],\n '00008567-11': [],\n '00008567-21': [],\n '00008567-22': [],\n '00008567-50': [],\n '00008567-51': [],\n '00008567-24': [],\n '00008567-25': ['endo', 'caries'],\n '00008567-26': [],\n '00008581-16': [],\n '00008581-15': [],\n '00008581-14': [],\n '00008581-12': [],\n '00008581-11': [],\n '00008581-21': [],\n '00008581-22': [],\n '00008581-24': [],\n '00008581-25': [],\n '00008581-26': [],\n '00008581-50': [],\n '00008581-46': [],\n '00008581-45': [],\n '00008581-44': [],\n '00008581-34': ['endo'],\n '00008581-35': [],\n '00008581-36': [],\n '00008586-16': [],\n '00008586-15': [],\n '00008586-14': [],\n '00008586-12': [],\n '00008586-11': [],\n '00008586-21': ['crown', 'post'],\n '00008586-22': ['crown', 'post'],\n '00008586-50': [],\n '00008590-12': ['endo', 'post', 'crown'],\n '00008590-11': [],\n '00008590-21': ['endo', 'post', 'crown'],\n '00008590-22': ['endo', 'post', 'crown'],\n '00008599-24': [],\n '00008599-25': [],\n '00008599-26': [],\n '00008599-46': ['caries'],\n '00008599-45': [],\n '00008599-44': [],\n '00008599-34': [],\n '00008599-35': [],\n '00008599-36': [],\n '00008599-50': [],\n '00008602-16': [],\n '00008602-15': [],\n '00008602-14': [],\n '00008602-12': ['crown'],\n '00008602-11': [],\n '00008602-21': [],\n '00008602-22': [],\n '00008602-50': [],\n '00008603-12': [],\n '00008603-11': [],\n '00008603-21': [],\n '00008603-22': [],\n '00008603-46': [],\n '00008603-45': [],\n '00008603-44': [],\n '00008603-34': [],\n '00008603-35': [],\n '00008603-36': ['caries'],\n '00008603-50': [],\n '00008614-12': [],\n '00008614-11': ['endo', 'post'],\n '00008614-21': [],\n '00008614-22': [],\n '00008614-42': [],\n '00008614-41': [],\n '00008614-31': [],\n '00008614-32': [],\n '00008614-34': [],\n '00008614-35': [],\n '00008614-36': ['endo', 'post', 'post', 'crown'],\n '00008631-16': [],\n '00008631-15': [],\n '00008631-14': [],\n '00008631-12': ['endo', 'post'],\n '00008631-11': [],\n '00008631-21': ['endo', 'post'],\n '00008631-22': [],\n '00008636-16': [],\n '00008636-15': [],\n '00008636-14': [],\n '00008636-12': [],\n '00008636-11': ['endo', 'caries'],\n '00008636-21': [],\n '00008636-22': [],\n '00008636-50': [],\n '00008636-24': [],\n '00008636-25': [],\n '00008636-26': [],\n '00008636-46': [],\n '00008636-45': [],\n '00008636-44': [],\n '00008636-42': [],\n '00008636-41': [],\n '00008636-31': [],\n '00008636-32': [],\n '00008636-34': [],\n '00008636-35': [],\n '00008636-36': ['post', 'endo', 'endo', 'endo', 'crown'],\n '00008643-16': [],\n '00008643-15': ['crown', 'endo', 'endo', 'endo'],\n '00008643-14': [],\n '00008643-42': [],\n '00008643-41': [],\n '00008643-31': [],\n '00008643-32': [],\n '00008643-50': [],\n '00008643-34': [],\n '00008643-35': [],\n '00008643-36': ['post', 'endo'],\n '00008644-12': [],\n '00008644-11': [],\n '00008644-21': [],\n '00008644-22': [],\n '00008644-50': [],\n '00008644-51': [],\n '00008644-52': [],\n '00008650-12': [],\n '00008650-11': [],\n '00008650-21': ['caries'],\n '00008650-22': [],\n '00008654-12': [],\n '00008654-11': [],\n '00008654-21': [],\n '00008654-22': [],\n '00008654-46': [],\n '00008654-45': [],\n '00008654-44': [],\n '00008654-42': [],\n '00008654-41': [],\n '00008654-31': [],\n '00008654-32': [],\n '00008654-50': [],\n '00008659-12': [],\n '00008659-11': [],\n '00008659-21': [],\n '00008659-22': [],\n '00008659-50': [],\n '00008659-24': [],\n '00008659-25': [],\n '00008659-26': ['crown'],\n '00008669-46': ['crown', 'post', 'post', 'endo'],\n '00008669-45': [],\n '00008669-44': [],\n '00008679-12': [],\n '00008679-11': [],\n '00008679-21': [],\n '00008679-22': [],\n '00008679-42': [],\n '00008679-41': [],\n '00008679-31': [],\n '00008679-32': [],\n '00008679-50': [],\n '00008680-16': [],\n '00008680-15': [],\n '00008680-14': [],\n '00008680-12': [],\n '00008680-11': [],\n '00008680-21': ['endo'],\n '00008680-22': [],\n '00008683-16': [],\n '00008683-15': ['endo', 'crown', 'post'],\n '00008683-14': [],\n '00008683-46': [],\n '00008683-45': [],\n '00008683-44': [],\n '00008683-34': ['post'],\n '00008683-35': [],\n '00008683-36': ['endo', 'post'],\n '00008689-12': [],\n '00008689-11': [],\n '00008689-21': [],\n '00008689-22': [],\n '00008691-16': [],\n '00008691-15': [],\n '00008691-14': [],\n '00008691-12': [],\n '00008691-11': [],\n '00008691-21': [],\n '00008691-22': [],\n '00008691-50': [],\n '00008691-24': [],\n '00008691-25': [],\n '00008691-26': [],\n '00008691-42': [],\n '00008691-41': [],\n '00008691-31': [],\n '00008691-32': [],\n '00008691-34': [],\n '00008691-35': [],\n '00008691-36': ['crown', 'post', 'endo', 'endo'],\n '00008707-16': ['crown'],\n '00008707-15': ['crown', 'post'],\n '00008707-14': [],\n '00008707-12': [],\n '00008707-11': [],\n '00008707-21': [],\n '00008707-22': [],\n '00008707-50': [],\n '00008707-24': [],\n '00008707-25': [],\n '00008707-26': ['crown'],\n ...}"
     },
     "execution_count": 12,
     "metadata": {},
     "output_type": "execute_result"
    }
   ],
   "source": [
    "image_labels"
   ],
   "metadata": {
    "collapsed": false,
    "pycharm": {
     "name": "#%%\n"
    }
   }
  },
  {
   "cell_type": "code",
   "execution_count": 13,
   "outputs": [],
   "source": [
    "# for tooth_number, r in region.items():\n",
    "#     print(r)\n",
    "# target_roi\n",
    "# label\n",
    "# !jupyter nbconvert --to script prepare_classify_format.ipynb\n",
    "\n",
    "j = json.dumps(image_labels)\n",
    "\n",
    "with open('image_labels_for_classify.json', 'w') as f:\n",
    "    f.write(j)\n"
   ],
   "metadata": {
    "collapsed": false,
    "pycharm": {
     "name": "#%%\n"
    }
   }
  },
  {
   "cell_type": "markdown",
   "source": [
    "## Check json file and jpg file pair"
   ],
   "metadata": {
    "collapsed": false,
    "pycharm": {
     "name": "#%% md\n"
    }
   }
  },
  {
   "cell_type": "code",
   "execution_count": 14,
   "outputs": [
    {
     "data": {
      "text/plain": "set()"
     },
     "execution_count": 14,
     "metadata": {},
     "output_type": "execute_result"
    }
   ],
   "source": [
    "jpgs = list(data_dir.glob('*.jpg'))\n",
    "jsons = list(data_dir.glob('*.json'))\n",
    "\n",
    "jpgs_set = {jpg.stem for jpg in jpgs}\n",
    "jsons_set = {json_file.stem for json_file in jsons}\n",
    "\n",
    "(jpgs_set - jsons_set) | (jsons_set - jpgs_set)\n"
   ],
   "metadata": {
    "collapsed": false,
    "pycharm": {
     "name": "#%%\n"
    }
   }
  }
 ],
 "metadata": {
  "kernelspec": {
   "display_name": "Python 3",
   "language": "python",
   "name": "python3"
  },
  "language_info": {
   "codemirror_mode": {
    "name": "ipython",
    "version": 2
   },
   "file_extension": ".py",
   "mimetype": "text/x-python",
   "name": "python",
   "nbconvert_exporter": "python",
   "pygments_lexer": "ipython2",
   "version": "2.7.6"
  }
 },
 "nbformat": 4,
 "nbformat_minor": 0
}