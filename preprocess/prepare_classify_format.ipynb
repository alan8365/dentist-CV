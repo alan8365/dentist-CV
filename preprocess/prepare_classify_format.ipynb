{
 "cells": [
  {
   "cell_type": "code",
   "execution_count": 45,
   "metadata": {
    "collapsed": true,
    "pycharm": {
     "name": "#%%\n"
    }
   },
   "outputs": [
    {
     "data": {
      "text/plain": "True"
     },
     "execution_count": 45,
     "metadata": {},
     "output_type": "execute_result"
    }
   ],
   "source": [
    "import os\n",
    "\n",
    "from scipy import ndimage\n",
    "import math\n",
    "import json\n",
    "import torch\n",
    "import numpy as np\n",
    "\n",
    "import cv2\n",
    "import matplotlib\n",
    "\n",
    "from matplotlib import pyplot as plt\n",
    "\n",
    "from tqdm import tqdm\n",
    "from pathlib import Path\n",
    "from dotenv import load_dotenv\n",
    "\n",
    "from utils.yolo import get_teeth_ROI\n",
    "from utils.edge import tooth_isolation, gum_jaw_separation, vertical_separation, bounding_teeth_on_origin\n",
    "from utils.preprocess import recovery_rotated_bounding, xyxy2xywh, get_image_by_labels, get_labels_by_image\n",
    "from utils.preprocess import xyxy_reformat, rotate_bounding_boxes, rect_include_another\n",
    "\n",
    "matplotlib.use('module://matplotlib_inline.backend_inline')\n",
    "load_dotenv()\n"
   ]
  },
  {
   "cell_type": "code",
   "execution_count": 46,
   "outputs": [
    {
     "data": {
      "text/plain": "                                caries   endo   post  crown\nfilename                                                   \n00006145                          True  False  False  False\n00008026                          True   True   True   True\n00008113                          True   True   True   True\n00008117                          True  False  False  False\n00008131                          True   True  False  False\n...                                ...    ...    ...    ...\n202012050412159442018_0690727A   False   True   True   True\n202012050412229432017_0781002A   False   True  False  False\n202012051012069362000_0760503A   False   True  False   True\n202012051012169372006_0690223A   False   True   True   True\n202012051012279382005_0621018A   False   True   True   True\n\n[365 rows x 4 columns]",
      "text/html": "<div>\n<style scoped>\n    .dataframe tbody tr th:only-of-type {\n        vertical-align: middle;\n    }\n\n    .dataframe tbody tr th {\n        vertical-align: top;\n    }\n\n    .dataframe thead th {\n        text-align: right;\n    }\n</style>\n<table border=\"1\" class=\"dataframe\">\n  <thead>\n    <tr style=\"text-align: right;\">\n      <th></th>\n      <th>caries</th>\n      <th>endo</th>\n      <th>post</th>\n      <th>crown</th>\n    </tr>\n    <tr>\n      <th>filename</th>\n      <th></th>\n      <th></th>\n      <th></th>\n      <th></th>\n    </tr>\n  </thead>\n  <tbody>\n    <tr>\n      <th>00006145</th>\n      <td>True</td>\n      <td>False</td>\n      <td>False</td>\n      <td>False</td>\n    </tr>\n    <tr>\n      <th>00008026</th>\n      <td>True</td>\n      <td>True</td>\n      <td>True</td>\n      <td>True</td>\n    </tr>\n    <tr>\n      <th>00008113</th>\n      <td>True</td>\n      <td>True</td>\n      <td>True</td>\n      <td>True</td>\n    </tr>\n    <tr>\n      <th>00008117</th>\n      <td>True</td>\n      <td>False</td>\n      <td>False</td>\n      <td>False</td>\n    </tr>\n    <tr>\n      <th>00008131</th>\n      <td>True</td>\n      <td>True</td>\n      <td>False</td>\n      <td>False</td>\n    </tr>\n    <tr>\n      <th>...</th>\n      <td>...</td>\n      <td>...</td>\n      <td>...</td>\n      <td>...</td>\n    </tr>\n    <tr>\n      <th>202012050412159442018_0690727A</th>\n      <td>False</td>\n      <td>True</td>\n      <td>True</td>\n      <td>True</td>\n    </tr>\n    <tr>\n      <th>202012050412229432017_0781002A</th>\n      <td>False</td>\n      <td>True</td>\n      <td>False</td>\n      <td>False</td>\n    </tr>\n    <tr>\n      <th>202012051012069362000_0760503A</th>\n      <td>False</td>\n      <td>True</td>\n      <td>False</td>\n      <td>True</td>\n    </tr>\n    <tr>\n      <th>202012051012169372006_0690223A</th>\n      <td>False</td>\n      <td>True</td>\n      <td>True</td>\n      <td>True</td>\n    </tr>\n    <tr>\n      <th>202012051012279382005_0621018A</th>\n      <td>False</td>\n      <td>True</td>\n      <td>True</td>\n      <td>True</td>\n    </tr>\n  </tbody>\n</table>\n<p>365 rows × 4 columns</p>\n</div>"
     },
     "execution_count": 46,
     "metadata": {},
     "output_type": "execute_result"
    }
   ],
   "source": [
    "target_labels = ['caries', 'endo', 'post', 'crown']\n",
    "image_labels_df = get_image_by_labels(target_labels)[target_labels]\n",
    "\n",
    "image_labels_df\n"
   ],
   "metadata": {
    "collapsed": false,
    "pycharm": {
     "name": "#%%\n"
    }
   }
  },
  {
   "cell_type": "code",
   "execution_count": 47,
   "outputs": [],
   "source": [
    "data_dir = Path('..') / '..' / 'Datasets' / 'phase-2'\n",
    "\n",
    "filename = image_labels_df.index[1]\n",
    "filepath_image = data_dir / f'{filename}.jpg'\n",
    "filepath_json = data_dir / f'{filename}.json'\n"
   ],
   "metadata": {
    "collapsed": false,
    "pycharm": {
     "name": "#%%\n"
    }
   }
  },
  {
   "cell_type": "code",
   "execution_count": 48,
   "outputs": [
    {
     "name": "stderr",
     "output_type": "stream",
     "text": [
      "YOLOv5  torch 1.10.0+cpu CPU\n",
      "\n",
      "Fusing layers... \n",
      "Model summary: 270 layers, 7041205 parameters, 0 gradients, 15.9 GFLOPs\n",
      "Adding AutoShape... \n"
     ]
    },
    {
     "name": "stdout",
     "output_type": "stream",
     "text": [
      "\u001B[31m\u001B[1mrequirements:\u001B[0m C:\\Users\\denni\\anaconda3\\envs\\dentist-cv\\Lib\\site-packages\\yolov5\\requirements.txt not found, check failed.\n"
     ]
    },
    {
     "data": {
      "text/plain": "[{'flag': 'upper',\n  'number': 0,\n  'org_file_name': '00008026',\n  'offset': array([698, 281]),\n  'image': array([[[129, 129, 129],\n          [130, 130, 130],\n          [133, 133, 133],\n          ...,\n          [135, 135, 135],\n          [133, 133, 133],\n          [131, 131, 131]],\n  \n         [[127, 127, 127],\n          [129, 129, 129],\n          [133, 133, 133],\n          ...,\n          [138, 138, 138],\n          [139, 139, 139],\n          [139, 139, 139]],\n  \n         [[127, 127, 127],\n          [132, 132, 132],\n          [136, 136, 136],\n          ...,\n          [145, 145, 145],\n          [145, 145, 145],\n          [146, 146, 146]],\n  \n         ...,\n  \n         [[142, 142, 142],\n          [143, 143, 143],\n          [137, 137, 137],\n          ...,\n          [117, 117, 117],\n          [120, 120, 120],\n          [122, 122, 122]],\n  \n         [[142, 142, 142],\n          [139, 139, 139],\n          [130, 130, 130],\n          ...,\n          [115, 115, 115],\n          [116, 116, 116],\n          [119, 119, 119]],\n  \n         [[141, 141, 141],\n          [139, 139, 139],\n          [130, 130, 130],\n          ...,\n          [116, 116, 116],\n          [118, 118, 118],\n          [122, 122, 122]]], dtype=uint8)},\n {'flag': 'upper',\n  'number': 1,\n  'org_file_name': '00008026',\n  'offset': array([1017,  337]),\n  'image': array([[[ 57,  57,  57],\n          [ 58,  58,  58],\n          [ 57,  57,  57],\n          ...,\n          [ 61,  61,  61],\n          [ 61,  61,  61],\n          [ 60,  60,  60]],\n  \n         [[ 58,  58,  58],\n          [ 58,  58,  58],\n          [ 58,  58,  58],\n          ...,\n          [ 60,  60,  60],\n          [ 61,  61,  61],\n          [ 60,  60,  60]],\n  \n         [[ 60,  60,  60],\n          [ 60,  60,  60],\n          [ 60,  60,  60],\n          ...,\n          [ 60,  60,  60],\n          [ 60,  60,  60],\n          [ 61,  61,  61]],\n  \n         ...,\n  \n         [[102, 102, 102],\n          [105, 105, 105],\n          [108, 108, 108],\n          ...,\n          [ 37,  37,  37],\n          [ 38,  38,  38],\n          [ 38,  38,  38]],\n  \n         [[104, 104, 104],\n          [106, 106, 106],\n          [108, 108, 108],\n          ...,\n          [ 38,  38,  38],\n          [ 38,  38,  38],\n          [ 37,  37,  37]],\n  \n         [[105, 105, 105],\n          [108, 108, 108],\n          [109, 109, 109],\n          ...,\n          [ 40,  40,  40],\n          [ 39,  39,  39],\n          [ 36,  36,  36]]], dtype=uint8)},\n {'flag': 'upper',\n  'number': 2,\n  'org_file_name': '00008026',\n  'offset': array([1348,  294]),\n  'image': array([[[155, 155, 155],\n          [157, 157, 157],\n          [159, 159, 159],\n          ...,\n          [144, 144, 144],\n          [145, 145, 145],\n          [151, 151, 151]],\n  \n         [[151, 151, 151],\n          [154, 154, 154],\n          [156, 156, 156],\n          ...,\n          [142, 142, 142],\n          [139, 139, 139],\n          [142, 142, 142]],\n  \n         [[154, 154, 154],\n          [156, 156, 156],\n          [159, 159, 159],\n          ...,\n          [142, 142, 142],\n          [132, 132, 132],\n          [134, 134, 134]],\n  \n         ...,\n  \n         [[ 66,  66,  66],\n          [ 67,  67,  67],\n          [ 70,  70,  70],\n          ...,\n          [124, 124, 124],\n          [124, 124, 124],\n          [128, 128, 128]],\n  \n         [[ 68,  68,  68],\n          [ 69,  69,  69],\n          [ 72,  72,  72],\n          ...,\n          [123, 123, 123],\n          [121, 121, 121],\n          [126, 126, 126]],\n  \n         [[ 70,  70,  70],\n          [ 71,  71,  71],\n          [ 73,  73,  73],\n          ...,\n          [123, 123, 123],\n          [120, 120, 120],\n          [124, 124, 124]]], dtype=uint8)},\n {'flag': 'lower',\n  'number': 0,\n  'org_file_name': '00008026',\n  'offset': array([781, 562]),\n  'image': array([[[49, 49, 49],\n          [50, 50, 50],\n          [51, 51, 51],\n          ...,\n          [47, 47, 47],\n          [55, 55, 55],\n          [60, 60, 60]],\n  \n         [[50, 50, 50],\n          [49, 49, 49],\n          [49, 49, 49],\n          ...,\n          [46, 46, 46],\n          [54, 54, 54],\n          [60, 60, 60]],\n  \n         [[50, 50, 50],\n          [49, 49, 49],\n          [49, 49, 49],\n          ...,\n          [46, 46, 46],\n          [54, 54, 54],\n          [60, 60, 60]],\n  \n         ...,\n  \n         [[95, 95, 95],\n          [92, 92, 92],\n          [89, 89, 89],\n          ...,\n          [74, 74, 74],\n          [75, 75, 75],\n          [75, 75, 75]],\n  \n         [[99, 99, 99],\n          [96, 96, 96],\n          [92, 92, 92],\n          ...,\n          [73, 73, 73],\n          [74, 74, 74],\n          [74, 74, 74]],\n  \n         [[91, 91, 91],\n          [93, 93, 93],\n          [94, 94, 94],\n          ...,\n          [69, 69, 69],\n          [69, 69, 69],\n          [71, 71, 71]]], dtype=uint8)},\n {'flag': 'lower',\n  'number': 1,\n  'org_file_name': '00008026',\n  'offset': array([1083,  683]),\n  'image': array([[[ 21,  21,  21],\n          [ 19,  19,  19],\n          [ 19,  19,  19],\n          ...,\n          [ 32,  32,  32],\n          [ 34,  34,  34],\n          [ 35,  35,  35]],\n  \n         [[ 20,  20,  20],\n          [ 19,  19,  19],\n          [ 18,  18,  18],\n          ...,\n          [ 33,  33,  33],\n          [ 34,  34,  34],\n          [ 36,  36,  36]],\n  \n         [[ 20,  20,  20],\n          [ 19,  19,  19],\n          [ 18,  18,  18],\n          ...,\n          [ 33,  33,  33],\n          [ 35,  35,  35],\n          [ 36,  36,  36]],\n  \n         ...,\n  \n         [[ 74,  74,  74],\n          [ 74,  74,  74],\n          [ 74,  74,  74],\n          ...,\n          [100, 100, 100],\n          [100, 100, 100],\n          [100, 100, 100]],\n  \n         [[ 73,  73,  73],\n          [ 73,  73,  73],\n          [ 73,  73,  73],\n          ...,\n          [100, 100, 100],\n          [100, 100, 100],\n          [100, 100, 100]],\n  \n         [[ 74,  74,  74],\n          [ 72,  72,  72],\n          [ 69,  69,  69],\n          ...,\n          [101, 101, 101],\n          [100, 100, 100],\n          [ 99,  99,  99]]], dtype=uint8)},\n {'flag': 'lower',\n  'number': 2,\n  'org_file_name': '00008026',\n  'offset': array([1339,  553]),\n  'image': array([[[ 76,  76,  76],\n          [ 77,  77,  77],\n          [ 78,  78,  78],\n          ...,\n          [  2,   2,   2],\n          [  4,   4,   4],\n          [ 12,  12,  12]],\n  \n         [[ 75,  75,  75],\n          [ 78,  78,  78],\n          [ 79,  79,  79],\n          ...,\n          [  3,   3,   3],\n          [  4,   4,   4],\n          [ 18,  18,  18]],\n  \n         [[ 76,  76,  76],\n          [ 80,  80,  80],\n          [ 81,  81,  81],\n          ...,\n          [ 13,  13,  13],\n          [ 16,  16,  16],\n          [ 18,  18,  18]],\n  \n         ...,\n  \n         [[107, 107, 107],\n          [108, 108, 108],\n          [109, 109, 109],\n          ...,\n          [114, 114, 114],\n          [117, 117, 117],\n          [113, 113, 113]],\n  \n         [[106, 106, 106],\n          [106, 106, 106],\n          [107, 107, 107],\n          ...,\n          [115, 115, 115],\n          [114, 114, 114],\n          [115, 115, 115]],\n  \n         [[106, 106, 106],\n          [106, 106, 106],\n          [106, 106, 106],\n          ...,\n          [114, 114, 114],\n          [113, 113, 113],\n          [115, 115, 115]]], dtype=uint8)}]"
     },
     "execution_count": 48,
     "metadata": {},
     "output_type": "execute_result"
    }
   ],
   "source": [
    "tooth_position_dict = {\n",
    "    0: 'left',\n",
    "    1: 'middle',\n",
    "    2: 'right'\n",
    "}\n",
    "\n",
    "model = torch.hub.load(r'..\\YOLO', 'custom', path=r'..\\YOLO\\weights\\8-bound.pt', source='local')\n",
    "# Image\n",
    "# Inference\n",
    "results = model(filepath_image)\n",
    "\n",
    "teeth_roi = get_teeth_ROI(results)\n",
    "teeth_roi_images = teeth_roi['images'][filename]\n",
    "teeth_roi_split_teeth = teeth_roi['split_teeth']\n",
    "teeth_roi_images\n"
   ],
   "metadata": {
    "collapsed": false,
    "pycharm": {
     "name": "#%%\n"
    }
   }
  },
  {
   "cell_type": "markdown",
   "source": [
    "# One file check"
   ],
   "metadata": {
    "collapsed": false,
    "pycharm": {
     "name": "#%% md\n"
    }
   }
  },
  {
   "cell_type": "code",
   "execution_count": 49,
   "outputs": [
    {
     "data": {
      "text/plain": "{'00008026-11': ['post', 'endo', 'crown'],\n '00008026-21': ['post', 'endo', 'crown'],\n '00008026-12': ['crown'],\n '00008026-22': ['crown'],\n '00008026-26': ['crown'],\n '00008026-46': ['caries'],\n '00008026-32': ['crown'],\n '00008026-36': ['crown', 'post', 'endo']}"
     },
     "execution_count": 49,
     "metadata": {},
     "output_type": "execute_result"
    }
   ],
   "source": [
    "image_labels = {}\n",
    "labels = get_labels_by_image(filepath_json, target_labels)\n",
    "for target_roi in teeth_roi_images:\n",
    "    target_roi_image = target_roi['image']\n",
    "    flag = target_roi['flag']\n",
    "    tooth_position = tooth_position_dict[target_roi['number']]\n",
    "    im_g = cv2.cvtColor(target_roi_image, cv2.COLOR_RGBA2GRAY)\n",
    "    im_g_shape = np.array(np.array(im_g.shape)[[1, 0]])\n",
    "\n",
    "    isolation_data = tooth_isolation(im_g, flag=flag, tooth_position=tooth_position, rotation_fix=False)\n",
    "    if not isolation_data:\n",
    "        continue\n",
    "    regions = isolation_data['crop_regions']\n",
    "    theta = isolation_data['angle']\n",
    "    offset = target_roi['offset']\n",
    "\n",
    "    phi = math.radians(theta)\n",
    "    for label in labels:\n",
    "        xyxy = np.hstack(label['points'])  # [x, y, x, y]\n",
    "        xyxy = xyxy_reformat(np.array([xyxy]))\n",
    "\n",
    "        xyxy = xyxy - np.tile(offset, 2)\n",
    "        if xyxy.min() < 0:\n",
    "            continue\n",
    "\n",
    "        xyxy = rotate_bounding_boxes(phi, im_g_shape, xyxy)\n",
    "        xyxy = xyxy[0].astype(int)\n",
    "\n",
    "        for tooth_number, region in regions.items():\n",
    "            tooth_xyxy = region['xyxy']\n",
    "            if rect_include_another(tooth_xyxy, xyxy) > 0.5:\n",
    "                key = f'{filename}-{tooth_number}'\n",
    "                if not key in image_labels.keys():\n",
    "                    image_labels[key] = []\n",
    "                image_labels[key].append(label['label'])\n",
    "\n",
    "image_labels\n"
   ],
   "metadata": {
    "collapsed": false,
    "pycharm": {
     "name": "#%%\n"
    }
   }
  },
  {
   "cell_type": "code",
   "execution_count": 50,
   "outputs": [
    {
     "name": "stderr",
     "output_type": "stream",
     "text": [
      "  3%|▎         | 12/365 [01:28<29:00,  4.93s/it] "
     ]
    },
    {
     "name": "stdout",
     "output_type": "stream",
     "text": [
      "00008155:dict_keys([])\n",
      "00008155:dict_keys([])\n"
     ]
    },
    {
     "name": "stderr",
     "output_type": "stream",
     "text": [
      "  7%|▋         | 26/365 [03:21<43:01,  7.61s/it]"
     ]
    },
    {
     "name": "stdout",
     "output_type": "stream",
     "text": [
      "00008218:dict_keys(['47', '33', '43'])\n"
     ]
    },
    {
     "name": "stderr",
     "output_type": "stream",
     "text": [
      "  8%|▊         | 29/365 [03:34<28:27,  5.08s/it]"
     ]
    },
    {
     "name": "stdout",
     "output_type": "stream",
     "text": [
      "00008227:dict_keys(['43', '17'])\n",
      "00008227:dict_keys(['43', '17'])\n"
     ]
    },
    {
     "name": "stderr",
     "output_type": "stream",
     "text": [
      "  9%|▉         | 33/365 [03:51<18:31,  3.35s/it]"
     ]
    },
    {
     "name": "stdout",
     "output_type": "stream",
     "text": [
      "00008239:dict_keys([])\n",
      "00008239:dict_keys([])\n",
      "00008241:dict_keys([])\n",
      "00008241:dict_keys([])\n"
     ]
    },
    {
     "name": "stderr",
     "output_type": "stream",
     "text": [
      "  9%|▉         | 34/365 [03:51<13:11,  2.39s/it]"
     ]
    },
    {
     "name": "stdout",
     "output_type": "stream",
     "text": [
      "00008243:dict_keys([])\n",
      "00008243:dict_keys([])\n"
     ]
    },
    {
     "name": "stderr",
     "output_type": "stream",
     "text": [
      " 10%|█         | 37/365 [04:15<32:02,  5.86s/it]"
     ]
    },
    {
     "name": "stdout",
     "output_type": "stream",
     "text": [
      "00008254:dict_keys(['33', '43'])\n"
     ]
    },
    {
     "name": "stderr",
     "output_type": "stream",
     "text": [
      " 14%|█▎        | 50/365 [06:02<48:44,  9.28s/it]"
     ]
    },
    {
     "name": "stdout",
     "output_type": "stream",
     "text": [
      "00008329:dict_keys(['27', '17', '13', '43'])\n"
     ]
    },
    {
     "name": "stderr",
     "output_type": "stream",
     "text": [
      " 14%|█▍        | 52/365 [06:04<25:43,  4.93s/it]"
     ]
    },
    {
     "name": "stdout",
     "output_type": "stream",
     "text": [
      "00008332:dict_keys([])\n",
      "00008332:dict_keys([])\n"
     ]
    },
    {
     "name": "stderr",
     "output_type": "stream",
     "text": [
      " 21%|██        | 77/365 [09:12<33:52,  7.06s/it]"
     ]
    },
    {
     "name": "stdout",
     "output_type": "stream",
     "text": [
      "00008465:dict_keys(['17', '13', '43'])\n"
     ]
    },
    {
     "name": "stderr",
     "output_type": "stream",
     "text": [
      " 22%|██▏       | 80/365 [09:19<18:39,  3.93s/it]"
     ]
    },
    {
     "name": "stdout",
     "output_type": "stream",
     "text": [
      "00008476:dict_keys([])\n",
      "00008476:dict_keys([])\n"
     ]
    },
    {
     "name": "stderr",
     "output_type": "stream",
     "text": [
      " 22%|██▏       | 81/365 [09:25<21:21,  4.51s/it]"
     ]
    },
    {
     "name": "stdout",
     "output_type": "stream",
     "text": [
      "00008483:dict_keys(['33', '43'])\n"
     ]
    },
    {
     "name": "stderr",
     "output_type": "stream",
     "text": [
      " 25%|██▌       | 92/365 [10:35<22:08,  4.87s/it]"
     ]
    },
    {
     "name": "stdout",
     "output_type": "stream",
     "text": [
      "00008527:dict_keys(['37', '47'])\n"
     ]
    },
    {
     "name": "stderr",
     "output_type": "stream",
     "text": [
      " 28%|██▊       | 103/365 [12:07<39:59,  9.16s/it]"
     ]
    },
    {
     "name": "stdout",
     "output_type": "stream",
     "text": [
      "00008590:dict_keys(['27', '23', '13'])\n"
     ]
    },
    {
     "name": "stderr",
     "output_type": "stream",
     "text": [
      " 32%|███▏      | 116/365 [13:50<33:50,  8.16s/it]"
     ]
    },
    {
     "name": "stdout",
     "output_type": "stream",
     "text": [
      "00008650:dict_keys(['23', '33', '13'])\n"
     ]
    },
    {
     "name": "stderr",
     "output_type": "stream",
     "text": [
      " 41%|████      | 150/365 [18:28<24:41,  6.89s/it]"
     ]
    },
    {
     "name": "stdout",
     "output_type": "stream",
     "text": [
      "20180704060758197262_000194:dict_keys(['43'])\n",
      "20180704060758197262_000194:dict_keys(['43'])\n"
     ]
    },
    {
     "name": "stderr",
     "output_type": "stream",
     "text": [
      " 52%|█████▏    | 188/365 [24:13<17:01,  5.77s/it]"
     ]
    },
    {
     "name": "stdout",
     "output_type": "stream",
     "text": [
      "201808060608435832215_000581:dict_keys([])\n",
      "201808060608435832215_000581:dict_keys([])\n"
     ]
    },
    {
     "name": "stderr",
     "output_type": "stream",
     "text": [
      " 60%|█████▉    | 218/365 [28:47<17:14,  7.04s/it]"
     ]
    },
    {
     "name": "stdout",
     "output_type": "stream",
     "text": [
      "201809100609118514541_000849:dict_keys(['23'])\n",
      "201809100609118514541_000849:dict_keys(['23'])\n"
     ]
    },
    {
     "name": "stderr",
     "output_type": "stream",
     "text": [
      " 63%|██████▎   | 229/365 [30:17<20:30,  9.05s/it]"
     ]
    },
    {
     "name": "stdout",
     "output_type": "stream",
     "text": [
      "201809280909389265470_000924:dict_keys(['13', '23', '43'])\n"
     ]
    },
    {
     "name": "stderr",
     "output_type": "stream",
     "text": [
      " 67%|██████▋   | 243/365 [32:18<18:17,  9.00s/it]"
     ]
    },
    {
     "name": "stdout",
     "output_type": "stream",
     "text": [
      "202011131011165451591_0641128A:dict_keys(['17', '13', '23', '27'])\n"
     ]
    },
    {
     "name": "stderr",
     "output_type": "stream",
     "text": [
      " 67%|██████▋   | 245/365 [32:23<11:03,  5.53s/it]"
     ]
    },
    {
     "name": "stdout",
     "output_type": "stream",
     "text": [
      "202011131011255451594_0641128A:dict_keys(['17', '27'])\n"
     ]
    },
    {
     "name": "stderr",
     "output_type": "stream",
     "text": [
      " 68%|██████▊   | 247/365 [32:30<08:01,  4.08s/it]"
     ]
    },
    {
     "name": "stdout",
     "output_type": "stream",
     "text": [
      "202011131111455451595_0641128A:dict_keys(['17', '27'])\n"
     ]
    },
    {
     "name": "stderr",
     "output_type": "stream",
     "text": [
      " 68%|██████▊   | 250/365 [32:51<10:04,  5.26s/it]"
     ]
    },
    {
     "name": "stdout",
     "output_type": "stream",
     "text": [
      "202011140511107671624_0410324A:dict_keys([])\n",
      "202011140511107671624_0410324A:dict_keys([])\n"
     ]
    },
    {
     "name": "stderr",
     "output_type": "stream",
     "text": [
      " 75%|███████▌  | 274/365 [36:36<09:08,  6.02s/it]"
     ]
    },
    {
     "name": "stdout",
     "output_type": "stream",
     "text": [
      "202011190411398091696_0440109A:dict_keys(['47', '23'])\n",
      "202011190411398091696_0440109A:dict_keys(['47', '23'])\n"
     ]
    },
    {
     "name": "stderr",
     "output_type": "stream",
     "text": [
      " 79%|███████▉  | 290/365 [39:06<09:02,  7.23s/it]"
     ]
    },
    {
     "name": "stdout",
     "output_type": "stream",
     "text": [
      "202011210711248031772_0281222A:dict_keys([])\n",
      "202011210711248031772_0281222A:dict_keys([])\n"
     ]
    },
    {
     "name": "stderr",
     "output_type": "stream",
     "text": [
      " 83%|████████▎ | 302/365 [40:43<06:11,  5.90s/it]"
     ]
    },
    {
     "name": "stdout",
     "output_type": "stream",
     "text": [
      "202011240311078541809_0311001A:dict_keys([])\n",
      "202011240311078541809_0311001A:dict_keys([])\n"
     ]
    },
    {
     "name": "stderr",
     "output_type": "stream",
     "text": [
      " 85%|████████▍ | 310/365 [41:38<04:44,  5.18s/it]"
     ]
    },
    {
     "name": "stdout",
     "output_type": "stream",
     "text": [
      "202011240911128501796_0481028A:dict_keys([])\n",
      "202011240911128501796_0481028A:dict_keys([])\n"
     ]
    },
    {
     "name": "stderr",
     "output_type": "stream",
     "text": [
      " 88%|████████▊ | 322/365 [43:04<03:30,  4.90s/it]"
     ]
    },
    {
     "name": "stdout",
     "output_type": "stream",
     "text": [
      "202011280411408761876_0441126A:dict_keys(['23'])\n",
      "202011280411408761876_0441126A:dict_keys(['23'])\n"
     ]
    },
    {
     "name": "stderr",
     "output_type": "stream",
     "text": [
      " 97%|█████████▋| 353/365 [47:33<01:48,  9.00s/it]"
     ]
    },
    {
     "name": "stdout",
     "output_type": "stream",
     "text": [
      "202012031112019181962_0270118A:dict_keys(['33', '13', '23', '27'])\n"
     ]
    },
    {
     "name": "stderr",
     "output_type": "stream",
     "text": [
      " 98%|█████████▊| 357/365 [47:51<00:42,  5.25s/it]"
     ]
    },
    {
     "name": "stdout",
     "output_type": "stream",
     "text": [
      "202012040612241941985_0530925A:dict_keys([])\n",
      "202012040612241941985_0530925A:dict_keys([])\n"
     ]
    },
    {
     "name": "stderr",
     "output_type": "stream",
     "text": [
      "100%|██████████| 365/365 [49:06<00:00,  8.07s/it]"
     ]
    },
    {
     "name": "stdout",
     "output_type": "stream",
     "text": [
      "202012051012279382005_0621018A:dict_keys([])\n",
      "202012051012279382005_0621018A:dict_keys([])\n"
     ]
    },
    {
     "name": "stderr",
     "output_type": "stream",
     "text": [
      "\n"
     ]
    }
   ],
   "source": [
    "image_labels = {}\n",
    "for filename in tqdm(image_labels_df.index):\n",
    "    filepath_image = data_dir / f'{filename}.jpg'\n",
    "    filepath_json = data_dir / f'{filename}.json'\n",
    "\n",
    "    results = model(filepath_image)\n",
    "\n",
    "    teeth_roi = get_teeth_ROI(results)\n",
    "    teeth_roi_images = teeth_roi['images'][filename]\n",
    "    teeth_roi_split_teeth = teeth_roi['split_teeth']\n",
    "\n",
    "    labels = get_labels_by_image(filepath_json, target_labels)\n",
    "    for target_roi in teeth_roi_images:\n",
    "        target_roi_image = target_roi['image']\n",
    "        flag = target_roi['flag']\n",
    "        tooth_position = tooth_position_dict[target_roi['number']]\n",
    "        im_g = cv2.cvtColor(target_roi_image, cv2.COLOR_RGBA2GRAY)\n",
    "        im_g_shape = np.array(np.array(im_g.shape)[[1, 0]])\n",
    "\n",
    "        isolation_data = tooth_isolation(im_g, flag=flag, tooth_position=tooth_position, rotation_fix=False)\n",
    "        if not isolation_data:\n",
    "            continue\n",
    "        regions = isolation_data['crop_regions']\n",
    "        theta = isolation_data['angle']\n",
    "        offset = target_roi['offset']\n",
    "\n",
    "        phi = math.radians(theta)\n",
    "        for label in labels:\n",
    "            xyxy = np.hstack(label['points'])  # [x, y, x, y]\n",
    "            xyxy = xyxy_reformat(np.array([xyxy]))\n",
    "\n",
    "            xyxy = xyxy - np.tile(offset, 2)\n",
    "            if xyxy.min() < 0:\n",
    "                continue\n",
    "\n",
    "            xyxy = rotate_bounding_boxes(phi, im_g_shape, xyxy)\n",
    "            xyxy = xyxy[0].astype(int)\n",
    "\n",
    "            for tooth_number, region in regions.items():\n",
    "                tooth_xyxy = region['xyxy']\n",
    "                if rect_include_another(tooth_xyxy, xyxy) > 0.5:\n",
    "                    key = f'{filename}-{tooth_number}'\n",
    "                    if not key in image_labels.keys():\n",
    "                        image_labels[key] = []\n",
    "                    image_labels[key].append(label['label'])\n"
   ],
   "metadata": {
    "collapsed": false,
    "pycharm": {
     "name": "#%%\n"
    }
   }
  },
  {
   "cell_type": "code",
   "execution_count": 51,
   "outputs": [],
   "source": [
    "# for tooth_number, r in region.items():\n",
    "#     print(r)\n",
    "# target_roi\n",
    "# label\n",
    "# !jupyter nbconvert --to script prepare_classify_format.ipynb\n",
    "\n",
    "j = json.dumps(image_labels)\n",
    "\n",
    "with open('image_labels_for_classify.json', 'w') as f:\n",
    "    f.write(j)\n"
   ],
   "metadata": {
    "collapsed": false,
    "pycharm": {
     "name": "#%%\n"
    }
   }
  },
  {
   "cell_type": "markdown",
   "source": [
    "## Check json file and jpg file pair"
   ],
   "metadata": {
    "collapsed": false,
    "pycharm": {
     "name": "#%% md\n"
    }
   }
  },
  {
   "cell_type": "code",
   "execution_count": 52,
   "outputs": [
    {
     "data": {
      "text/plain": "set()"
     },
     "execution_count": 52,
     "metadata": {},
     "output_type": "execute_result"
    }
   ],
   "source": [
    "jpgs = list(data_dir.glob('*.jpg'))\n",
    "jsons = list(data_dir.glob('*.json'))\n",
    "\n",
    "jpgs_set = {jpg.stem for jpg in jpgs}\n",
    "jsons_set = {json_file.stem for json_file in jsons}\n",
    "\n",
    "(jpgs_set - jsons_set) | (jsons_set - jpgs_set)\n"
   ],
   "metadata": {
    "collapsed": false,
    "pycharm": {
     "name": "#%%\n"
    }
   }
  }
 ],
 "metadata": {
  "kernelspec": {
   "display_name": "Python 3",
   "language": "python",
   "name": "python3"
  },
  "language_info": {
   "codemirror_mode": {
    "name": "ipython",
    "version": 2
   },
   "file_extension": ".py",
   "mimetype": "text/x-python",
   "name": "python",
   "nbconvert_exporter": "python",
   "pygments_lexer": "ipython2",
   "version": "2.7.6"
  }
 },
 "nbformat": 4,
 "nbformat_minor": 0
}