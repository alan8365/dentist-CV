{
 "cells": [
  {
   "cell_type": "code",
   "execution_count": 5,
   "metadata": {
    "collapsed": true
   },
   "outputs": [
    {
     "data": {
      "text/plain": "True"
     },
     "execution_count": 5,
     "metadata": {},
     "output_type": "execute_result"
    }
   ],
   "source": [
    "import os\n",
    "\n",
    "from scipy import ndimage\n",
    "import math\n",
    "import json\n",
    "import torch\n",
    "import numpy as np\n",
    "import pandas as pd\n",
    "\n",
    "import cv2\n",
    "import matplotlib\n",
    "\n",
    "from matplotlib import pyplot as plt\n",
    "\n",
    "from tqdm import tqdm\n",
    "from pathlib import Path\n",
    "from dotenv import load_dotenv\n",
    "\n",
    "from utils.yolo import get_teeth_ROI\n",
    "from utils.edge import tooth_isolation\n",
    "from utils.preprocess import get_labels_by_image, get_image_by_labels\n",
    "from utils.preprocess import xyxy_reformat, rotate_bounding_boxes, rect_include_another\n",
    "\n",
    "matplotlib.use('module://matplotlib_inline.backend_inline')\n",
    "# %matplotlib inline\n",
    "\n",
    "load_dotenv()\n"
   ]
  },
  {
   "cell_type": "code",
   "execution_count": 6,
   "outputs": [],
   "source": [
    "model = torch.hub.load(r'..\\YOLO', 'custom', path=r'..\\YOLO\\weights\\8-bound.pt', source='local')\n",
    "data_dir = '..' / Path(os.getenv('DATASET_DIR'))\n"
   ],
   "metadata": {
    "collapsed": false
   }
  },
  {
   "cell_type": "code",
   "execution_count": null,
   "outputs": [],
   "source": [
    "target_labels = ['caries', 'filling', 'endo', 'post', 'crown', 'R.R']\n",
    "# df = pd.read_csv('label_TF.csv', index_col='filename')\n",
    "image_labels_df = get_image_by_labels()\n",
    "# image_labels_df = df[target_labels]\n",
    "# image_labels_df = get_image_by_labels(target_labels)[target_labels]\n",
    "\n",
    "image_labels_df['crown'].sum()\n"
   ],
   "metadata": {
    "collapsed": false
   }
  },
  {
   "cell_type": "code",
   "execution_count": null,
   "outputs": [],
   "source": [
    "filename = image_labels_df.index[1]\n",
    "filepath_image = data_dir / f'{filename}.jpg'\n",
    "filepath_json = data_dir / f'{filename}.json'\n"
   ],
   "metadata": {
    "collapsed": false
   }
  },
  {
   "cell_type": "code",
   "execution_count": null,
   "outputs": [],
   "source": [
    "# Image\n",
    "# Inference\n",
    "results = model(filepath_image)\n",
    "\n",
    "teeth_roi = get_teeth_ROI(results)\n",
    "teeth_roi_images = teeth_roi['images'][filename]\n",
    "teeth_roi_split_teeth = teeth_roi['split_teeth']\n",
    "teeth_roi_images\n"
   ],
   "metadata": {
    "collapsed": false
   }
  },
  {
   "cell_type": "code",
   "execution_count": null,
   "outputs": [],
   "source": [
    "teeth_roi = get_teeth_ROI(results)\n",
    "teeth_roi_images = teeth_roi['images'][filename]\n",
    "teeth_roi_split_teeth = teeth_roi['split_teeth']\n",
    "teeth_roi_images\n"
   ],
   "metadata": {
    "collapsed": false
   }
  },
  {
   "cell_type": "markdown",
   "source": [],
   "metadata": {
    "collapsed": false
   }
  },
  {
   "cell_type": "markdown",
   "source": [
    "# One file check"
   ],
   "metadata": {
    "collapsed": false
   }
  },
  {
   "cell_type": "code",
   "execution_count": null,
   "outputs": [],
   "source": [
    "image_labels = {}\n",
    "labels = get_labels_by_image(filepath_json, target_labels)\n",
    "for target_roi in teeth_roi_images:\n",
    "    flag = target_roi['flag']\n",
    "    target_roi_image = target_roi['image']\n",
    "    tooth_position = target_roi['tooth_position']\n",
    "    im_g = cv2.cvtColor(target_roi_image, cv2.COLOR_RGBA2GRAY)\n",
    "    im_g_shape = np.array(np.array(im_g.shape)[[1, 0]])\n",
    "\n",
    "    isolation_data = tooth_isolation(im_g, flag=flag, tooth_position=tooth_position, rotation_fix=False)\n",
    "    if not isolation_data:\n",
    "        continue\n",
    "    regions = isolation_data['crop_regions']\n",
    "    theta = isolation_data['angle']\n",
    "    offset = target_roi['offset']\n",
    "\n",
    "    phi = math.radians(theta)\n",
    "    for label in labels:\n",
    "        xyxy = np.hstack(label['points'])  # [x, y, x, y]\n",
    "        xyxy = xyxy_reformat(np.array([xyxy]))\n",
    "\n",
    "        xyxy = xyxy - np.tile(offset, 2)\n",
    "        if xyxy.min() < 0:\n",
    "            continue\n",
    "\n",
    "        xyxy = rotate_bounding_boxes(phi, im_g_shape, xyxy)\n",
    "        xyxy = xyxy[0].astype(int)\n",
    "\n",
    "        for tooth_number, region in regions.items():\n",
    "            tooth_xyxy = region['xyxy']\n",
    "            key = f'{filename} {tooth_number}'\n",
    "            if not key in image_labels.keys():\n",
    "                image_labels[key] = []\n",
    "            if rect_include_another(tooth_xyxy, xyxy) > 0.5:\n",
    "                image_labels[key].append(label['label'])\n",
    "\n",
    "image_labels\n"
   ],
   "metadata": {
    "collapsed": false
   }
  },
  {
   "cell_type": "code",
   "execution_count": null,
   "outputs": [],
   "source": [
    "import warnings\n",
    "\n",
    "warnings.filterwarnings(\"ignore\")\n",
    "\n",
    "image_labels = {}\n",
    "for filename in tqdm(image_labels_df.index):\n",
    "    filepath_image = data_dir / f'{filename}.jpg'\n",
    "    filepath_json = data_dir / f'{filename}.json'\n",
    "\n",
    "    results = model(filepath_image)\n",
    "\n",
    "    teeth_roi = get_teeth_ROI(results)\n",
    "    teeth_roi_images = teeth_roi['images'][filename]\n",
    "    teeth_roi_split_teeth = teeth_roi['split_teeth']\n",
    "\n",
    "    labels = get_labels_by_image(filepath_json, target_labels)\n",
    "    for target_roi in teeth_roi_images:\n",
    "        target_roi_image = target_roi['image']\n",
    "        flag = target_roi['flag']\n",
    "        tooth_position = target_roi['tooth_position']\n",
    "\n",
    "        im_g = cv2.cvtColor(target_roi_image, cv2.COLOR_RGBA2GRAY)\n",
    "        im_g_shape = np.array(np.array(im_g.shape)[[1, 0]])\n",
    "\n",
    "        isolation_data = tooth_isolation(im_g, flag=flag, tooth_position=tooth_position, rotation_fix=False, save=True,\n",
    "                                         filename=filename)\n",
    "        if not isolation_data:\n",
    "            continue\n",
    "        regions = isolation_data['crop_regions']\n",
    "        theta = isolation_data['angle']\n",
    "        offset = target_roi['offset']\n",
    "\n",
    "        phi = math.radians(theta)\n",
    "        for label in labels:\n",
    "            xyxy = np.hstack(label['points'])  # [x, y, x, y]\n",
    "            xyxy = xyxy_reformat(np.array([xyxy]))\n",
    "\n",
    "            xyxy = xyxy - np.tile(offset, 2)\n",
    "            if xyxy.min() < 0:\n",
    "                continue\n",
    "\n",
    "            xyxy = rotate_bounding_boxes(phi, im_g_shape, xyxy)\n",
    "            xyxy = xyxy[0].astype(int)\n",
    "\n",
    "            for tooth_number, region in regions.items():\n",
    "                tooth_xyxy = region['xyxy']\n",
    "                key = f'{filename} {tooth_number}'\n",
    "                if not key in image_labels.keys():\n",
    "                    image_labels[key] = []\n",
    "                if rect_include_another(tooth_xyxy, xyxy) > 0.5:\n",
    "                    image_labels[key].append(label['label'])\n"
   ],
   "metadata": {
    "collapsed": false
   }
  },
  {
   "cell_type": "code",
   "execution_count": null,
   "outputs": [],
   "source": [
    "target_roi\n"
   ],
   "metadata": {
    "collapsed": false
   }
  },
  {
   "cell_type": "code",
   "execution_count": null,
   "outputs": [],
   "source": [
    "# for tooth_number, r in region.items():\n",
    "#     print(r)\n",
    "# target_roi\n",
    "# label\n",
    "# !jupyter nbconvert --to script prepare_classify_format.ipynb\n",
    "\n",
    "j = json.dumps(image_labels)\n",
    "\n",
    "with open('image_labels_for_classify.json', 'w') as f:\n",
    "    f.write(j)\n"
   ],
   "metadata": {
    "collapsed": false
   }
  },
  {
   "cell_type": "markdown",
   "source": [
    "## Check crop and origin image annotation count."
   ],
   "metadata": {
    "collapsed": false
   }
  },
  {
   "cell_type": "code",
   "execution_count": null,
   "outputs": [],
   "source": [
    "crop_annotation_number = {}\n",
    "for k, v in image_labels.items():\n",
    "    filename, tooth_number = k.split(' ')\n",
    "\n",
    "    if filename not in crop_annotation_number.keys():\n",
    "        crop_annotation_number[filename] = {i: 0 for i in target_labels}\n",
    "\n",
    "    for i in v:\n",
    "        crop_annotation_number[filename][i] += 1\n",
    "\n",
    "counter_diff = {}\n",
    "for filename, counter in crop_annotation_number.items():\n",
    "    counter_diff[filename] = {}\n",
    "\n",
    "    org_number_row = image_labels_df.loc[filename]\n",
    "    for k in target_labels:\n",
    "        counter_diff[filename][k] = org_number_row.loc[k] - counter[k]\n",
    "\n",
    "counter_diff_df = pd.DataFrame.from_dict(counter_diff, orient='index')\n",
    "counter_diff_df.loc[(counter_diff_df > 2).any(axis=1)]\n",
    "\n"
   ],
   "metadata": {
    "collapsed": false
   }
  }
 ],
 "metadata": {
  "kernelspec": {
   "display_name": "Python 3",
   "language": "python",
   "name": "python3"
  },
  "language_info": {
   "codemirror_mode": {
    "name": "ipython",
    "version": 2
   },
   "file_extension": ".py",
   "mimetype": "text/x-python",
   "name": "python",
   "nbconvert_exporter": "python",
   "pygments_lexer": "ipython2",
   "version": "2.7.6"
  }
 },
 "nbformat": 4,
 "nbformat_minor": 0
}
