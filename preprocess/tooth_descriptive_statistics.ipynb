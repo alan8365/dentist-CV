{
 "cells": [
  {
   "cell_type": "code",
   "execution_count": 1,
   "metadata": {
    "collapsed": true
   },
   "outputs": [],
   "source": [
    "import json\n",
    "import os\n",
    "from pathlib import Path\n",
    "\n",
    "import matplotlib\n",
    "import numpy as np\n",
    "import pandas as pd\n",
    "from dotenv import load_dotenv\n",
    "\n",
    "load_dotenv()\n",
    "matplotlib.use('module://matplotlib_inline.backend_inline')\n"
   ]
  },
  {
   "cell_type": "code",
   "execution_count": 2,
   "outputs": [
    {
     "data": {
      "text/plain": "PosixPath('/Users/lucyxu/PycharmProjects/datasets/phase-3')"
     },
     "execution_count": 2,
     "metadata": {},
     "output_type": "execute_result"
    }
   ],
   "source": [
    "def xyxy2xywh(xyxy):\n",
    "    x1, y1, x2, y2 = xyxy\n",
    "\n",
    "    x = (x1 + x2) / 2\n",
    "    y = (y1 + y2) / 2\n",
    "    w = np.abs(x1 - x2)\n",
    "    h = np.abs(y1 - y2)\n",
    "\n",
    "    return np.array([x, y, w, h])\n",
    "\n",
    "\n",
    "data_dir = Path(os.getenv('DATASET_DIR')) / 'phase-3'\n",
    "data_dir\n"
   ],
   "metadata": {
    "collapsed": false
   }
  },
  {
   "cell_type": "code",
   "execution_count": 3,
   "outputs": [
    {
     "data": {
      "text/plain": "[PosixPath('/Users/lucyxu/PycharmProjects/datasets/phase-3/00008199.jpg'),\n PosixPath('/Users/lucyxu/PycharmProjects/datasets/phase-3/00008200.jpg'),\n PosixPath('/Users/lucyxu/PycharmProjects/datasets/phase-3/00008207.jpg'),\n PosixPath('/Users/lucyxu/PycharmProjects/datasets/phase-3/00008210.jpg'),\n PosixPath('/Users/lucyxu/PycharmProjects/datasets/phase-3/00008217.jpg'),\n PosixPath('/Users/lucyxu/PycharmProjects/datasets/phase-3/00008218.jpg'),\n PosixPath('/Users/lucyxu/PycharmProjects/datasets/phase-3/00008223.jpg'),\n PosixPath('/Users/lucyxu/PycharmProjects/datasets/phase-3/00008225.jpg'),\n PosixPath('/Users/lucyxu/PycharmProjects/datasets/phase-3/00008227.jpg'),\n PosixPath('/Users/lucyxu/PycharmProjects/datasets/phase-3/00008228.jpg'),\n PosixPath('/Users/lucyxu/PycharmProjects/datasets/phase-3/00008231.jpg'),\n PosixPath('/Users/lucyxu/PycharmProjects/datasets/phase-3/00008238.jpg'),\n PosixPath('/Users/lucyxu/PycharmProjects/datasets/phase-3/00008239.jpg'),\n PosixPath('/Users/lucyxu/PycharmProjects/datasets/phase-3/00008240.jpg'),\n PosixPath('/Users/lucyxu/PycharmProjects/datasets/phase-3/00008241.jpg'),\n PosixPath('/Users/lucyxu/PycharmProjects/datasets/phase-3/00008243.jpg'),\n PosixPath('/Users/lucyxu/PycharmProjects/datasets/phase-3/00008245.jpg'),\n PosixPath('/Users/lucyxu/PycharmProjects/datasets/phase-3/00008246.jpg'),\n PosixPath('/Users/lucyxu/PycharmProjects/datasets/phase-3/00008250.jpg'),\n PosixPath('/Users/lucyxu/PycharmProjects/datasets/phase-3/00008254.jpg'),\n PosixPath('/Users/lucyxu/PycharmProjects/datasets/phase-3/00008256.jpg'),\n PosixPath('/Users/lucyxu/PycharmProjects/datasets/phase-3/00008257.jpg'),\n PosixPath('/Users/lucyxu/PycharmProjects/datasets/phase-3/00008270.jpg'),\n PosixPath('/Users/lucyxu/PycharmProjects/datasets/phase-3/00008271.jpg'),\n PosixPath('/Users/lucyxu/PycharmProjects/datasets/phase-3/00008272.jpg'),\n PosixPath('/Users/lucyxu/PycharmProjects/datasets/phase-3/00008276.jpg'),\n PosixPath('/Users/lucyxu/PycharmProjects/datasets/phase-3/00008279.jpg'),\n PosixPath('/Users/lucyxu/PycharmProjects/datasets/phase-3/00008280.jpg'),\n PosixPath('/Users/lucyxu/PycharmProjects/datasets/phase-3/00008290.jpg'),\n PosixPath('/Users/lucyxu/PycharmProjects/datasets/phase-3/00008298.jpg'),\n PosixPath('/Users/lucyxu/PycharmProjects/datasets/phase-3/00008306.jpg'),\n PosixPath('/Users/lucyxu/PycharmProjects/datasets/phase-3/00008309.jpg'),\n PosixPath('/Users/lucyxu/PycharmProjects/datasets/phase-3/00008314.jpg'),\n PosixPath('/Users/lucyxu/PycharmProjects/datasets/phase-3/00008317.jpg'),\n PosixPath('/Users/lucyxu/PycharmProjects/datasets/phase-3/00008318.jpg'),\n PosixPath('/Users/lucyxu/PycharmProjects/datasets/phase-3/00008321.jpg'),\n PosixPath('/Users/lucyxu/PycharmProjects/datasets/phase-3/00008322.jpg'),\n PosixPath('/Users/lucyxu/PycharmProjects/datasets/phase-3/00008323.jpg'),\n PosixPath('/Users/lucyxu/PycharmProjects/datasets/phase-3/00008325.jpg'),\n PosixPath('/Users/lucyxu/PycharmProjects/datasets/phase-3/00008328.jpg'),\n PosixPath('/Users/lucyxu/PycharmProjects/datasets/phase-3/00008329.jpg'),\n PosixPath('/Users/lucyxu/PycharmProjects/datasets/phase-3/00008332.jpg'),\n PosixPath('/Users/lucyxu/PycharmProjects/datasets/phase-3/00008333.jpg'),\n PosixPath('/Users/lucyxu/PycharmProjects/datasets/phase-3/00008335.jpg'),\n PosixPath('/Users/lucyxu/PycharmProjects/datasets/phase-3/00008336.jpg'),\n PosixPath('/Users/lucyxu/PycharmProjects/datasets/phase-3/00008338.jpg'),\n PosixPath('/Users/lucyxu/PycharmProjects/datasets/phase-3/00008339.jpg'),\n PosixPath('/Users/lucyxu/PycharmProjects/datasets/phase-3/00008345.jpg'),\n PosixPath('/Users/lucyxu/PycharmProjects/datasets/phase-3/00008351.jpg'),\n PosixPath('/Users/lucyxu/PycharmProjects/datasets/phase-3/00008355.jpg'),\n PosixPath('/Users/lucyxu/PycharmProjects/datasets/phase-3/00008356.jpg'),\n PosixPath('/Users/lucyxu/PycharmProjects/datasets/phase-3/00008358.jpg'),\n PosixPath('/Users/lucyxu/PycharmProjects/datasets/phase-3/00008370.jpg'),\n PosixPath('/Users/lucyxu/PycharmProjects/datasets/phase-3/00008373.jpg'),\n PosixPath('/Users/lucyxu/PycharmProjects/datasets/phase-3/00008376.jpg'),\n PosixPath('/Users/lucyxu/PycharmProjects/datasets/phase-3/00008377.jpg'),\n PosixPath('/Users/lucyxu/PycharmProjects/datasets/phase-3/00008378.jpg'),\n PosixPath('/Users/lucyxu/PycharmProjects/datasets/phase-3/00008380.jpg'),\n PosixPath('/Users/lucyxu/PycharmProjects/datasets/phase-3/00008384.jpg'),\n PosixPath('/Users/lucyxu/PycharmProjects/datasets/phase-3/00008391.jpg'),\n PosixPath('/Users/lucyxu/PycharmProjects/datasets/phase-3/00008393.jpg'),\n PosixPath('/Users/lucyxu/PycharmProjects/datasets/phase-3/00008396.jpg'),\n PosixPath('/Users/lucyxu/PycharmProjects/datasets/phase-3/00008397.jpg'),\n PosixPath('/Users/lucyxu/PycharmProjects/datasets/phase-3/00008399.jpg'),\n PosixPath('/Users/lucyxu/PycharmProjects/datasets/phase-3/00008413.jpg'),\n PosixPath('/Users/lucyxu/PycharmProjects/datasets/phase-3/00008415.jpg'),\n PosixPath('/Users/lucyxu/PycharmProjects/datasets/phase-3/00008419.jpg'),\n PosixPath('/Users/lucyxu/PycharmProjects/datasets/phase-3/00008421.jpg'),\n PosixPath('/Users/lucyxu/PycharmProjects/datasets/phase-3/00008427.jpg'),\n PosixPath('/Users/lucyxu/PycharmProjects/datasets/phase-3/00008432.jpg'),\n PosixPath('/Users/lucyxu/PycharmProjects/datasets/phase-3/00008433.jpg')]"
     },
     "execution_count": 3,
     "metadata": {},
     "output_type": "execute_result"
    }
   ],
   "source": [
    "image_paths = list(data_dir.glob('*.jpg'))\n",
    "image_paths.sort()\n",
    "image_paths\n"
   ],
   "metadata": {
    "collapsed": false
   }
  },
  {
   "cell_type": "code",
   "execution_count": 4,
   "outputs": [
    {
     "data": {
      "text/plain": "                 x            y            w            h\ncount  1789.000000  1789.000000  1789.000000  1789.000000\nmean   1186.553734   614.904585   103.364290   230.759089\nstd     308.747334   131.488978    38.031725    30.441941\nmin     463.230769   283.060606    33.333333   121.212121\n25%     964.969697   494.424242    75.757576   215.151515\n50%    1186.076923   609.846154    96.969697   231.818182\n75%    1410.692308   743.666667   123.076923   250.000000\nmax    1928.615385   832.153846   272.727273   336.363636",
      "text/html": "<div>\n<style scoped>\n    .dataframe tbody tr th:only-of-type {\n        vertical-align: middle;\n    }\n\n    .dataframe tbody tr th {\n        vertical-align: top;\n    }\n\n    .dataframe thead th {\n        text-align: right;\n    }\n</style>\n<table border=\"1\" class=\"dataframe\">\n  <thead>\n    <tr style=\"text-align: right;\">\n      <th></th>\n      <th>x</th>\n      <th>y</th>\n      <th>w</th>\n      <th>h</th>\n    </tr>\n  </thead>\n  <tbody>\n    <tr>\n      <th>count</th>\n      <td>1789.000000</td>\n      <td>1789.000000</td>\n      <td>1789.000000</td>\n      <td>1789.000000</td>\n    </tr>\n    <tr>\n      <th>mean</th>\n      <td>1186.553734</td>\n      <td>614.904585</td>\n      <td>103.364290</td>\n      <td>230.759089</td>\n    </tr>\n    <tr>\n      <th>std</th>\n      <td>308.747334</td>\n      <td>131.488978</td>\n      <td>38.031725</td>\n      <td>30.441941</td>\n    </tr>\n    <tr>\n      <th>min</th>\n      <td>463.230769</td>\n      <td>283.060606</td>\n      <td>33.333333</td>\n      <td>121.212121</td>\n    </tr>\n    <tr>\n      <th>25%</th>\n      <td>964.969697</td>\n      <td>494.424242</td>\n      <td>75.757576</td>\n      <td>215.151515</td>\n    </tr>\n    <tr>\n      <th>50%</th>\n      <td>1186.076923</td>\n      <td>609.846154</td>\n      <td>96.969697</td>\n      <td>231.818182</td>\n    </tr>\n    <tr>\n      <th>75%</th>\n      <td>1410.692308</td>\n      <td>743.666667</td>\n      <td>123.076923</td>\n      <td>250.000000</td>\n    </tr>\n    <tr>\n      <th>max</th>\n      <td>1928.615385</td>\n      <td>832.153846</td>\n      <td>272.727273</td>\n      <td>336.363636</td>\n    </tr>\n  </tbody>\n</table>\n</div>"
     },
     "execution_count": 4,
     "metadata": {},
     "output_type": "execute_result"
    }
   ],
   "source": [
    "a = []\n",
    "for image_path in image_paths:\n",
    "    json_path = image_path.with_suffix('.json')\n",
    "\n",
    "    with open(json_path) as f:\n",
    "        data = json.load(f)\n",
    "\n",
    "    for shape in data['shapes']:\n",
    "        label = shape['label']\n",
    "        xyxy = np.hstack(shape['points'])\n",
    "\n",
    "        if label.isdigit():\n",
    "            x, y, w, h = xyxy2xywh(xyxy)\n",
    "\n",
    "            a.append([label, x, y, w, h])\n",
    "\n",
    "df = pd.DataFrame(a, columns=['label', 'x', 'y', 'w', 'h'])\n",
    "df.describe()\n"
   ],
   "metadata": {
    "collapsed": false
   }
  },
  {
   "cell_type": "code",
   "execution_count": 49,
   "outputs": [
    {
     "data": {
      "text/plain": "       count        mean        std         min         25%         50%  \\\nlabel                                                                     \n11      65.0   91.923256  17.371527   56.060606   78.787879   90.909091   \n21      64.0   83.438957  13.528887   59.090909   72.622378   81.060606   \n31      65.0   55.322933  11.700129   33.333333   46.969697   53.030303   \n41      66.0   56.410610  10.861608   34.848485   50.000000   54.545455   \n12      64.0   90.282998  17.815346   57.575758   77.272727   87.027972   \n22      62.0   76.062110  12.769292   53.030303   66.666667   74.813520   \n32      65.0   62.680294  12.128118   42.424242   54.545455   60.606061   \n42      66.0   64.747475  13.426775   37.878788   56.276224   62.121212   \n13      63.0   96.329365  21.027728   48.484848   82.575758   93.939394   \n23      62.0   94.773541  24.768643   50.000000   77.272727   92.763845   \n33      65.0   74.302112  16.819586   48.484848   63.636364   68.181818   \n43      67.0   74.771466  16.238552   48.275862   63.714734   70.689655   \n14      63.0  109.599660  18.321083   56.060606   98.473193  109.230769   \n24      61.0   91.794490  16.809659   53.846154   78.787879   92.424242   \n34      64.0   97.538243  21.775346   62.121212   82.762238   94.696970   \n44      63.0   94.377844  11.485798   67.692308   87.878788   93.939394   \n15      60.0  103.526807  17.800540   62.121212   92.045455  101.526807   \n25      58.0   92.639257  16.914378   67.692308   81.818182   89.393939   \n35      58.0  115.105297  23.029312   66.666667  101.515152  114.498834   \n45      60.0  106.163947  17.383605   66.666667   93.939394  102.272727   \n16      60.0  138.536908  24.570494   93.939394  121.456876  134.347319   \n26      50.0  123.052214  15.675071   95.454545  110.646853  119.079254   \n36      49.0  165.386994  27.230517   84.848485  154.545455  171.212121   \n46      52.0  152.951856  23.043562   98.484848  139.015152  150.000000   \n17      56.0  117.447463  24.966418   80.303030  104.258098  115.334378   \n27      54.0  115.096158  17.973259   86.206897  103.030303  111.337513   \n37      53.0  158.337815  27.027722   96.969697  139.655172  163.636364   \n47      48.0  152.216159  29.919118  100.000000  132.144723  145.794148   \n18      20.0  126.393939  21.325843   93.846154  113.257576  119.079254   \n28      22.0  131.572367  16.531465  101.515152  121.212121  131.818182   \n38      30.0  184.785548  31.579375  131.818182  162.500000  185.606061   \n48      34.0  186.970383  31.447243  115.384615  165.885781  188.636364   \n\n              75%         max  \nlabel                          \n11     103.030303  135.384615  \n21      91.287879  129.230769  \n31      61.538462   95.454545  \n41      63.636364   80.000000  \n12     103.426573  133.846154  \n22      84.294872  115.384615  \n32      66.666667   98.461538  \n42      71.212121  104.615385  \n13     109.090909  150.000000  \n23     107.405956  169.696970  \n33      81.034483  125.862069  \n43      83.150470  117.241379  \n14     125.955711  148.484848  \n24     100.000000  143.076923  \n34     109.090909  198.484848  \n44     101.515152  116.923077  \n15     112.937063  150.769231  \n25      99.621212  166.666667  \n35     129.924242  209.090909  \n45     114.772727  154.545455  \n16     146.357809  196.969697  \n26     138.076923  160.606061  \n36     183.333333  203.030303  \n46     165.151515  204.545455  \n17     126.214734  203.448276  \n27     124.137931  162.121212  \n37     178.787879  201.724138  \n47     171.199060  272.727273  \n18     145.203963  167.692308  \n28     145.600233  157.575758  \n38     200.757576  246.153846  \n48     209.195804  246.153846  ",
      "text/html": "<div>\n<style scoped>\n    .dataframe tbody tr th:only-of-type {\n        vertical-align: middle;\n    }\n\n    .dataframe tbody tr th {\n        vertical-align: top;\n    }\n\n    .dataframe thead th {\n        text-align: right;\n    }\n</style>\n<table border=\"1\" class=\"dataframe\">\n  <thead>\n    <tr style=\"text-align: right;\">\n      <th></th>\n      <th>count</th>\n      <th>mean</th>\n      <th>std</th>\n      <th>min</th>\n      <th>25%</th>\n      <th>50%</th>\n      <th>75%</th>\n      <th>max</th>\n    </tr>\n    <tr>\n      <th>label</th>\n      <th></th>\n      <th></th>\n      <th></th>\n      <th></th>\n      <th></th>\n      <th></th>\n      <th></th>\n      <th></th>\n    </tr>\n  </thead>\n  <tbody>\n    <tr>\n      <th>11</th>\n      <td>65.0</td>\n      <td>91.923256</td>\n      <td>17.371527</td>\n      <td>56.060606</td>\n      <td>78.787879</td>\n      <td>90.909091</td>\n      <td>103.030303</td>\n      <td>135.384615</td>\n    </tr>\n    <tr>\n      <th>21</th>\n      <td>64.0</td>\n      <td>83.438957</td>\n      <td>13.528887</td>\n      <td>59.090909</td>\n      <td>72.622378</td>\n      <td>81.060606</td>\n      <td>91.287879</td>\n      <td>129.230769</td>\n    </tr>\n    <tr>\n      <th>31</th>\n      <td>65.0</td>\n      <td>55.322933</td>\n      <td>11.700129</td>\n      <td>33.333333</td>\n      <td>46.969697</td>\n      <td>53.030303</td>\n      <td>61.538462</td>\n      <td>95.454545</td>\n    </tr>\n    <tr>\n      <th>41</th>\n      <td>66.0</td>\n      <td>56.410610</td>\n      <td>10.861608</td>\n      <td>34.848485</td>\n      <td>50.000000</td>\n      <td>54.545455</td>\n      <td>63.636364</td>\n      <td>80.000000</td>\n    </tr>\n    <tr>\n      <th>12</th>\n      <td>64.0</td>\n      <td>90.282998</td>\n      <td>17.815346</td>\n      <td>57.575758</td>\n      <td>77.272727</td>\n      <td>87.027972</td>\n      <td>103.426573</td>\n      <td>133.846154</td>\n    </tr>\n    <tr>\n      <th>22</th>\n      <td>62.0</td>\n      <td>76.062110</td>\n      <td>12.769292</td>\n      <td>53.030303</td>\n      <td>66.666667</td>\n      <td>74.813520</td>\n      <td>84.294872</td>\n      <td>115.384615</td>\n    </tr>\n    <tr>\n      <th>32</th>\n      <td>65.0</td>\n      <td>62.680294</td>\n      <td>12.128118</td>\n      <td>42.424242</td>\n      <td>54.545455</td>\n      <td>60.606061</td>\n      <td>66.666667</td>\n      <td>98.461538</td>\n    </tr>\n    <tr>\n      <th>42</th>\n      <td>66.0</td>\n      <td>64.747475</td>\n      <td>13.426775</td>\n      <td>37.878788</td>\n      <td>56.276224</td>\n      <td>62.121212</td>\n      <td>71.212121</td>\n      <td>104.615385</td>\n    </tr>\n    <tr>\n      <th>13</th>\n      <td>63.0</td>\n      <td>96.329365</td>\n      <td>21.027728</td>\n      <td>48.484848</td>\n      <td>82.575758</td>\n      <td>93.939394</td>\n      <td>109.090909</td>\n      <td>150.000000</td>\n    </tr>\n    <tr>\n      <th>23</th>\n      <td>62.0</td>\n      <td>94.773541</td>\n      <td>24.768643</td>\n      <td>50.000000</td>\n      <td>77.272727</td>\n      <td>92.763845</td>\n      <td>107.405956</td>\n      <td>169.696970</td>\n    </tr>\n    <tr>\n      <th>33</th>\n      <td>65.0</td>\n      <td>74.302112</td>\n      <td>16.819586</td>\n      <td>48.484848</td>\n      <td>63.636364</td>\n      <td>68.181818</td>\n      <td>81.034483</td>\n      <td>125.862069</td>\n    </tr>\n    <tr>\n      <th>43</th>\n      <td>67.0</td>\n      <td>74.771466</td>\n      <td>16.238552</td>\n      <td>48.275862</td>\n      <td>63.714734</td>\n      <td>70.689655</td>\n      <td>83.150470</td>\n      <td>117.241379</td>\n    </tr>\n    <tr>\n      <th>14</th>\n      <td>63.0</td>\n      <td>109.599660</td>\n      <td>18.321083</td>\n      <td>56.060606</td>\n      <td>98.473193</td>\n      <td>109.230769</td>\n      <td>125.955711</td>\n      <td>148.484848</td>\n    </tr>\n    <tr>\n      <th>24</th>\n      <td>61.0</td>\n      <td>91.794490</td>\n      <td>16.809659</td>\n      <td>53.846154</td>\n      <td>78.787879</td>\n      <td>92.424242</td>\n      <td>100.000000</td>\n      <td>143.076923</td>\n    </tr>\n    <tr>\n      <th>34</th>\n      <td>64.0</td>\n      <td>97.538243</td>\n      <td>21.775346</td>\n      <td>62.121212</td>\n      <td>82.762238</td>\n      <td>94.696970</td>\n      <td>109.090909</td>\n      <td>198.484848</td>\n    </tr>\n    <tr>\n      <th>44</th>\n      <td>63.0</td>\n      <td>94.377844</td>\n      <td>11.485798</td>\n      <td>67.692308</td>\n      <td>87.878788</td>\n      <td>93.939394</td>\n      <td>101.515152</td>\n      <td>116.923077</td>\n    </tr>\n    <tr>\n      <th>15</th>\n      <td>60.0</td>\n      <td>103.526807</td>\n      <td>17.800540</td>\n      <td>62.121212</td>\n      <td>92.045455</td>\n      <td>101.526807</td>\n      <td>112.937063</td>\n      <td>150.769231</td>\n    </tr>\n    <tr>\n      <th>25</th>\n      <td>58.0</td>\n      <td>92.639257</td>\n      <td>16.914378</td>\n      <td>67.692308</td>\n      <td>81.818182</td>\n      <td>89.393939</td>\n      <td>99.621212</td>\n      <td>166.666667</td>\n    </tr>\n    <tr>\n      <th>35</th>\n      <td>58.0</td>\n      <td>115.105297</td>\n      <td>23.029312</td>\n      <td>66.666667</td>\n      <td>101.515152</td>\n      <td>114.498834</td>\n      <td>129.924242</td>\n      <td>209.090909</td>\n    </tr>\n    <tr>\n      <th>45</th>\n      <td>60.0</td>\n      <td>106.163947</td>\n      <td>17.383605</td>\n      <td>66.666667</td>\n      <td>93.939394</td>\n      <td>102.272727</td>\n      <td>114.772727</td>\n      <td>154.545455</td>\n    </tr>\n    <tr>\n      <th>16</th>\n      <td>60.0</td>\n      <td>138.536908</td>\n      <td>24.570494</td>\n      <td>93.939394</td>\n      <td>121.456876</td>\n      <td>134.347319</td>\n      <td>146.357809</td>\n      <td>196.969697</td>\n    </tr>\n    <tr>\n      <th>26</th>\n      <td>50.0</td>\n      <td>123.052214</td>\n      <td>15.675071</td>\n      <td>95.454545</td>\n      <td>110.646853</td>\n      <td>119.079254</td>\n      <td>138.076923</td>\n      <td>160.606061</td>\n    </tr>\n    <tr>\n      <th>36</th>\n      <td>49.0</td>\n      <td>165.386994</td>\n      <td>27.230517</td>\n      <td>84.848485</td>\n      <td>154.545455</td>\n      <td>171.212121</td>\n      <td>183.333333</td>\n      <td>203.030303</td>\n    </tr>\n    <tr>\n      <th>46</th>\n      <td>52.0</td>\n      <td>152.951856</td>\n      <td>23.043562</td>\n      <td>98.484848</td>\n      <td>139.015152</td>\n      <td>150.000000</td>\n      <td>165.151515</td>\n      <td>204.545455</td>\n    </tr>\n    <tr>\n      <th>17</th>\n      <td>56.0</td>\n      <td>117.447463</td>\n      <td>24.966418</td>\n      <td>80.303030</td>\n      <td>104.258098</td>\n      <td>115.334378</td>\n      <td>126.214734</td>\n      <td>203.448276</td>\n    </tr>\n    <tr>\n      <th>27</th>\n      <td>54.0</td>\n      <td>115.096158</td>\n      <td>17.973259</td>\n      <td>86.206897</td>\n      <td>103.030303</td>\n      <td>111.337513</td>\n      <td>124.137931</td>\n      <td>162.121212</td>\n    </tr>\n    <tr>\n      <th>37</th>\n      <td>53.0</td>\n      <td>158.337815</td>\n      <td>27.027722</td>\n      <td>96.969697</td>\n      <td>139.655172</td>\n      <td>163.636364</td>\n      <td>178.787879</td>\n      <td>201.724138</td>\n    </tr>\n    <tr>\n      <th>47</th>\n      <td>48.0</td>\n      <td>152.216159</td>\n      <td>29.919118</td>\n      <td>100.000000</td>\n      <td>132.144723</td>\n      <td>145.794148</td>\n      <td>171.199060</td>\n      <td>272.727273</td>\n    </tr>\n    <tr>\n      <th>18</th>\n      <td>20.0</td>\n      <td>126.393939</td>\n      <td>21.325843</td>\n      <td>93.846154</td>\n      <td>113.257576</td>\n      <td>119.079254</td>\n      <td>145.203963</td>\n      <td>167.692308</td>\n    </tr>\n    <tr>\n      <th>28</th>\n      <td>22.0</td>\n      <td>131.572367</td>\n      <td>16.531465</td>\n      <td>101.515152</td>\n      <td>121.212121</td>\n      <td>131.818182</td>\n      <td>145.600233</td>\n      <td>157.575758</td>\n    </tr>\n    <tr>\n      <th>38</th>\n      <td>30.0</td>\n      <td>184.785548</td>\n      <td>31.579375</td>\n      <td>131.818182</td>\n      <td>162.500000</td>\n      <td>185.606061</td>\n      <td>200.757576</td>\n      <td>246.153846</td>\n    </tr>\n    <tr>\n      <th>48</th>\n      <td>34.0</td>\n      <td>186.970383</td>\n      <td>31.447243</td>\n      <td>115.384615</td>\n      <td>165.885781</td>\n      <td>188.636364</td>\n      <td>209.195804</td>\n      <td>246.153846</td>\n    </tr>\n  </tbody>\n</table>\n</div>"
     },
     "execution_count": 49,
     "metadata": {},
     "output_type": "execute_result"
    }
   ],
   "source": [
    "df_group = df.groupby('label')\n",
    "\n",
    "des = df_group.describe()['w']\n",
    "\n",
    "des = des.sort_values(by='label', key=lambda col: col.str[1] + col.str[0])\n",
    "des\n"
   ],
   "metadata": {
    "collapsed": false
   }
  }
 ],
 "metadata": {
  "kernelspec": {
   "display_name": "Python 3",
   "language": "python",
   "name": "python3"
  },
  "language_info": {
   "codemirror_mode": {
    "name": "ipython",
    "version": 2
   },
   "file_extension": ".py",
   "mimetype": "text/x-python",
   "name": "python",
   "nbconvert_exporter": "python",
   "pygments_lexer": "ipython2",
   "version": "2.7.6"
  }
 },
 "nbformat": 4,
 "nbformat_minor": 0
}
