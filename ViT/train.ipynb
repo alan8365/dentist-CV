{
 "cells": [
  {
   "cell_type": "code",
   "execution_count": 1,
   "metadata": {
    "collapsed": true
   },
   "outputs": [],
   "source": [
    "import torch\n",
    "import torchvision.transforms as transforms\n",
    "import timm\n",
    "\n",
    "import torch.nn as nn\n",
    "\n",
    "import torch.optim as optim\n",
    "\n",
    "from torch.utils.data.dataloader import DataLoader\n",
    "from torch.utils.tensorboard import SummaryWriter\n",
    "from torch.utils.data import random_split\n",
    "\n",
    "from tooth_crop_dataset import ToothCropClassDataset\n",
    "from utils.vit import train, test\n",
    "\n",
    "writer = SummaryWriter()\n"
   ]
  },
  {
   "cell_type": "code",
   "execution_count": 2,
   "outputs": [],
   "source": [
    "# Data\n",
    "device = torch.device(\"cuda:0\" if torch.cuda.is_available() else \"cpu\")\n",
    "\n",
    "# Preprocess\n",
    "transform = transforms.Compose([\n",
    "    transforms.ToTensor(),\n",
    "    # (lambda image: padding_to_size(image, 224)),\n",
    "    transforms.Resize(size=(224, 224)),\n",
    "    transforms.Normalize(mean=0.5, std=0.5),\n",
    "])\n",
    "target_transform = transforms.Compose([\n",
    "    (lambda y: torch.Tensor(y)),\n",
    "])\n",
    "\n",
    "# Hyperparameter\n",
    "epoch_num = 120\n",
    "batch_size = 16\n",
    "num_workers = 0\n",
    "train_test_split = 0.8"
   ],
   "metadata": {
    "collapsed": false,
    "pycharm": {
     "name": "#%%\n"
    }
   }
  },
  {
   "cell_type": "code",
   "execution_count": 3,
   "outputs": [
    {
     "name": "stdout",
     "output_type": "stream",
     "text": [
      "Total data in 1041\n",
      "['R.R' 'caries' 'crown' 'endo' 'filling' 'post']\n",
      "tensor([ 25.,  54., 208., 221., 458., 140.])\n",
      "tensor([  3.,  15.,  54.,  56., 113.,  38.])\n"
     ]
    }
   ],
   "source": [
    "dataset = ToothCropClassDataset(root='../preprocess', transform=transform, target_transform=target_transform)\n",
    "\n",
    "dataset_size = len(dataset)\n",
    "train_size = int(train_test_split * dataset_size)\n",
    "test_size = dataset_size - train_size\n",
    "\n",
    "train_set, test_set = random_split(dataset, [train_size, test_size])\n",
    "\n",
    "train_loader = torch.utils.data.DataLoader(train_set, batch_size=batch_size,\n",
    "                                           shuffle=True, num_workers=num_workers)\n",
    "test_loader = torch.utils.data.DataLoader(test_set, batch_size=batch_size,\n",
    "                                          shuffle=True, num_workers=num_workers)\n",
    "\n",
    "classes = dataset.mlb.classes_\n",
    "\n",
    "train_label_count = torch.zeros(len(classes))\n",
    "for x, y in train_loader:\n",
    "    train_label_count += y.sum(axis=0)\n",
    "\n",
    "test_label_count = torch.zeros(len(classes))\n",
    "for x, y in test_loader:\n",
    "    test_label_count += y.sum(axis=0)\n",
    "\n",
    "print(classes)\n",
    "print(train_label_count)\n",
    "print(test_label_count)\n",
    "\n"
   ],
   "metadata": {
    "collapsed": false,
    "pycharm": {
     "name": "#%%\n"
    }
   }
  },
  {
   "cell_type": "code",
   "execution_count": 12,
   "outputs": [],
   "source": [
    "model = timm.create_model('vit_base_patch16_224', num_classes=6, pretrained=True)\n",
    "# model = timm.create_model('swin_base_patch4_window7_224', num_classes=4, pretrained=True)\n",
    "model.to(device)\n",
    "\n",
    "pos_weight = torch.tensor([1, 2, 1, 1, 1, 1]).to(device)\n",
    "criterion = nn.BCEWithLogitsLoss(pos_weight=pos_weight)\n",
    "SGD_optimizer = optim.SGD(model.parameters(), lr=0.001, momentum=0.9)\n"
   ],
   "metadata": {
    "collapsed": false,
    "pycharm": {
     "name": "#%%\n"
    }
   }
  },
  {
   "cell_type": "code",
   "execution_count": null,
   "outputs": [
    {
     "name": "stdout",
     "output_type": "stream",
     "text": [
      "Epoch 1\n",
      "-------------------------------\n"
     ]
    },
    {
     "name": "stderr",
     "output_type": "stream",
     "text": [
      "Exception in thread Thread-6:\n",
      "Traceback (most recent call last):\n",
      "  File \"D:\\Users\\douli\\anaconda3\\envs\\dentist-CV-main\\lib\\threading.py\", line 932, in _bootstrap_inner\n",
      "    self.run()\n",
      "  File \"D:\\Users\\douli\\anaconda3\\envs\\dentist-CV-main\\lib\\site-packages\\tensorboard\\summary\\writer\\event_file_writer.py\", line 233, in run\n",
      "    self._record_writer.write(data)\n",
      "  File \"D:\\Users\\douli\\anaconda3\\envs\\dentist-CV-main\\lib\\site-packages\\tensorboard\\summary\\writer\\record_writer.py\", line 40, in write\n",
      "    self._writer.write(header + header_crc + data + footer_crc)\n",
      "  File \"D:\\Users\\douli\\anaconda3\\envs\\dentist-CV-main\\lib\\site-packages\\tensorboard\\compat\\tensorflow_stub\\io\\gfile.py\", line 766, in write\n",
      "    self.fs.append(self.filename, file_content, self.binary_mode)\n",
      "  File \"D:\\Users\\douli\\anaconda3\\envs\\dentist-CV-main\\lib\\site-packages\\tensorboard\\compat\\tensorflow_stub\\io\\gfile.py\", line 160, in append\n",
      "    self._write(filename, file_content, \"ab\" if binary_mode else \"a\")\n",
      "  File \"D:\\Users\\douli\\anaconda3\\envs\\dentist-CV-main\\lib\\site-packages\\tensorboard\\compat\\tensorflow_stub\\io\\gfile.py\", line 164, in _write\n",
      "    with io.open(filename, mode, encoding=encoding) as f:\n",
      "FileNotFoundError: [Errno 2] No such file or directory: b'runs\\\\Oct17_14-39-54_Stephen\\\\events.out.tfevents.1665988794.Stephen.6628.0'\n"
     ]
    },
    {
     "name": "stdout",
     "output_type": "stream",
     "text": [
      "loss: 0.710990  [    0/  832]\n",
      "Test Error:\n",
      "Accuracy: 91.1%, Avg loss: 0.667483\n",
      "Precision: 81.7%, Sensitivity: 77.1% \n",
      "\n",
      "Class R.R:\n",
      "Accuracy: 98.6%\n",
      "Precision: nan%, Sensitivity: 0.0%\n",
      "Class caries:\n",
      "Accuracy: 85.2%\n",
      "Precision: 21.4%, Sensitivity: 40.0%\n",
      "Class crown:\n",
      "Accuracy: 90.0%\n",
      "Precision: 86.7%, Sensitivity: 72.2%\n",
      "Class endo:\n",
      "Accuracy: 93.8%\n",
      "Precision: 85.2%, Sensitivity: 92.9%\n",
      "Class filling:\n",
      "Accuracy: 91.4%\n",
      "Precision: 90.6%, Sensitivity: 93.8%\n",
      "Class post:\n",
      "Accuracy: 87.6%\n",
      "Precision: 100.0%, Sensitivity: 31.6%\n",
      "Epoch 2\n",
      "-------------------------------\n",
      "loss: 0.216443  [    0/  832]\n",
      "Test Error:\n",
      "Accuracy: 92.5%, Avg loss: 0.664215\n",
      "Precision: 80.7%, Sensitivity: 87.1% \n",
      "\n",
      "Class R.R:\n",
      "Accuracy: 98.6%\n",
      "Precision: nan%, Sensitivity: 0.0%\n",
      "Class caries:\n",
      "Accuracy: 91.4%\n",
      "Precision: 28.6%, Sensitivity: 13.3%\n",
      "Class crown:\n",
      "Accuracy: 91.4%\n",
      "Precision: 76.5%, Sensitivity: 96.3%\n",
      "Class endo:\n",
      "Accuracy: 90.9%\n",
      "Precision: 75.3%, Sensitivity: 98.2%\n",
      "Class filling:\n",
      "Accuracy: 90.9%\n",
      "Precision: 92.0%, Sensitivity: 91.2%\n",
      "Class post:\n",
      "Accuracy: 91.9%\n",
      "Precision: 75.6%, Sensitivity: 81.6%\n",
      "Epoch 3\n",
      "-------------------------------\n",
      "loss: 0.113556  [    0/  832]\n",
      "Test Error:\n",
      "Accuracy: 92.7%, Avg loss: 0.666748\n",
      "Precision: 83.3%, Sensitivity: 83.9% \n",
      "\n",
      "Class R.R:\n",
      "Accuracy: 98.1%\n",
      "Precision: 0.0%, Sensitivity: 0.0%\n",
      "Class caries:\n",
      "Accuracy: 91.4%\n",
      "Precision: 33.3%, Sensitivity: 20.0%\n",
      "Class crown:\n",
      "Accuracy: 91.4%\n",
      "Precision: 75.0%, Sensitivity: 100.0%\n",
      "Class endo:\n",
      "Accuracy: 92.3%\n",
      "Precision: 88.5%, Sensitivity: 82.1%\n",
      "Class filling:\n",
      "Accuracy: 90.0%\n",
      "Precision: 89.0%, Sensitivity: 92.9%\n",
      "Class post:\n",
      "Accuracy: 92.8%\n",
      "Precision: 89.7%, Sensitivity: 68.4%\n",
      "Epoch 4\n",
      "-------------------------------\n",
      "loss: 0.113389  [    0/  832]\n",
      "Test Error:\n",
      "Accuracy: 93.8%, Avg loss: 0.648957\n",
      "Precision: 87.1%, Sensitivity: 84.6% \n",
      "\n",
      "Class R.R:\n",
      "Accuracy: 99.0%\n",
      "Precision: 100.0%, Sensitivity: 33.3%\n",
      "Class caries:\n",
      "Accuracy: 93.8%\n",
      "Precision: 62.5%, Sensitivity: 33.3%\n",
      "Class crown:\n",
      "Accuracy: 89.5%\n",
      "Precision: 84.8%, Sensitivity: 72.2%\n",
      "Class endo:\n",
      "Accuracy: 91.9%\n",
      "Precision: 80.0%, Sensitivity: 92.9%\n",
      "Class filling:\n",
      "Accuracy: 92.8%\n",
      "Precision: 92.2%, Sensitivity: 94.7%\n",
      "Class post:\n",
      "Accuracy: 95.7%\n",
      "Precision: 91.4%, Sensitivity: 84.2%\n",
      "Epoch 5\n",
      "-------------------------------\n",
      "loss: 0.033105  [    0/  832]\n",
      "Test Error:\n",
      "Accuracy: 93.4%, Avg loss: 0.653573\n",
      "Precision: 85.0%, Sensitivity: 85.3% \n",
      "\n",
      "Class R.R:\n",
      "Accuracy: 98.6%\n",
      "Precision: 50.0%, Sensitivity: 33.3%\n",
      "Class caries:\n",
      "Accuracy: 91.9%\n",
      "Precision: 42.9%, Sensitivity: 40.0%\n",
      "Class crown:\n",
      "Accuracy: 90.9%\n",
      "Precision: 80.7%, Sensitivity: 85.2%\n",
      "Class endo:\n",
      "Accuracy: 93.3%\n",
      "Precision: 86.2%, Sensitivity: 89.3%\n",
      "Class filling:\n",
      "Accuracy: 90.9%\n",
      "Precision: 92.0%, Sensitivity: 91.2%\n",
      "Class post:\n",
      "Accuracy: 94.7%\n",
      "Precision: 86.5%, Sensitivity: 84.2%\n",
      "Epoch 6\n",
      "-------------------------------\n",
      "loss: 0.010236  [    0/  832]\n",
      "Test Error:\n",
      "Accuracy: 93.3%, Avg loss: 0.651115\n",
      "Precision: 83.5%, Sensitivity: 87.1% \n",
      "\n"
     ]
    }
   ],
   "source": [
    "for t in range(epoch_num):\n",
    "    print(f\"Epoch {t + 1}\\n-------------------------------\")\n",
    "    train(train_loader, model, criterion, SGD_optimizer, writer=writer, epoch=t, device=device)\n",
    "    test(test_loader, model, criterion, len(classes), device=device, writer=writer, epoch=t, classes=classes)\n",
    "\n",
    "writer.close()\n",
    "print(\"Done!\")\n",
    "\n",
    "print('Finished Training')\n",
    "# save your improved network\n",
    "torch.save(model.state_dict(), './pretrained-net.pt')\n"
   ],
   "metadata": {
    "collapsed": false,
    "pycharm": {
     "name": "#%%\n",
     "is_executing": true
    }
   }
  }
 ],
 "metadata": {
  "kernelspec": {
   "display_name": "Python 3",
   "language": "python",
   "name": "python3"
  },
  "language_info": {
   "codemirror_mode": {
    "name": "ipython",
    "version": 2
   },
   "file_extension": ".py",
   "mimetype": "text/x-python",
   "name": "python",
   "nbconvert_exporter": "python",
   "pygments_lexer": "ipython2",
   "version": "2.7.6"
  }
 },
 "nbformat": 4,
 "nbformat_minor": 0
}