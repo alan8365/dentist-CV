{
 "cells": [
  {
   "cell_type": "code",
   "execution_count": 2,
   "metadata": {
    "collapsed": true
   },
   "outputs": [
    {
     "name": "stderr",
     "output_type": "stream",
     "text": [
      "/opt/miniconda3/envs/pt113/lib/python3.9/site-packages/torchvision/io/image.py:11: UserWarning: Failed to load image Python extension: \n",
      "  warn(f\"Failed to load image Python extension: {e}\")\n"
     ]
    }
   ],
   "source": [
    "import os\n",
    "from pathlib import Path\n",
    "\n",
    "import cv2 as cv\n",
    "import matplotlib\n",
    "import numpy as np\n",
    "import torch\n",
    "from dotenv import load_dotenv\n",
    "from matplotlib import pyplot as plt\n",
    "from segment_anything import SamPredictor, sam_model_registry\n",
    "\n",
    "from utils.processor import ImageEdge\n",
    "\n",
    "load_dotenv()\n",
    "matplotlib.use('module://matplotlib_inline.backend_inline')\n",
    "\n",
    "# %matplotlib inline\n",
    "\n"
   ]
  },
  {
   "cell_type": "code",
   "execution_count": 3,
   "outputs": [],
   "source": [
    "def show_mask(mask, ax, random_color=False):\n",
    "    if random_color:\n",
    "        color = np.concatenate([np.random.random(3), np.array([0.6])], axis=0)\n",
    "    else:\n",
    "        color = np.array([30 / 255, 144 / 255, 255 / 255, 0.6])\n",
    "    h, w = mask.shape[-2:]\n",
    "    mask_image = mask.reshape(h, w, 1) * color.reshape(1, 1, -1)\n",
    "    ax.imshow(mask_image)\n",
    "\n",
    "\n",
    "def show_points(coords, labels, ax, marker_size=375):\n",
    "    pos_points = coords[labels == 1]\n",
    "    neg_points = coords[labels == 0]\n",
    "    ax.scatter(pos_points[:, 0], pos_points[:, 1], color='green', marker='*', s=marker_size, edgecolor='white',\n",
    "               linewidth=1.25)\n",
    "    ax.scatter(neg_points[:, 0], neg_points[:, 1], color='red', marker='*', s=marker_size, edgecolor='white',\n",
    "               linewidth=1.25)\n",
    "\n",
    "\n",
    "def show_box(box, ax):\n",
    "    x0, y0 = box[0], box[1]\n",
    "    w, h = box[2] - box[0], box[3] - box[1]\n",
    "    ax.add_patch(plt.Rectangle((x0, y0), w, h, edgecolor='green', facecolor=(0, 0, 0, 0), lw=2))\n"
   ],
   "metadata": {
    "collapsed": false
   }
  },
  {
   "cell_type": "code",
   "execution_count": 4,
   "outputs": [
    {
     "data": {
      "text/plain": "PosixPath('/Users/lucyxu/PycharmProjects/datasets/DENTEX CHALLENGE 2023/validation_data/quadrant_enumeration_disease/xrays')"
     },
     "execution_count": 4,
     "metadata": {},
     "output_type": "execute_result"
    }
   ],
   "source": [
    "# data_dir = Path(os.getenv('DATASET_DIR')) / 'phase-2'\n",
    "data_dir = Path(os.getenv('DATASET_DIR')) / 'DENTEX CHALLENGE 2023/validation_data/quadrant_enumeration_disease/xrays'\n",
    "data_dir\n"
   ],
   "metadata": {
    "collapsed": false
   }
  },
  {
   "cell_type": "code",
   "execution_count": 8,
   "outputs": [
    {
     "data": {
      "text/plain": "'val_13.png'"
     },
     "execution_count": 8,
     "metadata": {},
     "output_type": "execute_result"
    }
   ],
   "source": [
    "plt.gray()\n",
    "\n",
    "# image_paths = list(data_dir.glob('00008026.jpg'))\n",
    "# image_paths = list(data_dir.glob('00006145.jpg'))\n",
    "image_paths = list(data_dir.glob('*.png'))\n",
    "image_paths[0].name\n"
   ],
   "metadata": {
    "collapsed": false
   }
  },
  {
   "cell_type": "code",
   "execution_count": 9,
   "outputs": [
    {
     "ename": "FileNotFoundError",
     "evalue": "[Errno 2] No such file or directory: '/Users/lucyxu/PycharmProjects/datasets/DENTEX CHALLENGE 2023/validation_data/quadrant_enumeration_disease/xrays/val_13.json'",
     "output_type": "error",
     "traceback": [
      "\u001B[0;31m---------------------------------------------------------------------------\u001B[0m",
      "\u001B[0;31mFileNotFoundError\u001B[0m                         Traceback (most recent call last)",
      "\u001B[0;32m<ipython-input-9-6556159bbac2>\u001B[0m in \u001B[0;36m<module>\u001B[0;34m\u001B[0m\n\u001B[0;32m----> 1\u001B[0;31m \u001B[0mimage_edge\u001B[0m \u001B[0;34m=\u001B[0m \u001B[0mImageEdge\u001B[0m\u001B[0;34m(\u001B[0m\u001B[0mimage_paths\u001B[0m\u001B[0;34m[\u001B[0m\u001B[0;36m0\u001B[0m\u001B[0;34m]\u001B[0m\u001B[0;34m)\u001B[0m\u001B[0;34m\u001B[0m\u001B[0;34m\u001B[0m\u001B[0m\n\u001B[0m\u001B[1;32m      2\u001B[0m \u001B[0mimage_edge\u001B[0m\u001B[0;34m.\u001B[0m\u001B[0mplot_template_points\u001B[0m\u001B[0;34m(\u001B[0m\u001B[0;34m)\u001B[0m\u001B[0;34m\u001B[0m\u001B[0;34m\u001B[0m\u001B[0m\n\u001B[1;32m      3\u001B[0m \u001B[0;34m\u001B[0m\u001B[0m\n",
      "\u001B[0;32m~/PycharmProjects/dentist-CV/utils/processor.py\u001B[0m in \u001B[0;36m__init__\u001B[0;34m(self, image_path, model)\u001B[0m\n\u001B[1;32m     42\u001B[0m             \u001B[0mresults\u001B[0m \u001B[0;34m=\u001B[0m \u001B[0mmodel\u001B[0m\u001B[0;34m(\u001B[0m\u001B[0mself\u001B[0m\u001B[0;34m.\u001B[0m\u001B[0mimage_path\u001B[0m\u001B[0;34m)\u001B[0m\u001B[0;34m\u001B[0m\u001B[0;34m\u001B[0m\u001B[0m\n\u001B[1;32m     43\u001B[0m         \u001B[0;32melse\u001B[0m\u001B[0;34m:\u001B[0m\u001B[0;34m\u001B[0m\u001B[0;34m\u001B[0m\u001B[0m\n\u001B[0;32m---> 44\u001B[0;31m             \u001B[0mresults\u001B[0m \u001B[0;34m=\u001B[0m \u001B[0mget_fake_result\u001B[0m\u001B[0;34m(\u001B[0m\u001B[0mself\u001B[0m\u001B[0;34m.\u001B[0m\u001B[0mimage_path\u001B[0m\u001B[0;34m)\u001B[0m\u001B[0;34m\u001B[0m\u001B[0;34m\u001B[0m\u001B[0m\n\u001B[0m\u001B[1;32m     45\u001B[0m \u001B[0;34m\u001B[0m\u001B[0m\n\u001B[1;32m     46\u001B[0m         self.template_points = {\n",
      "\u001B[0;32m~/PycharmProjects/dentist-CV/utils/shortcut.py\u001B[0m in \u001B[0;36mget_fake_result\u001B[0;34m(image_name)\u001B[0m\n\u001B[1;32m     15\u001B[0m     \u001B[0mlabel_name\u001B[0m \u001B[0;34m=\u001B[0m \u001B[0mimage_name\u001B[0m\u001B[0;34m.\u001B[0m\u001B[0mwith_suffix\u001B[0m\u001B[0;34m(\u001B[0m\u001B[0;34m'.json'\u001B[0m\u001B[0;34m)\u001B[0m\u001B[0;34m\u001B[0m\u001B[0;34m\u001B[0m\u001B[0m\n\u001B[1;32m     16\u001B[0m \u001B[0;34m\u001B[0m\u001B[0m\n\u001B[0;32m---> 17\u001B[0;31m     \u001B[0;32mwith\u001B[0m \u001B[0mopen\u001B[0m\u001B[0;34m(\u001B[0m\u001B[0mlabel_name\u001B[0m\u001B[0;34m,\u001B[0m \u001B[0;34m'r'\u001B[0m\u001B[0;34m)\u001B[0m \u001B[0;32mas\u001B[0m \u001B[0mf\u001B[0m\u001B[0;34m:\u001B[0m\u001B[0;34m\u001B[0m\u001B[0;34m\u001B[0m\u001B[0m\n\u001B[0m\u001B[1;32m     18\u001B[0m         \u001B[0mlabel_file\u001B[0m \u001B[0;34m=\u001B[0m \u001B[0mjson\u001B[0m\u001B[0;34m.\u001B[0m\u001B[0mload\u001B[0m\u001B[0;34m(\u001B[0m\u001B[0mf\u001B[0m\u001B[0;34m)\u001B[0m\u001B[0;34m\u001B[0m\u001B[0;34m\u001B[0m\u001B[0m\n\u001B[1;32m     19\u001B[0m \u001B[0;34m\u001B[0m\u001B[0m\n",
      "\u001B[0;31mFileNotFoundError\u001B[0m: [Errno 2] No such file or directory: '/Users/lucyxu/PycharmProjects/datasets/DENTEX CHALLENGE 2023/validation_data/quadrant_enumeration_disease/xrays/val_13.json'"
     ]
    }
   ],
   "source": [
    "image_edge = ImageEdge(image_paths[0])\n",
    "image_edge.plot_template_points()\n"
   ],
   "metadata": {
    "collapsed": false
   }
  },
  {
   "cell_type": "code",
   "execution_count": null,
   "outputs": [],
   "source": [
    "import matplotlib.patches as patches\n",
    "\n",
    "boxes = np.array([i['xyxy'] for i in image_edge.split_teeth.values()])\n",
    "\n",
    "box = boxes[0]\n",
    "\n",
    "fig1 = plt.figure()\n",
    "ax = plt.gca()\n",
    "ax.imshow(1 - image_edge.im_global)\n",
    "for box in boxes:\n",
    "    w = box[2] - box[0]\n",
    "    h = box[3] - box[1]\n",
    "    patch = patches.Rectangle(box[:2], w, h, fill=False, color='green')\n",
    "    ax.add_patch(patch)\n",
    "\n",
    "plt.show()\n"
   ],
   "metadata": {
    "collapsed": false
   }
  },
  {
   "cell_type": "code",
   "execution_count": null,
   "outputs": [],
   "source": [
    "sam = sam_model_registry[\"vit_b\"](checkpoint=\"../../Weights/sam_vit_b_01ec64.pth\")\n",
    "# sam = sam_model_registry[\"vit_h\"](checkpoint=\"../../Weights/sam_vit_h_4b8939.pth\")\n",
    "predictor = SamPredictor(sam)\n",
    "\n",
    "im = cv.cvtColor(image_edge.im_global, cv.COLOR_GRAY2RGB)\n",
    "\n",
    "predictor.set_image(im)\n"
   ],
   "metadata": {
    "collapsed": false
   }
  },
  {
   "cell_type": "code",
   "execution_count": null,
   "outputs": [],
   "source": [
    "input_boxes = torch.tensor([i['xyxy'] for i in image_edge.split_teeth.values()], device=predictor.device)\n",
    "transformed_boxes = predictor.transform.apply_boxes_torch(input_boxes, im.shape[:2])\n",
    "\n",
    "masks, _, _ = predictor.predict_torch(\n",
    "    point_coords=None,\n",
    "    point_labels=None,\n",
    "    boxes=transformed_boxes,\n",
    "    multimask_output=False,\n",
    ")\n",
    "\n",
    "plt.figure(figsize=(10, 10))\n",
    "plt.imshow(im)\n",
    "for mask in masks:\n",
    "    show_mask(mask.cpu().numpy(), plt.gca(), random_color=True)\n",
    "for box in input_boxes:\n",
    "    show_box(box.cpu().numpy(), plt.gca())\n",
    "plt.axis('off')\n",
    "plt.show()\n"
   ],
   "metadata": {
    "collapsed": false
   }
  },
  {
   "cell_type": "code",
   "execution_count": null,
   "outputs": [],
   "source": [
    "a = image_edge.teeth_roi_images\n",
    "b = a[0]\n",
    "c = b['gaps_rotated']\n",
    "jaw_pos = b['jaw_pos_rotated']\n",
    "\n",
    "boxes = []\n",
    "for i in range(len(c) - 1):\n",
    "    x1 = c[i][0]\n",
    "    x2 = c[i + 1][0]\n",
    "    y2 = jaw_pos\n",
    "\n",
    "    crown_size = max(y2 - c[i][1], y2 - c[i + 1][1])\n",
    "    y1 = y2 - (crown_size / 2 * 5)\n",
    "    y1 = y2 - crown_size\n",
    "\n",
    "    box = np.array([x1, y1, x2, y2])\n",
    "    boxes.append(box)\n",
    "\n",
    "plt.imshow(1 - b['image_rotated'])\n",
    "# for i in d:\n",
    "#     plt.scatter(*i, s=5, color='green')\n",
    "for i in boxes:\n",
    "    show_box(i, plt.gca())\n",
    "plt.show()\n",
    "\n",
    "b.keys()\n"
   ],
   "metadata": {
    "collapsed": false
   }
  },
  {
   "cell_type": "code",
   "execution_count": null,
   "outputs": [],
   "source": [
    "im_roi_rotated = b['image_rotated']\n",
    "im_roi_rotated = cv.cvtColor(im_roi_rotated, cv.COLOR_GRAY2RGB)\n",
    "\n",
    "predictor.set_image(im_roi_rotated)\n"
   ],
   "metadata": {
    "collapsed": false
   }
  },
  {
   "cell_type": "code",
   "execution_count": null,
   "outputs": [],
   "source": [
    "input_boxes = torch.tensor(boxes, device=predictor.device)\n",
    "\n",
    "transformed_boxes = predictor.transform.apply_boxes_torch(input_boxes, im_roi_rotated.shape[:2])\n",
    "masks, _, _ = predictor.predict_torch(\n",
    "    point_coords=None,\n",
    "    point_labels=None,\n",
    "    boxes=transformed_boxes,\n",
    "    multimask_output=False,\n",
    ")\n",
    "\n",
    "# plt.figure(figsize=(10, 10))\n",
    "plt.imshow(im_roi_rotated)\n",
    "for mask in masks:\n",
    "    show_mask(mask.cpu().numpy(), plt.gca(), random_color=True)\n",
    "for box in input_boxes:\n",
    "    show_box(box.cpu().numpy(), plt.gca())\n",
    "plt.axis('off')\n",
    "plt.show()\n"
   ],
   "metadata": {
    "collapsed": false
   }
  },
  {
   "cell_type": "code",
   "execution_count": null,
   "outputs": [],
   "source": [
    "# a = np.array([[True, False, True],\n",
    "#               [True, True, True],\n",
    "#               [False, True, False]])\n",
    "\n",
    "mask = masks[0].clone().squeeze()\n",
    "\n",
    "b = np.where(mask)\n",
    "\n",
    "mask_points = np.array([[j, i] for i, j in zip(*b)])\n",
    "\n",
    "p = [np.median(mask_points[:, 0]), np.median(mask_points[:, 1])]\n",
    "\n",
    "plt.imshow(1 - im_roi_rotated)\n",
    "# for p in mask_points[:100]:\n",
    "#     plt.scatter(*p, color='green', s=5)\n",
    "plt.scatter(*p, color='green', s=5)\n",
    "plt.show()\n",
    "\n"
   ],
   "metadata": {
    "collapsed": false
   }
  },
  {
   "cell_type": "code",
   "execution_count": null,
   "outputs": [],
   "source": [
    "idx = 1\n",
    "# input_point = np.array([d[idx]])\n",
    "x1, y1, x2, y2 = boxes[0]\n",
    "input_point = np.array([[(x1 + x2) / 2, (y1 + y2) / 2]])\n",
    "input_label = np.array([0])\n",
    "\n",
    "masks, scores, logits = predictor.predict(\n",
    "    point_coords=input_point,\n",
    "    point_labels=input_label,\n",
    "    multimask_output=True,\n",
    ")\n",
    "\n",
    "for i, (mask, score) in enumerate(zip(masks, scores)):\n",
    "    plt.figure(figsize=(10, 10))\n",
    "    plt.imshow(1 - im_roi_rotated)\n",
    "    show_mask(mask, plt.gca())\n",
    "    show_points(input_point, input_label, plt.gca(), marker_size=5)\n",
    "    plt.title(f\"Mask {i + 1}, Score: {score:.3f}\", fontsize=18)\n",
    "    plt.axis('off')\n",
    "    plt.show()\n"
   ],
   "metadata": {
    "collapsed": false
   }
  }
 ],
 "metadata": {
  "kernelspec": {
   "display_name": "Python 3",
   "language": "python",
   "name": "python3"
  },
  "language_info": {
   "codemirror_mode": {
    "name": "ipython",
    "version": 2
   },
   "file_extension": ".py",
   "mimetype": "text/x-python",
   "name": "python",
   "nbconvert_exporter": "python",
   "pygments_lexer": "ipython2",
   "version": "2.7.6"
  }
 },
 "nbformat": 4,
 "nbformat_minor": 0
}
