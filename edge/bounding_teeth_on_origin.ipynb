{
 "cells": [
  {
   "cell_type": "code",
   "execution_count": 12,
   "metadata": {},
   "outputs": [],
   "source": [
    "import os\n",
    "from pathlib import Path\n",
    "\n",
    "import cv2 as cv\n",
    "import matplotlib\n",
    "from dotenv import load_dotenv\n",
    "\n",
    "from utils.edge import tooth_isolation\n",
    "from utils.yolo import get_teeth_ROI\n",
    "\n",
    "# from ultralytics import YOLO\n",
    "\n",
    "load_dotenv()\n",
    "matplotlib.use('module://matplotlib_inline.backend_inline')\n",
    "\n",
    "% matplotlib inline\n",
    "\n",
    "YOLO_model_dir = Path(os.getenv('YOLO_MODEL_DIR'))\n",
    "data_dir = Path(os.getenv('DATASET_DIR')) / 'phase-3'\n"
   ]
  },
  {
   "cell_type": "code",
   "execution_count": 14,
   "metadata": {
    "collapsed": false
   },
   "outputs": [
    {
     "name": "stdout",
     "output_type": "stream",
     "text": [
      "\u001B[31m\u001B[1mrequirements:\u001B[0m /opt/miniconda3/envs/pt113/lib/python3.9/site-packages/yolov5/requirements.txt not found, check failed.\n"
     ]
    },
    {
     "data": {
      "text/plain": "['/Users/lucyxu/PycharmProjects/datasets/phase-3/00008276.jpg',\n '/Users/lucyxu/PycharmProjects/datasets/phase-3/00008317.jpg',\n '/Users/lucyxu/PycharmProjects/datasets/phase-3/00008329.jpg',\n '/Users/lucyxu/PycharmProjects/datasets/phase-3/00008328.jpg',\n '/Users/lucyxu/PycharmProjects/datasets/phase-3/00008314.jpg',\n '/Users/lucyxu/PycharmProjects/datasets/phase-3/00008270.jpg',\n '/Users/lucyxu/PycharmProjects/datasets/phase-3/00008338.jpg',\n '/Users/lucyxu/PycharmProjects/datasets/phase-3/00008339.jpg',\n '/Users/lucyxu/PycharmProjects/datasets/phase-3/00008271.jpg',\n '/Users/lucyxu/PycharmProjects/datasets/phase-3/00008298.jpg',\n '/Users/lucyxu/PycharmProjects/datasets/phase-3/00008306.jpg',\n '/Users/lucyxu/PycharmProjects/datasets/phase-3/00008272.jpg',\n '/Users/lucyxu/PycharmProjects/datasets/phase-3/00008413.jpg',\n '/Users/lucyxu/PycharmProjects/datasets/phase-3/00008228.jpg',\n '/Users/lucyxu/PycharmProjects/datasets/phase-3/00008200.jpg',\n '/Users/lucyxu/PycharmProjects/datasets/phase-3/00008376.jpg',\n '/Users/lucyxu/PycharmProjects/datasets/phase-3/00008377.jpg',\n '/Users/lucyxu/PycharmProjects/datasets/phase-3/00008217.jpg',\n '/Users/lucyxu/PycharmProjects/datasets/phase-3/00008207.jpg',\n '/Users/lucyxu/PycharmProjects/datasets/phase-3/00008373.jpg',\n '/Users/lucyxu/PycharmProjects/datasets/phase-3/00008415.jpg',\n '/Users/lucyxu/PycharmProjects/datasets/phase-3/00008399.jpg',\n '/Users/lucyxu/PycharmProjects/datasets/phase-3/00008238.jpg',\n '/Users/lucyxu/PycharmProjects/datasets/phase-3/00008210.jpg',\n '/Users/lucyxu/PycharmProjects/datasets/phase-3/00008358.jpg',\n '/Users/lucyxu/PycharmProjects/datasets/phase-3/00008370.jpg',\n '/Users/lucyxu/PycharmProjects/datasets/phase-3/00008199.jpg',\n '/Users/lucyxu/PycharmProjects/datasets/phase-3/00008239.jpg',\n '/Users/lucyxu/PycharmProjects/datasets/phase-3/00008432.jpg',\n '/Users/lucyxu/PycharmProjects/datasets/phase-3/00008397.jpg',\n '/Users/lucyxu/PycharmProjects/datasets/phase-3/00008396.jpg',\n '/Users/lucyxu/PycharmProjects/datasets/phase-3/00008427.jpg',\n '/Users/lucyxu/PycharmProjects/datasets/phase-3/00008355.jpg',\n '/Users/lucyxu/PycharmProjects/datasets/phase-3/00008433.jpg',\n '/Users/lucyxu/PycharmProjects/datasets/phase-3/00008223.jpg',\n '/Users/lucyxu/PycharmProjects/datasets/phase-3/00008419.jpg',\n '/Users/lucyxu/PycharmProjects/datasets/phase-3/00008380.jpg',\n '/Users/lucyxu/PycharmProjects/datasets/phase-3/00008356.jpg',\n '/Users/lucyxu/PycharmProjects/datasets/phase-3/00008391.jpg',\n '/Users/lucyxu/PycharmProjects/datasets/phase-3/00008384.jpg',\n '/Users/lucyxu/PycharmProjects/datasets/phase-3/00008421.jpg',\n '/Users/lucyxu/PycharmProjects/datasets/phase-3/00008227.jpg',\n '/Users/lucyxu/PycharmProjects/datasets/phase-3/00008225.jpg',\n '/Users/lucyxu/PycharmProjects/datasets/phase-3/00008231.jpg',\n '/Users/lucyxu/PycharmProjects/datasets/phase-3/00008351.jpg',\n '/Users/lucyxu/PycharmProjects/datasets/phase-3/00008345.jpg',\n '/Users/lucyxu/PycharmProjects/datasets/phase-3/00008393.jpg',\n '/Users/lucyxu/PycharmProjects/datasets/phase-3/00008378.jpg',\n '/Users/lucyxu/PycharmProjects/datasets/phase-3/00008218.jpg',\n '/Users/lucyxu/PycharmProjects/datasets/phase-3/00008243.jpg',\n '/Users/lucyxu/PycharmProjects/datasets/phase-3/00008257.jpg',\n '/Users/lucyxu/PycharmProjects/datasets/phase-3/00008280.jpg',\n '/Users/lucyxu/PycharmProjects/datasets/phase-3/00008323.jpg',\n '/Users/lucyxu/PycharmProjects/datasets/phase-3/00008322.jpg',\n '/Users/lucyxu/PycharmProjects/datasets/phase-3/00008336.jpg',\n '/Users/lucyxu/PycharmProjects/datasets/phase-3/00008256.jpg',\n '/Users/lucyxu/PycharmProjects/datasets/phase-3/00008254.jpg',\n '/Users/lucyxu/PycharmProjects/datasets/phase-3/00008240.jpg',\n '/Users/lucyxu/PycharmProjects/datasets/phase-3/00008309.jpg',\n '/Users/lucyxu/PycharmProjects/datasets/phase-3/00008335.jpg',\n '/Users/lucyxu/PycharmProjects/datasets/phase-3/00008321.jpg',\n '/Users/lucyxu/PycharmProjects/datasets/phase-3/00008241.jpg',\n '/Users/lucyxu/PycharmProjects/datasets/phase-3/00008279.jpg',\n '/Users/lucyxu/PycharmProjects/datasets/phase-3/00008245.jpg',\n '/Users/lucyxu/PycharmProjects/datasets/phase-3/00008325.jpg',\n '/Users/lucyxu/PycharmProjects/datasets/phase-3/00008318.jpg',\n '/Users/lucyxu/PycharmProjects/datasets/phase-3/00008250.jpg',\n '/Users/lucyxu/PycharmProjects/datasets/phase-3/00008246.jpg',\n '/Users/lucyxu/PycharmProjects/datasets/phase-3/00008332.jpg',\n '/Users/lucyxu/PycharmProjects/datasets/phase-3/00008333.jpg',\n '/Users/lucyxu/PycharmProjects/datasets/phase-3/00008290.jpg']"
     },
     "execution_count": 14,
     "metadata": {},
     "output_type": "execute_result"
    }
   ],
   "source": [
    "import torch\n",
    "from glob import glob\n",
    "\n",
    "model = torch.hub.load(YOLO_model_dir / '..', 'custom', path=YOLO_model_dir / '8-bound.pt', source='local')\n",
    "# Image\n",
    "images = glob(str(data_dir / '*.jpg'))\n",
    "\n",
    "images\n"
   ]
  },
  {
   "cell_type": "code",
   "execution_count": 15,
   "outputs": [],
   "source": [
    "results = model(images[:])\n"
   ],
   "metadata": {
    "collapsed": false,
    "pycharm": {
     "name": "#%%\n"
    }
   }
  },
  {
   "cell_type": "code",
   "execution_count": 16,
   "outputs": [],
   "source": [
    "save = False\n",
    "rotation_fix = False\n",
    "yolov8 = True\n"
   ],
   "metadata": {
    "collapsed": false,
    "pycharm": {
     "name": "#%%\n"
    }
   }
  },
  {
   "cell_type": "code",
   "execution_count": 38,
   "metadata": {
    "collapsed": false
   },
   "outputs": [],
   "source": [
    "teeth_roi = get_teeth_ROI(results)\n",
    "\n",
    "split_teeth = teeth_roi['split_teeth']\n",
    "teeth_roi = teeth_roi['images']\n",
    "\n",
    "tooth_position_dict = {\n",
    "    0: 'left',\n",
    "    1: 'middle',\n",
    "    2: 'right'\n",
    "}\n",
    "\n",
    "teeth_region = {}\n",
    "for file_name, data in teeth_roi.items():\n",
    "    temp_region = {}\n",
    "    for datum in data:\n",
    "        flag = datum['flag']\n",
    "        im = datum['image']\n",
    "        offset = datum['offset']\n",
    "        tooth_position = datum['tooth_position']\n",
    "\n",
    "        if im.size == 0:\n",
    "            continue\n",
    "\n",
    "        im_g = cv.cvtColor(im, cv.COLOR_RGB2GRAY)\n",
    "\n",
    "        isolation_data = tooth_isolation(im_g, flag=flag, filename=file_name, tooth_position=tooth_position,\n",
    "                                         save=save,\n",
    "                                         rotation_fix=rotation_fix)\n",
    "        region = isolation_data['crop_regions']\n",
    "        for k, v in region.items():\n",
    "            xyxy = region[k]['xyxy']\n",
    "\n",
    "            xyxy[0] += offset[0]\n",
    "            xyxy[1] += offset[1]\n",
    "            xyxy[2] += offset[0]\n",
    "            xyxy[3] += offset[1]\n",
    "\n",
    "            region[k]['xyxy'] = xyxy\n",
    "\n",
    "        temp_region.update(region)\n",
    "        temp_region.update(split_teeth[file_name])\n",
    "\n",
    "        teeth_region[file_name] = temp_region\n",
    "\n",
    "# Display bounding area\n",
    "# for file_name, data in teeth_region.items():\n",
    "#     im0 = cv.imread(f'../../Datasets/phase-3/{file_name}.jpg')\n",
    "#     annotator = Annotator(im0, line_width=3, example=file_name)\n",
    "#     for tooth_number, body in data.items():\n",
    "#         xyxy = body['xyxy']\n",
    "#         annotator.box_label(xyxy, str(tooth_number), color=(255, 0, 0))\n",
    "#\n",
    "#     im1 = annotator.result()\n",
    "#\n",
    "#     plt.imshow(im1)\n",
    "#     plt.title(file_name)\n",
    "#     plt.show()\n"
   ]
  },
  {
   "cell_type": "code",
   "execution_count": 71,
   "outputs": [],
   "source": [
    "for file_name, region in teeth_region.items():\n",
    "    file_content = ''\n",
    "    for tooth_number, data in region.items():\n",
    "        xyxy = data['xyxy'].reshape([4]).int()\n",
    "        x1, x2, y1, y2 = xyxy\n",
    "\n",
    "        # print(xyxy.reshape([4]))\n",
    "\n",
    "        file_line = f'{tooth_number} 0.8 {x1} {x2} {y1} {y2} \\n'\n",
    "\n",
    "        file_content += file_line\n",
    "\n",
    "    with open(f'../evals/Ours/{file_name}.txt', 'w') as f:\n",
    "        f.write(file_content)\n"
   ],
   "metadata": {
    "collapsed": false
   }
  },
  {
   "cell_type": "code",
   "execution_count": 73,
   "outputs": [],
   "source": [
    "a = set(teeth_roi.keys())\n",
    "b = set(teeth_region.keys())\n",
    "\n",
    "c = a - b\n",
    "\n",
    "for i in c:\n",
    "    with open(f'../evals/Ours/{i}.txt', 'w') as f:\n",
    "        f.write('')\n"
   ],
   "metadata": {
    "collapsed": false
   }
  }
 ],
 "metadata": {
  "kernelspec": {
   "display_name": "Python 3",
   "language": "python",
   "name": "python3"
  },
  "language_info": {
   "codemirror_mode": {
    "name": "ipython",
    "version": 3
   },
   "file_extension": ".py",
   "mimetype": "text/x-python",
   "name": "python",
   "nbconvert_exporter": "python",
   "pygments_lexer": "ipython3",
   "version": "3.8.13"
  }
 },
 "nbformat": 4,
 "nbformat_minor": 0
}
