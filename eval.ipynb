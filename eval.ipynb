{
 "cells": [
  {
   "cell_type": "code",
   "execution_count": 1,
   "metadata": {
    "collapsed": true
   },
   "outputs": [],
   "source": [
    "import json\n",
    "import cv2\n",
    "import matplotlib\n",
    "import matplotlib.pyplot as plt\n",
    "import torch\n",
    "import numpy as np\n",
    "import pandas as pd\n",
    "\n",
    "from sklearn.metrics import accuracy_score, precision_score, recall_score, f1_score\n",
    "from sklearn.preprocessing import MultiLabelBinarizer\n",
    "\n",
    "from pathlib import Path\n",
    "from dotenv import load_dotenv\n",
    "\n",
    "from utils.core import main\n",
    "\n",
    "import os\n",
    "\n",
    "load_dotenv()\n",
    "matplotlib.use('module://matplotlib_inline.backend_inline')\n",
    "\n",
    "%matplotlib inline\n",
    "\n"
   ]
  },
  {
   "cell_type": "code",
   "execution_count": 2,
   "outputs": [],
   "source": [
    "data_dir = '..' / Path(os.getenv('DATASET_DIR'))\n",
    "model = torch.hub.load(r'.\\YOLO', 'custom', path=r'.\\YOLO\\weights\\8-bound.pt', source='local')\n"
   ],
   "metadata": {
    "collapsed": false,
    "pycharm": {
     "name": "#%%\n"
    }
   }
  },
  {
   "cell_type": "code",
   "execution_count": 3,
   "outputs": [
    {
     "data": {
      "text/plain": "        filename     R.R             caries                             crown  \\\n0   00006145.jpg                         25                                     \n1   00008026.jpg                         46              11,12,21,22,26,32,36   \n2   00008075.jpg                                                                \n3   00008113.jpg                11,12,41,35                                36   \n4   00008117.jpg                   16,24,26                                     \n5   00008131.jpg                   15,17,34                                     \n6   00008136.jpg                   16,17,44                             32,33   \n7   00008137.jpg                      22,26                             36,37   \n8   00008140.jpg                16,21,45,47                                     \n9   00008145.jpg                   27,34,45                                46   \n11  00008154.jpg  37, 42                     14,16,17,24,25,26,27,33,34,35,38   \n13  00008156.jpg                   22,42,43                          24,25,32   \n14  00008157.jpg                      12,33        11,15,16,21,22,24,25,35,36   \n15  00008163.jpg                                                                \n16  00008166.jpg          11,21,23,26,45,46                                     \n17  00008169.jpg                         35                                     \n18  00008174.jpg                                                                \n19  00008177.jpg                      36,47                                     \n20  00008180.jpg                                                           36   \n21  00008181.jpg                         24                       14,22,26,34   \n22  00008186.jpg                                                                \n23  00008187.jpg      17              13,48                                     \n24  00008192.jpg                                                                \n25  00008197.jpg      35                 16                                     \n26  00008199.jpg                                               11,12,21,22,23   \n27  00008200.jpg                      34,46                                     \n29  00008210.jpg                                                           21   \n30  00008217.jpg      47                 37                                     \n32  00008223.jpg                                                                \n33  00008225.jpg                                                                \n\n                             endo  ...  \\\n0                                  ...   \n1                        11,21,36  ...   \n2                                  ...   \n3                              36  ...   \n4                                  ...   \n5                              44  ...   \n6                                  ...   \n7                                  ...   \n8                           11,21  ...   \n9                                  ...   \n11  17,26,31,33,34,38,41,42,43,44  ...   \n13                       37,45,47  ...   \n14                             15  ...   \n15                             36  ...   \n16                                 ...   \n17                                 ...   \n18                                 ...   \n19                                 ...   \n20                                 ...   \n21                       14,16,36  ...   \n22                                 ...   \n23                                 ...   \n24                                 ...   \n25                                 ...   \n26                    11,12,21,22  ...   \n27                                 ...   \n29                             21  ...   \n30                                 ...   \n32                                 ...   \n33                             17  ...   \n\n                                   filling             Imp     embedded  \\\n0                                       24                                \n1                                       17                           38   \n2                                    36,37                                \n3   14,15,16,17,22,24,25,26,27,37,38,46,47                                \n4                                 27,46,47                        38,48   \n5                                                                         \n6                                       28                                \n7                     27,31,34,41,44,45,47                                \n8                           16,21,25,27,28                           18   \n9                              16,26,27,47              46                \n11                                   46,47                                \n13                                                   21,27                \n14                       13,14,26,44,45,46                                \n15                    16,24,25,36,37,46,47                                \n16                                11,21,26                        28,38   \n17                                   36,47                                \n18     14,15,16,17,24,25,26,27,36,37,46,47                  18,28,38,48   \n19                                36,38,48                                \n20                             25,45,46,47                                \n21                          16,36,37,46,47                                \n22                                   35,37                                \n23                                      37                                \n24                                                                   38   \n25                                                          18,28,38,48   \n26                                27,44,45  25,33,44,45,47                \n27                                      46                                \n29                             12,26,37,47                                \n30                                                                18,28   \n32                                15,36,46                                \n33                                17,36,47                                \n\n       impacted                     missing  \n0                                            \n1                                            \n2                                            \n3                                            \n4                                            \n5                               36,37,46,47  \n6                      34,35,36,37,45,46,47  \n7                                            \n8                                  36,37,46  \n9                                            \n11                                 36,37,42  \n13               16,17,26,27,34,35,36,44,46  \n14                                           \n15           47                              \n16                                 16,17,36  \n17                                       46  \n18                                           \n19                                           \n20                                           \n21                                           \n22                                 25,37,46  \n23                        15,16,17,24,35,36  \n24                                           \n25                                       35  \n26                              14,15,36,37  \n27                                           \n29                                    36,46  \n30                  11,15,16,17,24,26,27,47  \n32                                 17,37,47  \n33  18,28,38,48                       26,46  \n\n[30 rows x 11 columns]",
      "text/html": "<div>\n<style scoped>\n    .dataframe tbody tr th:only-of-type {\n        vertical-align: middle;\n    }\n\n    .dataframe tbody tr th {\n        vertical-align: top;\n    }\n\n    .dataframe thead th {\n        text-align: right;\n    }\n</style>\n<table border=\"1\" class=\"dataframe\">\n  <thead>\n    <tr style=\"text-align: right;\">\n      <th></th>\n      <th>filename</th>\n      <th>R.R</th>\n      <th>caries</th>\n      <th>crown</th>\n      <th>endo</th>\n      <th>...</th>\n      <th>filling</th>\n      <th>Imp</th>\n      <th>embedded</th>\n      <th>impacted</th>\n      <th>missing</th>\n    </tr>\n  </thead>\n  <tbody>\n    <tr>\n      <th>0</th>\n      <td>00006145.jpg</td>\n      <td></td>\n      <td>25</td>\n      <td></td>\n      <td></td>\n      <td>...</td>\n      <td>24</td>\n      <td></td>\n      <td></td>\n      <td></td>\n      <td></td>\n    </tr>\n    <tr>\n      <th>1</th>\n      <td>00008026.jpg</td>\n      <td></td>\n      <td>46</td>\n      <td>11,12,21,22,26,32,36</td>\n      <td>11,21,36</td>\n      <td>...</td>\n      <td>17</td>\n      <td></td>\n      <td>38</td>\n      <td></td>\n      <td></td>\n    </tr>\n    <tr>\n      <th>2</th>\n      <td>00008075.jpg</td>\n      <td></td>\n      <td></td>\n      <td></td>\n      <td></td>\n      <td>...</td>\n      <td>36,37</td>\n      <td></td>\n      <td></td>\n      <td></td>\n      <td></td>\n    </tr>\n    <tr>\n      <th>3</th>\n      <td>00008113.jpg</td>\n      <td></td>\n      <td>11,12,41,35</td>\n      <td>36</td>\n      <td>36</td>\n      <td>...</td>\n      <td>14,15,16,17,22,24,25,26,27,37,38,46,47</td>\n      <td></td>\n      <td></td>\n      <td></td>\n      <td></td>\n    </tr>\n    <tr>\n      <th>4</th>\n      <td>00008117.jpg</td>\n      <td></td>\n      <td>16,24,26</td>\n      <td></td>\n      <td></td>\n      <td>...</td>\n      <td>27,46,47</td>\n      <td></td>\n      <td>38,48</td>\n      <td></td>\n      <td></td>\n    </tr>\n    <tr>\n      <th>5</th>\n      <td>00008131.jpg</td>\n      <td></td>\n      <td>15,17,34</td>\n      <td></td>\n      <td>44</td>\n      <td>...</td>\n      <td></td>\n      <td></td>\n      <td></td>\n      <td></td>\n      <td>36,37,46,47</td>\n    </tr>\n    <tr>\n      <th>6</th>\n      <td>00008136.jpg</td>\n      <td></td>\n      <td>16,17,44</td>\n      <td>32,33</td>\n      <td></td>\n      <td>...</td>\n      <td>28</td>\n      <td></td>\n      <td></td>\n      <td></td>\n      <td>34,35,36,37,45,46,47</td>\n    </tr>\n    <tr>\n      <th>7</th>\n      <td>00008137.jpg</td>\n      <td></td>\n      <td>22,26</td>\n      <td>36,37</td>\n      <td></td>\n      <td>...</td>\n      <td>27,31,34,41,44,45,47</td>\n      <td></td>\n      <td></td>\n      <td></td>\n      <td></td>\n    </tr>\n    <tr>\n      <th>8</th>\n      <td>00008140.jpg</td>\n      <td></td>\n      <td>16,21,45,47</td>\n      <td></td>\n      <td>11,21</td>\n      <td>...</td>\n      <td>16,21,25,27,28</td>\n      <td></td>\n      <td>18</td>\n      <td></td>\n      <td>36,37,46</td>\n    </tr>\n    <tr>\n      <th>9</th>\n      <td>00008145.jpg</td>\n      <td></td>\n      <td>27,34,45</td>\n      <td>46</td>\n      <td></td>\n      <td>...</td>\n      <td>16,26,27,47</td>\n      <td>46</td>\n      <td></td>\n      <td></td>\n      <td></td>\n    </tr>\n    <tr>\n      <th>11</th>\n      <td>00008154.jpg</td>\n      <td>37, 42</td>\n      <td></td>\n      <td>14,16,17,24,25,26,27,33,34,35,38</td>\n      <td>17,26,31,33,34,38,41,42,43,44</td>\n      <td>...</td>\n      <td>46,47</td>\n      <td></td>\n      <td></td>\n      <td></td>\n      <td>36,37,42</td>\n    </tr>\n    <tr>\n      <th>13</th>\n      <td>00008156.jpg</td>\n      <td></td>\n      <td>22,42,43</td>\n      <td>24,25,32</td>\n      <td>37,45,47</td>\n      <td>...</td>\n      <td></td>\n      <td>21,27</td>\n      <td></td>\n      <td></td>\n      <td>16,17,26,27,34,35,36,44,46</td>\n    </tr>\n    <tr>\n      <th>14</th>\n      <td>00008157.jpg</td>\n      <td></td>\n      <td>12,33</td>\n      <td>11,15,16,21,22,24,25,35,36</td>\n      <td>15</td>\n      <td>...</td>\n      <td>13,14,26,44,45,46</td>\n      <td></td>\n      <td></td>\n      <td></td>\n      <td></td>\n    </tr>\n    <tr>\n      <th>15</th>\n      <td>00008163.jpg</td>\n      <td></td>\n      <td></td>\n      <td></td>\n      <td>36</td>\n      <td>...</td>\n      <td>16,24,25,36,37,46,47</td>\n      <td></td>\n      <td></td>\n      <td>47</td>\n      <td></td>\n    </tr>\n    <tr>\n      <th>16</th>\n      <td>00008166.jpg</td>\n      <td></td>\n      <td>11,21,23,26,45,46</td>\n      <td></td>\n      <td></td>\n      <td>...</td>\n      <td>11,21,26</td>\n      <td></td>\n      <td>28,38</td>\n      <td></td>\n      <td>16,17,36</td>\n    </tr>\n    <tr>\n      <th>17</th>\n      <td>00008169.jpg</td>\n      <td></td>\n      <td>35</td>\n      <td></td>\n      <td></td>\n      <td>...</td>\n      <td>36,47</td>\n      <td></td>\n      <td></td>\n      <td></td>\n      <td>46</td>\n    </tr>\n    <tr>\n      <th>18</th>\n      <td>00008174.jpg</td>\n      <td></td>\n      <td></td>\n      <td></td>\n      <td></td>\n      <td>...</td>\n      <td>14,15,16,17,24,25,26,27,36,37,46,47</td>\n      <td></td>\n      <td>18,28,38,48</td>\n      <td></td>\n      <td></td>\n    </tr>\n    <tr>\n      <th>19</th>\n      <td>00008177.jpg</td>\n      <td></td>\n      <td>36,47</td>\n      <td></td>\n      <td></td>\n      <td>...</td>\n      <td>36,38,48</td>\n      <td></td>\n      <td></td>\n      <td></td>\n      <td></td>\n    </tr>\n    <tr>\n      <th>20</th>\n      <td>00008180.jpg</td>\n      <td></td>\n      <td></td>\n      <td>36</td>\n      <td></td>\n      <td>...</td>\n      <td>25,45,46,47</td>\n      <td></td>\n      <td></td>\n      <td></td>\n      <td></td>\n    </tr>\n    <tr>\n      <th>21</th>\n      <td>00008181.jpg</td>\n      <td></td>\n      <td>24</td>\n      <td>14,22,26,34</td>\n      <td>14,16,36</td>\n      <td>...</td>\n      <td>16,36,37,46,47</td>\n      <td></td>\n      <td></td>\n      <td></td>\n      <td></td>\n    </tr>\n    <tr>\n      <th>22</th>\n      <td>00008186.jpg</td>\n      <td></td>\n      <td></td>\n      <td></td>\n      <td></td>\n      <td>...</td>\n      <td>35,37</td>\n      <td></td>\n      <td></td>\n      <td></td>\n      <td>25,37,46</td>\n    </tr>\n    <tr>\n      <th>23</th>\n      <td>00008187.jpg</td>\n      <td>17</td>\n      <td>13,48</td>\n      <td></td>\n      <td></td>\n      <td>...</td>\n      <td>37</td>\n      <td></td>\n      <td></td>\n      <td></td>\n      <td>15,16,17,24,35,36</td>\n    </tr>\n    <tr>\n      <th>24</th>\n      <td>00008192.jpg</td>\n      <td></td>\n      <td></td>\n      <td></td>\n      <td></td>\n      <td>...</td>\n      <td></td>\n      <td></td>\n      <td>38</td>\n      <td></td>\n      <td></td>\n    </tr>\n    <tr>\n      <th>25</th>\n      <td>00008197.jpg</td>\n      <td>35</td>\n      <td>16</td>\n      <td></td>\n      <td></td>\n      <td>...</td>\n      <td></td>\n      <td></td>\n      <td>18,28,38,48</td>\n      <td></td>\n      <td>35</td>\n    </tr>\n    <tr>\n      <th>26</th>\n      <td>00008199.jpg</td>\n      <td></td>\n      <td></td>\n      <td>11,12,21,22,23</td>\n      <td>11,12,21,22</td>\n      <td>...</td>\n      <td>27,44,45</td>\n      <td>25,33,44,45,47</td>\n      <td></td>\n      <td></td>\n      <td>14,15,36,37</td>\n    </tr>\n    <tr>\n      <th>27</th>\n      <td>00008200.jpg</td>\n      <td></td>\n      <td>34,46</td>\n      <td></td>\n      <td></td>\n      <td>...</td>\n      <td>46</td>\n      <td></td>\n      <td></td>\n      <td></td>\n      <td></td>\n    </tr>\n    <tr>\n      <th>29</th>\n      <td>00008210.jpg</td>\n      <td></td>\n      <td></td>\n      <td>21</td>\n      <td>21</td>\n      <td>...</td>\n      <td>12,26,37,47</td>\n      <td></td>\n      <td></td>\n      <td></td>\n      <td>36,46</td>\n    </tr>\n    <tr>\n      <th>30</th>\n      <td>00008217.jpg</td>\n      <td>47</td>\n      <td>37</td>\n      <td></td>\n      <td></td>\n      <td>...</td>\n      <td></td>\n      <td></td>\n      <td>18,28</td>\n      <td></td>\n      <td>11,15,16,17,24,26,27,47</td>\n    </tr>\n    <tr>\n      <th>32</th>\n      <td>00008223.jpg</td>\n      <td></td>\n      <td></td>\n      <td></td>\n      <td></td>\n      <td>...</td>\n      <td>15,36,46</td>\n      <td></td>\n      <td></td>\n      <td></td>\n      <td>17,37,47</td>\n    </tr>\n    <tr>\n      <th>33</th>\n      <td>00008225.jpg</td>\n      <td></td>\n      <td></td>\n      <td></td>\n      <td>17</td>\n      <td>...</td>\n      <td>17,36,47</td>\n      <td></td>\n      <td></td>\n      <td>18,28,38,48</td>\n      <td>26,46</td>\n    </tr>\n  </tbody>\n</table>\n<p>30 rows × 11 columns</p>\n</div>"
     },
     "execution_count": 3,
     "metadata": {},
     "output_type": "execute_result"
    }
   ],
   "source": [
    "csv_data = data_dir / 'pano-report.csv'\n",
    "\n",
    "df = pd.read_csv(csv_data)\n",
    "df = df.replace('0', '')\n",
    "df = df.replace(0.0, '')\n",
    "df = df.drop('comment', axis=1)\n",
    "df.dropna(inplace=True)\n",
    "\n",
    "df = df[:32]\n",
    "df\n"
   ],
   "metadata": {
    "collapsed": false,
    "pycharm": {
     "name": "#%%\n"
    }
   }
  },
  {
   "cell_type": "code",
   "execution_count": 4,
   "outputs": [
    {
     "data": {
      "text/plain": "array([[0, 1, 0, 0, 0, 0, 0, 0, 1, 0],\n       [1, 0, 0, 0, 0, 0, 0, 0, 0, 0],\n       [0, 0, 0, 0, 0, 0, 0, 0, 0, 0]])"
     },
     "execution_count": 4,
     "metadata": {},
     "output_type": "execute_result"
    }
   ],
   "source": [
    "mlb = MultiLabelBinarizer()\n",
    "\n",
    "df_columns = df.columns[1:]\n",
    "x_for_possible = [(col_name, ) for col_name in df_columns]\n",
    "\n",
    "mlb.fit(x_for_possible)\n",
    "mlb.transform([['R.R', 'missing'], ['Imp'], []])\n",
    "# enc.transform(x_for_possible)\n"
   ],
   "metadata": {
    "collapsed": false,
    "pycharm": {
     "name": "#%%\n"
    }
   }
  },
  {
   "cell_type": "code",
   "execution_count": 5,
   "outputs": [
    {
     "data": {
      "text/plain": "[array([[0, 0, 0, 0, 0, 0, 0, 0, 0, 0],\n        [0, 0, 0, 0, 0, 0, 0, 0, 0, 0],\n        [0, 0, 0, 0, 0, 0, 0, 0, 0, 0],\n        [0, 0, 0, 0, 0, 0, 0, 0, 0, 0],\n        [0, 0, 0, 0, 0, 0, 0, 0, 0, 0],\n        [0, 0, 0, 0, 0, 0, 0, 0, 0, 0],\n        [0, 0, 0, 0, 0, 0, 0, 0, 0, 0],\n        [0, 0, 0, 0, 0, 0, 0, 0, 0, 0],\n        [0, 0, 0, 0, 0, 0, 0, 0, 0, 0],\n        [0, 0, 0, 0, 0, 0, 0, 0, 0, 0],\n        [0, 0, 0, 0, 0, 0, 0, 0, 0, 0],\n        [0, 0, 0, 0, 0, 0, 1, 0, 0, 0],\n        [0, 0, 1, 0, 0, 0, 0, 0, 0, 0],\n        [0, 0, 0, 0, 0, 0, 0, 0, 0, 0],\n        [0, 0, 0, 0, 0, 0, 0, 0, 0, 0],\n        [0, 0, 0, 0, 0, 0, 0, 0, 0, 0],\n        [0, 0, 0, 0, 0, 0, 0, 0, 0, 0],\n        [0, 0, 0, 0, 0, 0, 0, 0, 0, 0],\n        [0, 0, 0, 0, 0, 0, 0, 0, 0, 0],\n        [0, 0, 0, 0, 0, 0, 0, 0, 0, 0],\n        [0, 0, 0, 0, 0, 0, 0, 0, 0, 0],\n        [0, 0, 0, 0, 0, 0, 0, 0, 0, 0],\n        [0, 0, 0, 0, 0, 0, 0, 0, 0, 0],\n        [0, 0, 0, 0, 0, 0, 0, 0, 0, 0],\n        [0, 0, 0, 0, 0, 0, 0, 0, 0, 0],\n        [0, 0, 0, 0, 0, 0, 0, 0, 0, 0],\n        [0, 0, 0, 0, 0, 0, 0, 0, 0, 0],\n        [0, 0, 0, 0, 0, 0, 0, 0, 0, 0],\n        [0, 0, 0, 0, 0, 0, 0, 0, 0, 0],\n        [0, 0, 0, 0, 0, 0, 0, 0, 0, 0],\n        [0, 0, 0, 0, 0, 0, 0, 0, 0, 0],\n        [0, 0, 0, 0, 0, 0, 0, 0, 0, 0]]),\n array([[0, 0, 0, 1, 0, 1, 0, 0, 0, 1],\n        [0, 0, 0, 1, 0, 0, 0, 0, 0, 0],\n        [0, 0, 0, 0, 0, 0, 0, 0, 0, 0],\n        [0, 0, 0, 0, 0, 0, 0, 0, 0, 0],\n        [0, 0, 0, 0, 0, 0, 0, 0, 0, 0],\n        [0, 0, 0, 0, 0, 0, 0, 0, 0, 0],\n        [0, 0, 0, 0, 0, 0, 1, 0, 0, 0],\n        [0, 0, 0, 0, 0, 0, 0, 0, 0, 0],\n        [0, 0, 0, 1, 0, 1, 0, 0, 0, 1],\n        [0, 0, 0, 1, 0, 0, 0, 0, 0, 0],\n        [0, 0, 0, 0, 0, 0, 0, 0, 0, 0],\n        [0, 0, 0, 0, 0, 0, 0, 0, 0, 0],\n        [0, 0, 0, 0, 0, 0, 0, 0, 0, 0],\n        [0, 0, 0, 1, 0, 0, 0, 0, 0, 0],\n        [0, 0, 0, 0, 0, 0, 0, 0, 0, 0],\n        [0, 0, 0, 0, 0, 0, 0, 0, 0, 0],\n        [0, 0, 0, 0, 0, 0, 0, 0, 0, 0],\n        [0, 0, 0, 1, 0, 0, 0, 0, 0, 0],\n        [0, 0, 0, 0, 0, 0, 0, 0, 0, 0],\n        [0, 0, 0, 0, 0, 0, 0, 0, 0, 0],\n        [0, 0, 0, 0, 0, 0, 0, 0, 0, 0],\n        [0, 0, 0, 1, 0, 1, 0, 0, 0, 1],\n        [0, 0, 0, 0, 0, 0, 0, 0, 0, 0],\n        [0, 0, 0, 0, 1, 0, 0, 0, 0, 0],\n        [0, 0, 0, 0, 0, 0, 0, 0, 0, 0],\n        [0, 0, 0, 0, 0, 0, 0, 0, 0, 0],\n        [0, 0, 0, 0, 0, 0, 0, 0, 0, 0],\n        [0, 0, 0, 0, 0, 0, 0, 0, 0, 0],\n        [0, 0, 0, 0, 0, 0, 0, 0, 0, 0],\n        [0, 0, 1, 0, 0, 0, 0, 0, 0, 0],\n        [0, 0, 0, 0, 0, 0, 0, 0, 0, 0],\n        [0, 0, 0, 0, 0, 0, 0, 0, 0, 0]])]"
     },
     "execution_count": 5,
     "metadata": {},
     "output_type": "execute_result"
    }
   ],
   "source": [
    "teeth_number_possible = [[i * 10 + j for j in range(1, 9)] for i in range(1, 5)]\n",
    "teeth_number_possible = np.hstack(teeth_number_possible).tolist()\n",
    "# teeth_number_possible = teeth_number_possible.reshape(-1, 1)\n",
    "\n",
    "y_encode = []\n",
    "tooth_idx_dict = {tooth_number:idx for idx, tooth_number in enumerate(teeth_number_possible)}\n",
    "for index, row in df.iterrows():\n",
    "    temp = [[] for _ in teeth_number_possible]\n",
    "\n",
    "    for col_name in df_columns:\n",
    "        class_tooth = row[col_name]\n",
    "        class_tooth = class_tooth.split(',') if class_tooth else []\n",
    "        class_tooth = list(map(int, class_tooth))\n",
    "\n",
    "        for tooth_number in class_tooth:\n",
    "            idx = tooth_idx_dict[tooth_number]\n",
    "            temp[idx].append(col_name)\n",
    "\n",
    "    y_encode.append(mlb.transform(temp))\n",
    "\n",
    "y_encode[:2]\n"
   ],
   "metadata": {
    "collapsed": false,
    "pycharm": {
     "name": "#%%\n"
    }
   }
  },
  {
   "cell_type": "code",
   "execution_count": 6,
   "outputs": [
    {
     "ename": "KeyError",
     "evalue": "50",
     "output_type": "error",
     "traceback": [
      "\u001B[1;31m---------------------------------------------------------------------------\u001B[0m",
      "\u001B[1;31mKeyError\u001B[0m                                  Traceback (most recent call last)",
      "\u001B[1;32m<ipython-input-6-4c55e818e501>\u001B[0m in \u001B[0;36m<module>\u001B[1;34m\u001B[0m\n\u001B[0;32m      3\u001B[0m \u001B[0mimage_names\u001B[0m \u001B[1;33m=\u001B[0m \u001B[0mimage_names\u001B[0m\u001B[1;33m.\u001B[0m\u001B[0mtolist\u001B[0m\u001B[1;33m(\u001B[0m\u001B[1;33m)\u001B[0m\u001B[1;33m\u001B[0m\u001B[1;33m\u001B[0m\u001B[0m\n\u001B[0;32m      4\u001B[0m \u001B[1;33m\u001B[0m\u001B[0m\n\u001B[1;32m----> 5\u001B[1;33m \u001B[0manomaly_dict\u001B[0m \u001B[1;33m=\u001B[0m \u001B[0mmain\u001B[0m\u001B[1;33m(\u001B[0m\u001B[0mimage_names\u001B[0m\u001B[1;33m,\u001B[0m \u001B[0miou_threshold\u001B[0m\u001B[1;33m=\u001B[0m\u001B[1;36m0.3\u001B[0m\u001B[1;33m)\u001B[0m\u001B[1;33m\u001B[0m\u001B[1;33m\u001B[0m\u001B[0m\n\u001B[0m\u001B[0;32m      6\u001B[0m \u001B[0my_predict\u001B[0m \u001B[1;33m=\u001B[0m \u001B[1;33m[\u001B[0m\u001B[1;33m]\u001B[0m\u001B[1;33m\u001B[0m\u001B[1;33m\u001B[0m\u001B[0m\n\u001B[0;32m      7\u001B[0m \u001B[1;33m\u001B[0m\u001B[0m\n",
      "\u001B[1;32mE:\\Codes\\PycharmProjects\\dentist-CV-main\\utils\\core.py\u001B[0m in \u001B[0;36mmain\u001B[1;34m(image_names, iou_threshold)\u001B[0m\n\u001B[0;32m    202\u001B[0m                 \u001B[1;32mif\u001B[0m \u001B[0mtooth_number_candidate\u001B[0m\u001B[1;33m:\u001B[0m\u001B[1;33m\u001B[0m\u001B[1;33m\u001B[0m\u001B[0m\n\u001B[0;32m    203\u001B[0m                     \u001B[0mtooth_number\u001B[0m\u001B[1;33m,\u001B[0m \u001B[0mtooth_iou\u001B[0m \u001B[1;33m=\u001B[0m \u001B[0mmax\u001B[0m\u001B[1;33m(\u001B[0m\u001B[0mtooth_number_candidate\u001B[0m\u001B[1;33m,\u001B[0m \u001B[0mkey\u001B[0m\u001B[1;33m=\u001B[0m\u001B[1;32mlambda\u001B[0m \u001B[0mt\u001B[0m\u001B[1;33m:\u001B[0m \u001B[0mt\u001B[0m\u001B[1;33m[\u001B[0m\u001B[1;36m1\u001B[0m\u001B[1;33m]\u001B[0m\u001B[1;33m)\u001B[0m\u001B[1;33m\u001B[0m\u001B[1;33m\u001B[0m\u001B[0m\n\u001B[1;32m--> 204\u001B[1;33m                     \u001B[0mtooth_anomaly_dict\u001B[0m\u001B[1;33m[\u001B[0m\u001B[0mcurrent_filename\u001B[0m\u001B[1;33m]\u001B[0m\u001B[1;33m[\u001B[0m\u001B[0mtooth_number\u001B[0m\u001B[1;33m]\u001B[0m\u001B[1;33m.\u001B[0m\u001B[0madd\u001B[0m\u001B[1;33m(\u001B[0m\u001B[0mname\u001B[0m\u001B[1;33m)\u001B[0m\u001B[1;33m\u001B[0m\u001B[1;33m\u001B[0m\u001B[0m\n\u001B[0m\u001B[0;32m    205\u001B[0m \u001B[1;33m\u001B[0m\u001B[0m\n\u001B[0;32m    206\u001B[0m     \u001B[1;32mfor\u001B[0m \u001B[0mpair\u001B[0m \u001B[1;32min\u001B[0m \u001B[0mmissing_tooth\u001B[0m\u001B[1;33m:\u001B[0m\u001B[1;33m\u001B[0m\u001B[1;33m\u001B[0m\u001B[0m\n",
      "\u001B[1;31mKeyError\u001B[0m: 50"
     ]
    }
   ],
   "source": [
    "image_names = df['filename']\n",
    "image_names = image_names.apply(lambda s: data_dir / 'phase-2' / s)\n",
    "image_names = image_names.tolist()\n",
    "\n",
    "anomaly_dict = main(image_names, iou_threshold=0.3)\n",
    "y_predict = []\n",
    "\n",
    "for filename in df['filename']:\n",
    "    teeth = anomaly_dict[filename[:-4]]\n",
    "\n",
    "    temp = [[] for _ in teeth_number_possible]\n",
    "    for tooth_number, anomalies in teeth.items():\n",
    "        try:\n",
    "            idx = tooth_idx_dict[tooth_number]\n",
    "        except KeyError:\n",
    "            continue\n",
    "\n",
    "        temp[idx] = list(anomalies)\n",
    "\n",
    "    y_predict.append(mlb.transform(temp))\n",
    "\n",
    "y_predict[:2]\n"
   ],
   "metadata": {
    "collapsed": false,
    "pycharm": {
     "name": "#%%\n"
    }
   }
  },
  {
   "cell_type": "code",
   "execution_count": null,
   "outputs": [],
   "source": [
    "len(y_predict)\n"
   ],
   "metadata": {
    "collapsed": false,
    "pycharm": {
     "name": "#%%\n"
    }
   }
  },
  {
   "cell_type": "code",
   "execution_count": null,
   "outputs": [],
   "source": [
    "y_predict_sum = np.vstack([np.sum(i, axis=0) for i in y_predict])\n",
    "y_encode_sum = np.vstack([np.sum(i, axis=0) for i in y_encode])\n",
    "\n",
    "# np.r_[mlb.classes_.reshape((1, 10)), y_encode_sum - y_predict_sum]\n",
    "np.c_[np.r_[[0], df['filename'].to_numpy()], np.r_[mlb.classes_.reshape((1, 10)), y_encode_sum - y_predict_sum]]\n",
    "# mlb.inverse_transform(y_encode[0])\n",
    "# mlb.classes_.shape\n",
    "# (y_encode_sum - y_predict_sum).shape\n"
   ],
   "metadata": {
    "collapsed": false,
    "pycharm": {
     "name": "#%%\n"
    }
   }
  },
  {
   "cell_type": "code",
   "execution_count": null,
   "outputs": [],
   "source": [
    "y_encode_stack = np.vstack(y_encode)\n",
    "y_predict_stack = np.vstack(y_predict)\n",
    "\n",
    "acc = accuracy_score(y_encode_stack, y_predict_stack)\n",
    "precision = precision_score(y_encode_stack, y_predict_stack, average=None)\n",
    "recall = recall_score(y_encode_stack, y_predict_stack, average=None)\n",
    "f1 = f1_score(y_encode_stack, y_predict_stack, average=None)\n",
    "\n",
    "np.c_[mlb.classes_, precision, recall, f1]\n",
    "# acc\n"
   ],
   "metadata": {
    "collapsed": false,
    "pycharm": {
     "name": "#%%\n"
    }
   }
  }
 ],
 "metadata": {
  "kernelspec": {
   "display_name": "Python 3",
   "language": "python",
   "name": "python3"
  },
  "language_info": {
   "codemirror_mode": {
    "name": "ipython",
    "version": 2
   },
   "file_extension": ".py",
   "mimetype": "text/x-python",
   "name": "python",
   "nbconvert_exporter": "python",
   "pygments_lexer": "ipython2",
   "version": "2.7.6"
  }
 },
 "nbformat": 4,
 "nbformat_minor": 0
}